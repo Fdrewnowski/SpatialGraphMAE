{
 "cells": [
  {
   "cell_type": "markdown",
   "id": "curious-chuck",
   "metadata": {},
   "source": [
    "# Import libs\n"
   ]
  },
  {
   "cell_type": "code",
   "execution_count": 1,
   "id": "temporal-donna",
   "metadata": {},
   "outputs": [
    {
     "name": "stderr",
     "output_type": "stream",
     "text": [
      "Using backend: pytorch\n"
     ]
    }
   ],
   "source": [
    "import osmnx as ox\n",
    "import networkx as nx\n",
    "import folium\n",
    "from tqdm import tqdm\n",
    "\n",
    "#From paper\n",
    "from collections import namedtuple, Counter\n",
    "import numpy as np\n",
    "\n",
    "import torch\n",
    "import torch.nn.functional as F\n",
    " \n",
    "\n",
    "import dgl\n",
    "from dgl.data import (\n",
    "    load_data, \n",
    "    TUDataset, \n",
    "    CoraGraphDataset, \n",
    "    CiteseerGraphDataset, \n",
    "    PubmedGraphDataset\n",
    ")\n",
    "#from ogb.nodeproppred import DglNodePropPredDataset not needed\n",
    "from dgl.data.ppi import PPIDataset\n",
    "from dgl.dataloading import GraphDataLoader\n",
    "\n",
    "from sklearn.preprocessing import StandardScaler\n",
    "from typing import Tuple, List, Dict"
   ]
  },
  {
   "cell_type": "code",
   "execution_count": 146,
   "id": "dietary-refrigerator",
   "metadata": {},
   "outputs": [],
   "source": [
    "from networkx.classes.multidigraph import MultiDiGraph\n",
    "from dgl.heterograph import DGLHeteroGraph\n",
    "import random\n",
    "\n",
    "from sklearn.preprocessing import StandardScaler"
   ]
  },
  {
   "cell_type": "code",
   "execution_count": 2,
   "id": "generous-myanmar",
   "metadata": {},
   "outputs": [],
   "source": [
    "import copy"
   ]
  },
  {
   "cell_type": "markdown",
   "id": "missing-enhancement",
   "metadata": {},
   "source": [
    "# Load data"
   ]
  },
  {
   "cell_type": "code",
   "execution_count": 112,
   "id": "recent-identification",
   "metadata": {},
   "outputs": [],
   "source": [
    "wroclaw_2020_path = \"../osmnx-extractor/graphml_files/europe_poland_Wroclaw_2020_v3.xml\"\n",
    "wroclaw_2020 = ox.io.load_graphml(wroclaw_2020_path)"
   ]
  },
  {
   "cell_type": "markdown",
   "id": "mineral-oxygen",
   "metadata": {},
   "source": [
    "# Process data\n"
   ]
  },
  {
   "cell_type": "code",
   "execution_count": 113,
   "id": "attached-baghdad",
   "metadata": {},
   "outputs": [],
   "source": [
    "def encode_data(graph_nx: MultiDiGraph, selected_keys: List = [], default_values: Dict = {}, onehot_key : Dict = {}) -> MultiDiGraph:\n",
    "    graph_nx_copy = graph_nx.copy()\n",
    "    for edge in graph_nx.edges():\n",
    "        for connection in graph_nx[edge[0]][edge[1]].keys():\n",
    "            graph_edge = graph_nx_copy[edge[0]][edge[1]][connection]\n",
    "            for key in selected_keys:\n",
    "                #decide if key exists if not create\n",
    "                if key in graph_edge.keys():\n",
    "                    # if value of edge key is a list take first element\n",
    "                    if type(graph_edge[key]) == list:\n",
    "                        graph_edge[key] = graph_edge[key][0]\n",
    "                    \n",
    "                    if key in onehot_key.keys():\n",
    "                        if graph_edge[key] in onehot_key[key].keys():\n",
    "                            graph_edge[key] = onehot_key[key][graph_edge[key]]\n",
    "                        else:\n",
    "                            if key in default_values.keys():\n",
    "                                graph_edge[key] = default_values[key]\n",
    "                            else:\n",
    "                                graph_edge[key] = 0\n",
    "                                \n",
    "                    if type(graph_edge[key]) == str:\n",
    "                        try:\n",
    "                            graph_edge[key] = float(graph_edge[key])\n",
    "                        except ValueError as e:\n",
    "                            graph_edge[key] = 0.0\n",
    "                            \n",
    "                else:\n",
    "                    #create key with default values or set to 0\n",
    "                    if key in default_values.keys():\n",
    "                        graph_edge[key] = default_values[key]\n",
    "                    else:\n",
    "                        graph_edge[key] = 0\n",
    "    return graph_nx_copy"
   ]
  },
  {
   "cell_type": "code",
   "execution_count": 114,
   "id": "flush-victor",
   "metadata": {},
   "outputs": [],
   "source": [
    "selected_keys = ['oneway', 'lanes', 'highway', 'maxspeed',\n",
    "                 'length', 'access', 'bridge', 'junction',\n",
    "                 'width', 'service', 'tunnel'] # not used 'cycleway', 'bycycle']\n",
    "default_values = {'oneway': False, 'lanes': 2, 'highway': 11, 'maxspeed': 50,\n",
    "                 'length':0, 'access':6, 'bridge': 0, 'junction': 0,\n",
    "                 'width':2, 'service':0, 'tunnel':0}\n",
    "highway_coding = {'highway': {'primary':0, 'unclassified':1, 'tertiary_link':2, 'secondary':3,\n",
    "                      'residential':4, 'track':5, 'service':6, 'trunk':7, 'tertiary':8,\n",
    "                      'primary_link':9, 'pedestrian':10, 'path':11, 'living_street':12,\n",
    "                      'trunk_link':13, 'cycleway':14, 'bridleway':15, 'secondary_link':16},\n",
    "                  'access':{'customers':0, 'delivery':1, 'designated':2, 'destination':3,\n",
    "                      'emergency':4, 'military':5, 'no':6, 'permissive':7,'permit':8, 'yes':9},\n",
    "                  'bridge':{'1':1, 'viaduct':1, 'yes':1},\n",
    "                  'junction':{ 'yes':1, 'roundabout':2, 'y_junction':3,},\n",
    "                  'tunnel': {'yes':1, 'building_passage': 2, 'passage':3 },\n",
    "                  'service': {'alley':1, 'bus':2, 'drive-through':3, 'driveway':4,\n",
    "                      'emergency_access':5, 'ground':6, 'parking_aisle':7, 'spur':8}}"
   ]
  },
  {
   "cell_type": "code",
   "execution_count": 115,
   "id": "boring-tradition",
   "metadata": {},
   "outputs": [],
   "source": [
    "wroclaw_2020_encoded = encode_data(wroclaw_2020, selected_keys, default_values, highway_coding)"
   ]
  },
  {
   "cell_type": "code",
   "execution_count": 116,
   "id": "illegal-difference",
   "metadata": {},
   "outputs": [],
   "source": [
    "def get_all_key_and_unique_values(graph_nx: MultiDiGraph, selected_keys: Dict = {}) -> Dict:\n",
    "    seen_values = {}\n",
    "    if not selected_keys:\n",
    "        selected_keys = ['oneway', 'lanes', 'highway', 'maxspeed',\n",
    "                         'length', 'access', 'bridge', 'junction',\n",
    "                         'width', 'service', 'tunnel', 'cycleway', 'bycycle']\n",
    "\n",
    "    #get all values by selected key for each edge\n",
    "    for edge in graph_nx.edges():\n",
    "        for connection in graph_nx[edge[0]][edge[1]].keys():\n",
    "            for key, val in graph_nx[edge[0]][edge[1]][connection].items():\n",
    "                if key in selected_keys:\n",
    "                    if key not in seen_values:\n",
    "                        seen_values[key] = [val]\n",
    "                    else:\n",
    "                        if type(val) == list:\n",
    "                            seen_values[key].extend(val)\n",
    "                        else:\n",
    "                            seen_values[key].extend([val])\n",
    "\n",
    "\n",
    "    for key in seen_values.keys():\n",
    "        seen_values[key] = set(seen_values[key])\n",
    "    return seen_values"
   ]
  },
  {
   "cell_type": "code",
   "execution_count": 117,
   "id": "sporting-peninsula",
   "metadata": {},
   "outputs": [
    {
     "data": {
      "text/plain": [
       "{0, 1, 2, 3, 4, 5, 6, 7, 8, 9, 10, 11, 12, 13, 14, 15, 16}"
      ]
     },
     "execution_count": 117,
     "metadata": {},
     "output_type": "execute_result"
    }
   ],
   "source": [
    "seen_values = get_all_key_and_unique_values(wroclaw_2020_encoded)\n",
    "seen_values['highway']"
   ]
  },
  {
   "cell_type": "code",
   "execution_count": 118,
   "id": "bored-envelope",
   "metadata": {},
   "outputs": [],
   "source": [
    "def generate_cycle_label(graph_nx: MultiDiGraph, highway_coding: Dict = {}) -> MultiDiGraph:\n",
    "    graph_nx_copy = graph_nx.copy()\n",
    "    for edge in graph_nx.edges():\n",
    "        for connection in graph_nx[edge[0]][edge[1]].keys():\n",
    "            for key, val in graph_nx[edge[0]][edge[1]][connection].items():\n",
    "                graph_edge = graph_nx_copy[edge[0]][edge[1]][connection]\n",
    "                road_type = graph_edge['highway']\n",
    "                if road_type == 14:\n",
    "                    graph_edge['label'] = 1\n",
    "                else:\n",
    "                    graph_edge['label'] = 0\n",
    "    return graph_nx_copy\n"
   ]
  },
  {
   "cell_type": "code",
   "execution_count": 119,
   "id": "worthy-ethiopia",
   "metadata": {},
   "outputs": [],
   "source": [
    "wroclaw_2020_labels = generate_cycle_label(wroclaw_2020_encoded, highway_coding['highway'])"
   ]
  },
  {
   "cell_type": "code",
   "execution_count": 120,
   "id": "amazing-wheel",
   "metadata": {},
   "outputs": [
    {
     "data": {
      "text/plain": [
       "AtlasView({0: {'osmid': 28458110, 'oneway': True, 'lanes': 2.0, 'ref': '94', 'name': 'Aleja Armii Krajowej', 'highway': 0, 'maxspeed': 50.0, 'length': 12.949, 'access': 6, 'bridge': 0, 'junction': 0, 'width': 2, 'service': 0, 'tunnel': 0, 'label': 0}})"
      ]
     },
     "execution_count": 120,
     "metadata": {},
     "output_type": "execute_result"
    }
   ],
   "source": [
    "wroclaw_2020_labels[95584835][6152142174]"
   ]
  },
  {
   "cell_type": "code",
   "execution_count": 128,
   "id": "combined-bloom",
   "metadata": {},
   "outputs": [],
   "source": [
    "def convert_nx_to_dgl_as_linegraph(graph_nx: MultiDiGraph, selected_keys : List = []) -> DGLHeteroGraph:\n",
    "    graph_dgl = dgl.from_networkx(graph_nx, edge_attrs = (selected_keys + ['label']))\n",
    "    graph_dgl_line_graph = dgl.line_graph(graph_dgl)\n",
    "    #populate linegraph with nodes\n",
    "    \n",
    "    features_to_line_graph = [graph_dgl.edata[key] for key in selected_keys]\n",
    "    \n",
    "    graph_dgl_line_graph.ndata['feat'] = torch.cat(features_to_line_graph).reshape((-1, len(selected_keys)))\n",
    "    graph_dgl_line_graph.ndata['label'] = graph_dgl.edata['label']\n",
    "    return graph_dgl_line_graph\n",
    "    "
   ]
  },
  {
   "cell_type": "code",
   "execution_count": 136,
   "id": "extra-defense",
   "metadata": {},
   "outputs": [
    {
     "data": {
      "text/plain": [
       "Graph(num_nodes=113802, num_edges=319881,\n",
       "      ndata_schemes={'feat': Scheme(shape=(13,), dtype=torch.float32), 'label': Scheme(shape=(), dtype=torch.int64)}\n",
       "      edata_schemes={})"
      ]
     },
     "execution_count": 136,
     "metadata": {},
     "output_type": "execute_result"
    }
   ],
   "source": [
    "wroclaw_2020_dgl = convert_nx_to_dgl_as_linegraph(wroclaw_2020_labels, selected_keys)\n",
    "wroclaw_2020_dgl"
   ]
  },
  {
   "cell_type": "markdown",
   "id": "polar-perfume",
   "metadata": {},
   "source": [
    "# Test on 2014"
   ]
  },
  {
   "cell_type": "code",
   "execution_count": 135,
   "id": "requested-miracle",
   "metadata": {},
   "outputs": [
    {
     "data": {
      "text/plain": [
       "Graph(num_nodes=42745, num_edges=121144,\n",
       "      ndata_schemes={'feat': Scheme(shape=(13,), dtype=torch.float32), 'label': Scheme(shape=(), dtype=torch.int64)}\n",
       "      edata_schemes={})"
      ]
     },
     "execution_count": 135,
     "metadata": {},
     "output_type": "execute_result"
    }
   ],
   "source": [
    "wroclaw_2014_path = \"../osmnx-extractor/graphml_files/europe_poland_Wroclaw_2014_v3.xml\"\n",
    "wroclaw_2014 = ox.io.load_graphml(wroclaw_2014_path)\n",
    "wroclaw_2014_encoded = encode_data(wroclaw_2014, selected_keys, default_values, highway_coding)\n",
    "wroclaw_2014_labels = generate_cycle_label(wroclaw_2014_encoded, highway_coding['highway'])\n",
    "wroclaw_2014_dgl = convert_nx_to_dgl_as_linegraph(wroclaw_2014_labels, selected_keys)\n",
    "wroclaw_2014_dgl"
   ]
  },
  {
   "cell_type": "markdown",
   "id": "dirty-amino",
   "metadata": {},
   "source": [
    "# ADD train, val, test MASK\n",
    "Mask size coefs taken from dataset Cora"
   ]
  },
  {
   "cell_type": "code",
   "execution_count": 139,
   "id": "toxic-scottish",
   "metadata": {},
   "outputs": [],
   "source": [
    "def get_random_split(number_of_nodes, train_size_coef = 0.05, val_size_coef = 0.18, test_size_coef = 0.37):\n",
    "    split_idx = {}\n",
    "    train_size = int(number_of_nodes * train_size_coef)\n",
    "    val_size = int(number_of_nodes * val_size_coef)\n",
    "    test_size = int(number_of_nodes * test_size_coef)\n",
    "    split_idx['train'] = random.sample(range(0, number_of_nodes), train_size)\n",
    "    split_idx['train'].sort()\n",
    "    split_idx['valid'] = random.sample(range(0, number_of_nodes), val_size)\n",
    "    split_idx['valid'].sort()\n",
    "    split_idx['test'] = random.sample(range(0, number_of_nodes), test_size)\n",
    "    split_idx['test'].sort()\n",
    "    \n",
    "    return split_idx"
   ]
  },
  {
   "cell_type": "code",
   "execution_count": 140,
   "id": "rotary-variable",
   "metadata": {},
   "outputs": [],
   "source": [
    "def scale_feats(x):\n",
    "    scaler = StandardScaler()\n",
    "    feats = x.numpy()\n",
    "    scaler.fit(feats)\n",
    "    feats = torch.from_numpy(scaler.transform(feats)).float()\n",
    "    return feats, scaler"
   ]
  },
  {
   "cell_type": "code",
   "execution_count": 141,
   "id": "enhanced-bacon",
   "metadata": {},
   "outputs": [],
   "source": [
    "def preprocess(graph):\n",
    "    feat = graph.ndata[\"feat\"]\n",
    "    #graph = dgl.to_bidirected(graph)\n",
    "    graph.ndata[\"feat\"] = feat\n",
    "\n",
    "    graph = graph.remove_self_loop().add_self_loop()\n",
    "    graph.create_formats_()\n",
    "    return graph"
   ]
  },
  {
   "cell_type": "code",
   "execution_count": 148,
   "id": "organic-testing",
   "metadata": {},
   "outputs": [],
   "source": [
    "def create_mask(graph: DGLHeteroGraph) -> Tuple[DGLHeteroGraph, list, StandardScaler]: \n",
    "    num_nodes = graph.num_nodes()\n",
    "\n",
    "    split_idx = get_random_split(num_nodes)\n",
    "    train_idx, val_idx, test_idx = split_idx[\"train\"], split_idx[\"valid\"], split_idx[\"test\"]\n",
    "    graph = preprocess(graph)\n",
    "\n",
    "    if not torch.is_tensor(train_idx):\n",
    "        train_idx = torch.as_tensor(train_idx)\n",
    "        val_idx = torch.as_tensor(val_idx)\n",
    "        test_idx = torch.as_tensor(test_idx)\n",
    "\n",
    "    feat = graph.ndata[\"feat\"]\n",
    "    feat, scaler = scale_feats(feat)\n",
    "    graph.ndata[\"feat\"] = feat\n",
    "\n",
    "    train_mask = torch.full((num_nodes,), False).index_fill_(0, train_idx, True)\n",
    "    val_mask = torch.full((num_nodes,), False).index_fill_(0, val_idx, True)\n",
    "    test_mask = torch.full((num_nodes,), False).index_fill_(0, test_idx, True)\n",
    "    graph.ndata[\"train_mask\"], graph.ndata[\"val_mask\"], graph.ndata[\"test_mask\"] = train_mask, val_mask, test_mask\n",
    "    num_features = graph.ndata[\"feat\"].shape[1]\n",
    "    num_classes = 2\n",
    "    return graph, (num_features, num_classes), scaler"
   ]
  },
  {
   "cell_type": "code",
   "execution_count": 149,
   "id": "written-specification",
   "metadata": {},
   "outputs": [],
   "source": [
    "wro_2020_with_masks, elem_20, scaler_20 = create_mask(wroclaw_2020_dgl)"
   ]
  },
  {
   "cell_type": "code",
   "execution_count": 150,
   "id": "adjacent-accountability",
   "metadata": {},
   "outputs": [],
   "source": [
    "wro_2014_with_masks, elem_14, scaler_14 = create_mask(wroclaw_2014_dgl)"
   ]
  },
  {
   "cell_type": "code",
   "execution_count": 153,
   "id": "identified-oklahoma",
   "metadata": {},
   "outputs": [],
   "source": [
    "from dgl.data.utils import save_graphs\n",
    "save_graphs(\"./wro_14_20_masks.graph\", [wro_2014_with_masks, wro_2020_with_masks])"
   ]
  },
  {
   "cell_type": "code",
   "execution_count": 154,
   "id": "copyrighted-premiere",
   "metadata": {},
   "outputs": [],
   "source": [
    "import pickle\n",
    "\n",
    "with open('standardScaler_14_20.pkl', 'wb+') as handle:\n",
    "    pickle.dump([scaler_14, scaler_20], handle, protocol=pickle.HIGHEST_PROTOCOL)"
   ]
  },
  {
   "cell_type": "code",
   "execution_count": null,
   "id": "median-plain",
   "metadata": {},
   "outputs": [],
   "source": []
  },
  {
   "cell_type": "code",
   "execution_count": 151,
   "id": "static-watch",
   "metadata": {},
   "outputs": [
    {
     "name": "stdout",
     "output_type": "stream",
     "text": [
      "Train: (tensor([False,  True]), tensor([108112,   5690]))\n",
      "Val: (tensor([False,  True]), tensor([93318, 20484]))\n",
      "Test: (tensor([False,  True]), tensor([71696, 42106]))\n"
     ]
    }
   ],
   "source": [
    "print(\"Train:\", wro_2020_with_masks.ndata[\"train_mask\"].unique(return_counts=True))\n",
    "print(\"Val:\", wro_2020_with_masks.ndata[\"val_mask\"].unique(return_counts=True))\n",
    "print(\"Test:\", wro_2020_with_masks.ndata[\"test_mask\"].unique(return_counts=True))"
   ]
  },
  {
   "cell_type": "code",
   "execution_count": 152,
   "id": "nearby-calcium",
   "metadata": {},
   "outputs": [
    {
     "name": "stdout",
     "output_type": "stream",
     "text": [
      "Train: (tensor([False,  True]), tensor([40608,  2137]))\n",
      "Val: (tensor([False,  True]), tensor([35051,  7694]))\n",
      "Test: (tensor([False,  True]), tensor([26930, 15815]))\n"
     ]
    }
   ],
   "source": [
    "print(\"Train:\", wro_2014_with_masks.ndata[\"train_mask\"].unique(return_counts=True))\n",
    "print(\"Val:\", wro_2014_with_masks.ndata[\"val_mask\"].unique(return_counts=True))\n",
    "print(\"Test:\", wro_2014_with_masks.ndata[\"test_mask\"].unique(return_counts=True))"
   ]
  },
  {
   "cell_type": "code",
   "execution_count": null,
   "id": "missing-variance",
   "metadata": {},
   "outputs": [],
   "source": []
  }
 ],
 "metadata": {
  "kernelspec": {
   "display_name": "Python 3",
   "language": "python",
   "name": "python3"
  },
  "language_info": {
   "codemirror_mode": {
    "name": "ipython",
    "version": 3
   },
   "file_extension": ".py",
   "mimetype": "text/x-python",
   "name": "python",
   "nbconvert_exporter": "python",
   "pygments_lexer": "ipython3",
   "version": "3.8.8"
  }
 },
 "nbformat": 4,
 "nbformat_minor": 5
}
