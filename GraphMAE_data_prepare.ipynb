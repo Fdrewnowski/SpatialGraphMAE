{
 "cells": [
  {
   "cell_type": "markdown",
   "id": "curious-chuck",
   "metadata": {},
   "source": [
    "# Import libs\n"
   ]
  },
  {
   "cell_type": "code",
   "execution_count": null,
   "id": "temporal-donna",
   "metadata": {},
   "outputs": [],
   "source": [
    "import osmnx as ox\n",
    "import networkx as nx\n",
    "import folium\n",
    "from tqdm import tqdm\n",
    "\n",
    "#From paper\n",
    "from collections import namedtuple, Counter\n",
    "import numpy as np\n",
    "\n",
    "import torch\n",
    "import torch.nn.functional as F\n",
    " \n",
    "\n",
    "import dgl\n",
    "from dgl.data import (\n",
    "    load_data, \n",
    "    TUDataset, \n",
    "    CoraGraphDataset, \n",
    "    CiteseerGraphDataset, \n",
    "    PubmedGraphDataset\n",
    ")\n",
    "#from ogb.nodeproppred import DglNodePropPredDataset not needed\n",
    "from dgl.data.ppi import PPIDataset\n",
    "from dgl.dataloading import GraphDataLoader\n",
    "\n",
    "from sklearn.preprocessing import StandardScaler\n",
    "from typing import Tuple, List, Dict"
   ]
  },
  {
   "cell_type": "code",
   "execution_count": null,
   "id": "dietary-refrigerator",
   "metadata": {},
   "outputs": [],
   "source": [
    "from networkx.classes.multidigraph import MultiDiGraph\n",
    "from dgl.heterograph import DGLHeteroGraph\n",
    "import random\n",
    "\n",
    "from sklearn.preprocessing import StandardScaler"
   ]
  },
  {
   "cell_type": "code",
   "execution_count": null,
   "id": "generous-myanmar",
   "metadata": {},
   "outputs": [],
   "source": [
    "import copy"
   ]
  },
  {
   "cell_type": "markdown",
   "id": "missing-enhancement",
   "metadata": {},
   "source": [
    "# Load data"
   ]
  },
  {
   "cell_type": "code",
   "execution_count": null,
   "id": "recent-identification",
   "metadata": {},
   "outputs": [],
   "source": [
    "wroclaw_2020_path = \"../osmnx-extractor/graphml_files/europe_poland_Wroclaw_2020_v3.xml\"\n",
    "wroclaw_2020 = ox.io.load_graphml(wroclaw_2020_path)"
   ]
  },
  {
   "cell_type": "markdown",
   "id": "mineral-oxygen",
   "metadata": {},
   "source": [
    "# Process data\n"
   ]
  },
  {
   "cell_type": "code",
   "execution_count": null,
   "id": "attached-baghdad",
   "metadata": {},
   "outputs": [],
   "source": [
    "def encode_data(graph_nx: MultiDiGraph, selected_keys: List = [], default_values: Dict = {}, onehot_key : Dict = {}) -> MultiDiGraph:\n",
    "    graph_nx_copy = graph_nx.copy()\n",
    "    for edge in graph_nx.edges():\n",
    "        for connection in graph_nx[edge[0]][edge[1]].keys():\n",
    "            graph_edge = graph_nx_copy[edge[0]][edge[1]][connection]\n",
    "            for key in selected_keys:\n",
    "                #decide if key exists if not create\n",
    "                if key in graph_edge.keys():\n",
    "                    # if value of edge key is a list take first element\n",
    "                    if type(graph_edge[key]) == list:\n",
    "                        graph_edge[key] = graph_edge[key][0]\n",
    "                    \n",
    "                    if key in onehot_key.keys():\n",
    "                        if graph_edge[key] in onehot_key[key].keys():\n",
    "                            graph_edge[key] = onehot_key[key][graph_edge[key]]\n",
    "                        else:\n",
    "                            if key in default_values.keys():\n",
    "                                graph_edge[key] = default_values[key]\n",
    "                            else:\n",
    "                                graph_edge[key] = 0\n",
    "                                \n",
    "                    if type(graph_edge[key]) == str:\n",
    "                        try:\n",
    "                            graph_edge[key] = float(graph_edge[key])\n",
    "                        except ValueError as e:\n",
    "                            graph_edge[key] = 0.0\n",
    "                            \n",
    "                else:\n",
    "                    #create key with default values or set to 0\n",
    "                    if key in default_values.keys():\n",
    "                        graph_edge[key] = default_values[key]\n",
    "                    else:\n",
    "                        graph_edge[key] = 0\n",
    "    return graph_nx_copy"
   ]
  },
  {
   "cell_type": "code",
   "execution_count": null,
   "id": "flush-victor",
   "metadata": {},
   "outputs": [],
   "source": [
    "selected_keys = ['oneway', 'lanes', 'highway', 'maxspeed',\n",
    "                 'length', 'access', 'bridge', 'junction',\n",
    "                 'width', 'service', 'tunnel'] # not used 'cycleway', 'bycycle']\n",
    "default_values = {'oneway': False, 'lanes': 2, 'highway': 11, 'maxspeed': 50,\n",
    "                 'length':0, 'access':6, 'bridge': 0, 'junction': 0,\n",
    "                 'width':2, 'service':0, 'tunnel':0}\n",
    "highway_coding = {'highway': {'primary':0, 'unclassified':1, 'tertiary_link':2, 'secondary':3,\n",
    "                      'residential':4, 'track':5, 'service':6, 'trunk':7, 'tertiary':8,\n",
    "                      'primary_link':9, 'pedestrian':10, 'path':11, 'living_street':12,\n",
    "                      'trunk_link':13, 'cycleway':14, 'bridleway':15, 'secondary_link':16},\n",
    "                  'access':{'customers':0, 'delivery':1, 'designated':2, 'destination':3,\n",
    "                      'emergency':4, 'military':5, 'no':6, 'permissive':7,'permit':8, 'yes':9},\n",
    "                  'bridge':{'1':1, 'viaduct':1, 'yes':1},\n",
    "                  'junction':{ 'yes':1, 'roundabout':2, 'y_junction':3,},\n",
    "                  'tunnel': {'yes':1, 'building_passage': 2, 'passage':3 },\n",
    "                  'service': {'alley':1, 'bus':2, 'drive-through':3, 'driveway':4,\n",
    "                      'emergency_access':5, 'ground':6, 'parking_aisle':7, 'spur':8}}"
   ]
  },
  {
   "cell_type": "code",
   "execution_count": null,
   "id": "boring-tradition",
   "metadata": {},
   "outputs": [],
   "source": [
    "wroclaw_2020_encoded = encode_data(wroclaw_2020, selected_keys, default_values, highway_coding)"
   ]
  },
  {
   "cell_type": "code",
   "execution_count": null,
   "id": "illegal-difference",
   "metadata": {},
   "outputs": [],
   "source": [
    "def get_all_key_and_unique_values(graph_nx: MultiDiGraph, selected_keys: Dict = {}) -> Dict:\n",
    "    seen_values = {}\n",
    "    if not selected_keys:\n",
    "        selected_keys = ['oneway', 'lanes', 'highway', 'maxspeed',\n",
    "                         'length', 'access', 'bridge', 'junction',\n",
    "                         'width', 'service', 'tunnel', 'cycleway', 'bycycle']\n",
    "\n",
    "    #get all values by selected key for each edge\n",
    "    for edge in graph_nx.edges():\n",
    "        for connection in graph_nx[edge[0]][edge[1]].keys():\n",
    "            for key, val in graph_nx[edge[0]][edge[1]][connection].items():\n",
    "                if key in selected_keys:\n",
    "                    if key not in seen_values:\n",
    "                        seen_values[key] = [val]\n",
    "                    else:\n",
    "                        if type(val) == list:\n",
    "                            seen_values[key].extend(val)\n",
    "                        else:\n",
    "                            seen_values[key].extend([val])\n",
    "\n",
    "\n",
    "    for key in seen_values.keys():\n",
    "        seen_values[key] = set(seen_values[key])\n",
    "    return seen_values"
   ]
  },
  {
   "cell_type": "code",
   "execution_count": null,
   "id": "sporting-peninsula",
   "metadata": {},
   "outputs": [],
   "source": [
    "seen_values = get_all_key_and_unique_values(wroclaw_2020_encoded)\n",
    "seen_values['highway']"
   ]
  },
  {
   "cell_type": "code",
   "execution_count": null,
   "id": "bored-envelope",
   "metadata": {},
   "outputs": [],
   "source": [
    "def generate_cycle_label(graph_nx: MultiDiGraph, highway_coding: Dict = {}) -> MultiDiGraph:\n",
    "    graph_nx_copy = graph_nx.copy()\n",
    "    edge_id = 0\n",
    "    for edge in graph_nx.edges():\n",
    "        for connection in graph_nx[edge[0]][edge[1]].keys():\n",
    "            for key, val in graph_nx[edge[0]][edge[1]][connection].items():\n",
    "                graph_edge = graph_nx_copy[edge[0]][edge[1]][connection]\n",
    "                road_type = graph_edge['highway']\n",
    "                if road_type == 14:\n",
    "                    graph_edge['label'] = 1\n",
    "                else:\n",
    "                    graph_edge['label'] = 0\n",
    "                graph_edge['id'] = edge_id\n",
    "        edge_id += 1\n",
    "                \n",
    "    return graph_nx_copy\n"
   ]
  },
  {
   "cell_type": "code",
   "execution_count": null,
   "id": "worthy-ethiopia",
   "metadata": {},
   "outputs": [],
   "source": [
    "wroclaw_2020_labels = generate_cycle_label(wroclaw_2020_encoded, highway_coding['highway'])"
   ]
  },
  {
   "cell_type": "code",
   "execution_count": null,
   "id": "amazing-wheel",
   "metadata": {},
   "outputs": [],
   "source": [
    "wroclaw_2020_labels[95584835][6152142174]"
   ]
  },
  {
   "cell_type": "code",
   "execution_count": null,
   "id": "combined-bloom",
   "metadata": {},
   "outputs": [],
   "source": [
    "def convert_nx_to_dgl_as_linegraph(graph_nx: MultiDiGraph, selected_keys :[]) -> DGLHeteroGraph:\n",
    "    graph_dgl = dgl.from_networkx(graph_nx, edge_attrs = (selected_keys + ['label']+['id']))\n",
    "    graph_dgl_line_graph = dgl.line_graph(graph_dgl)\n",
    "    #populate linegraph with nodes\n",
    "    \n",
    "    features_to_line_graph = [graph_dgl.edata[key] for key in selected_keys]\n",
    "    \n",
    "    graph_dgl_line_graph.ndata['feat'] = torch.cat(features_to_line_graph).reshape((-1, len(selected_keys)))\n",
    "    graph_dgl_line_graph.ndata['label'] = graph_dgl.edata['label']\n",
    "    graph_dgl_line_graph.ndata['id'] = graph_dgl.edata['id']\n",
    "\n",
    "\n",
    "    return graph_dgl_line_graph\n",
    "    "
   ]
  },
  {
   "cell_type": "code",
   "execution_count": null,
   "id": "extra-defense",
   "metadata": {
    "scrolled": true
   },
   "outputs": [],
   "source": [
    "wroclaw_2020_dgl = convert_nx_to_dgl_as_linegraph(wroclaw_2020_labels, selected_keys)\n",
    "wroclaw_2020_dgl"
   ]
  },
  {
   "cell_type": "markdown",
   "id": "polar-perfume",
   "metadata": {},
   "source": [
    "# Test on 2014"
   ]
  },
  {
   "cell_type": "code",
   "execution_count": null,
   "id": "requested-miracle",
   "metadata": {},
   "outputs": [],
   "source": [
    "wroclaw_2014_path = \"../osmnx-extractor/graphml_files/europe_poland_Wroclaw_2014_v3.xml\"\n",
    "wroclaw_2014 = ox.io.load_graphml(wroclaw_2014_path)\n",
    "wroclaw_2014_encoded = encode_data(wroclaw_2014, selected_keys, default_values, highway_coding)\n",
    "wroclaw_2014_labels = generate_cycle_label(wroclaw_2014_encoded, highway_coding['highway'])\n",
    "wroclaw_2014_dgl = convert_nx_to_dgl_as_linegraph(wroclaw_2014_labels, selected_keys)\n",
    "wroclaw_2014_dgl"
   ]
  },
  {
   "cell_type": "markdown",
   "id": "dirty-amino",
   "metadata": {},
   "source": [
    "# ADD train, val, test MASK\n",
    "Mask size coefs taken from dataset Cora"
   ]
  },
  {
   "cell_type": "code",
   "execution_count": null,
   "id": "toxic-scottish",
   "metadata": {},
   "outputs": [],
   "source": [
    "def get_random_split(number_of_nodes, train_size_coef = 0.05, val_size_coef = 0.18, test_size_coef = 0.37):\n",
    "    split_idx = {}\n",
    "    train_size = int(number_of_nodes * train_size_coef)\n",
    "    val_size = int(number_of_nodes * val_size_coef)\n",
    "    test_size = int(number_of_nodes * test_size_coef)\n",
    "    split_idx['train'] = random.sample(range(0, number_of_nodes), train_size)\n",
    "    split_idx['train'].sort()\n",
    "    split_idx['valid'] = random.sample(range(0, number_of_nodes), val_size)\n",
    "    split_idx['valid'].sort()\n",
    "    split_idx['test'] = random.sample(range(0, number_of_nodes), test_size)\n",
    "    split_idx['test'].sort()\n",
    "    \n",
    "    return split_idx"
   ]
  },
  {
   "cell_type": "code",
   "execution_count": null,
   "id": "extraordinary-workplace",
   "metadata": {},
   "outputs": [],
   "source": [
    "def randome_sample_with_exceptions(max_range, size, exceptions):\n",
    "    not_cycle = list(range(0, max_range))\n",
    "    for elem in exceptions:\n",
    "        not_cycle.remove(elem)\n",
    "    return random.sample(not_cycle, size)\n",
    "        \n",
    "    "
   ]
  },
  {
   "cell_type": "code",
   "execution_count": null,
   "id": "empirical-associate",
   "metadata": {},
   "outputs": [],
   "source": [
    "def get_stratified_split(labels, train_bicycle_coef = 0.3, val_bicycle_coef = 0.4, test_bicycle_coef = 0.5):\n",
    "    number_of_nodes = labels.shape[0]\n",
    "    cycle_ids = ((labels == True).nonzero(as_tuple=True)[0]).tolist()\n",
    "    number_of_cycle = len(cycle_ids)\n",
    "    train_size = int(number_of_cycle * train_bicycle_coef)\n",
    "    val_size = int(number_of_cycle * val_bicycle_coef)\n",
    "    test_size = int(number_of_cycle * test_bicycle_coef)\n",
    "\n",
    "    assert number_of_cycle > train_size\n",
    "    assert number_of_cycle > val_size\n",
    "    assert number_of_cycle > test_size\n",
    "\n",
    "    split_idx = {}\n",
    "    train_cycle_idx = random.sample(cycle_ids, train_size)\n",
    "    train_noncycle_idx = randome_sample_with_exceptions(number_of_nodes, train_size, cycle_ids)\n",
    "    split_idx['train'] = train_cycle_idx + train_noncycle_idx\n",
    "    split_idx['train'].sort()\n",
    "    \n",
    "    val_cycle_idx = random.sample(cycle_ids, val_size)\n",
    "    val_noncycle_idx = randome_sample_with_exceptions(number_of_nodes, val_size, cycle_ids)\n",
    "    split_idx['valid'] = val_cycle_idx + val_noncycle_idx\n",
    "    split_idx['valid'].sort()\n",
    "\n",
    "    test_cycle_idx = random.sample(cycle_ids, test_size)\n",
    "    test_noncycle_idx = randome_sample_with_exceptions(number_of_nodes, test_size, cycle_ids)\n",
    "    split_idx['test'] = test_cycle_idx + test_noncycle_idx\n",
    "    split_idx['test'].sort()\n",
    "    \n",
    "    return split_idx"
   ]
  },
  {
   "cell_type": "code",
   "execution_count": null,
   "id": "rotary-variable",
   "metadata": {},
   "outputs": [],
   "source": [
    "def scale_feats(x):\n",
    "    scaler = StandardScaler()\n",
    "    feats = x.numpy()\n",
    "    scaler.fit(feats)\n",
    "    feats = torch.from_numpy(scaler.transform(feats)).float()\n",
    "    return feats, scaler"
   ]
  },
  {
   "cell_type": "code",
   "execution_count": null,
   "id": "enhanced-bacon",
   "metadata": {},
   "outputs": [],
   "source": [
    "def preprocess(graph):\n",
    "    feat = graph.ndata[\"feat\"]\n",
    "    #graph = dgl.to_bidirected(graph)\n",
    "    graph.ndata[\"feat\"] = feat\n",
    "\n",
    "    graph = graph.remove_self_loop().add_self_loop()\n",
    "    graph.create_formats_()\n",
    "    return graph"
   ]
  },
  {
   "cell_type": "code",
   "execution_count": null,
   "id": "organic-testing",
   "metadata": {},
   "outputs": [],
   "source": [
    "def create_mask(graph: DGLHeteroGraph) -> Tuple[DGLHeteroGraph, list, StandardScaler]: \n",
    "    num_nodes = graph.num_nodes()\n",
    "\n",
    "    #split_idx = get_random_split(num_nodes)\n",
    "    split_idx = get_stratified_split(graph.ndata['label'])\n",
    "    \n",
    "    train_idx, val_idx, test_idx = split_idx[\"train\"], split_idx[\"valid\"], split_idx[\"test\"]\n",
    "    graph = preprocess(graph)\n",
    "\n",
    "    if not torch.is_tensor(train_idx):\n",
    "        train_idx = torch.as_tensor(train_idx)\n",
    "        val_idx = torch.as_tensor(val_idx)\n",
    "        test_idx = torch.as_tensor(test_idx)\n",
    "\n",
    "    feat = graph.ndata[\"feat\"]\n",
    "    feat, scaler = scale_feats(feat)\n",
    "    graph.ndata[\"feat\"] = feat\n",
    "\n",
    "    train_mask = torch.full((num_nodes,), False).index_fill_(0, train_idx, True)\n",
    "    val_mask = torch.full((num_nodes,), False).index_fill_(0, val_idx, True)\n",
    "    test_mask = torch.full((num_nodes,), False).index_fill_(0, test_idx, True)\n",
    "    graph.ndata[\"train_mask\"], graph.ndata[\"val_mask\"], graph.ndata[\"test_mask\"] = train_mask, val_mask, test_mask\n",
    "    num_features = graph.ndata[\"feat\"].shape[1]\n",
    "    num_classes = 2\n",
    "    return graph, (num_features, num_classes), scaler"
   ]
  },
  {
   "cell_type": "code",
   "execution_count": null,
   "id": "written-specification",
   "metadata": {},
   "outputs": [],
   "source": [
    "wro_2020_with_masks, elem_20, scaler_20 = create_mask(wroclaw_2020_dgl)"
   ]
  },
  {
   "cell_type": "code",
   "execution_count": null,
   "id": "adjacent-accountability",
   "metadata": {},
   "outputs": [],
   "source": [
    "wro_2014_with_masks, elem_14, scaler_14 = create_mask(wroclaw_2014_dgl)"
   ]
  },
  {
   "cell_type": "code",
   "execution_count": null,
   "id": "identified-oklahoma",
   "metadata": {},
   "outputs": [],
   "source": [
    "from dgl.data.utils import save_graphs\n",
    "save_graphs(\"./wro_14_stratify.graph\", [wro_2014_with_masks])"
   ]
  },
  {
   "cell_type": "code",
   "execution_count": null,
   "id": "copyrighted-premiere",
   "metadata": {},
   "outputs": [],
   "source": [
    "import pickle\n",
    "\n",
    "with open('standardScaler_14_20.pkl', 'wb+') as handle:\n",
    "    pickle.dump([scaler_14, scaler_20], handle, protocol=pickle.HIGHEST_PROTOCOL)"
   ]
  },
  {
   "cell_type": "code",
   "execution_count": null,
   "id": "median-plain",
   "metadata": {},
   "outputs": [],
   "source": []
  },
  {
   "cell_type": "code",
   "execution_count": null,
   "id": "static-watch",
   "metadata": {},
   "outputs": [],
   "source": [
    "print(\"Train:\", wro_2020_with_masks.ndata[\"train_mask\"].unique(return_counts=True))\n",
    "print(\"Val:\", wro_2020_with_masks.ndata[\"val_mask\"].unique(return_counts=True))\n",
    "print(\"Test:\", wro_2020_with_masks.ndata[\"test_mask\"].unique(return_counts=True))"
   ]
  },
  {
   "cell_type": "code",
   "execution_count": null,
   "id": "nearby-calcium",
   "metadata": {},
   "outputs": [],
   "source": [
    "print(\"Train:\", wro_2014_with_masks.ndata[\"train_mask\"].unique(return_counts=True))\n",
    "print(\"Val:\", wro_2014_with_masks.ndata[\"val_mask\"].unique(return_counts=True))\n",
    "print(\"Test:\", wro_2014_with_masks.ndata[\"test_mask\"].unique(return_counts=True))"
   ]
  },
  {
   "cell_type": "markdown",
   "id": "imperial-reconstruction",
   "metadata": {},
   "source": [
    "\n",
    "# Wizualize\n"
   ]
  },
  {
   "cell_type": "code",
   "execution_count": null,
   "id": "conventional-airport",
   "metadata": {},
   "outputs": [],
   "source": [
    "from dgl.data.utils import load_graphs\n",
    "\n",
    "glist, label_dict = load_graphs(\"./data/wro_2020_with_masks.graph\")"
   ]
  },
  {
   "cell_type": "code",
   "execution_count": null,
   "id": "coordinated-confidentiality",
   "metadata": {},
   "outputs": [],
   "source": [
    "wro_2020_masks = glist[0]"
   ]
  },
  {
   "cell_type": "code",
   "execution_count": null,
   "id": "logical-investing",
   "metadata": {},
   "outputs": [],
   "source": [
    "first_graph = wro_2020_masks\n",
    "wro_2020_nx_g = dgl.to_networkx(wro_2020_masks, node_attrs=['node_labels'])\n"
   ]
  },
  {
   "cell_type": "code",
   "execution_count": null,
   "id": "indonesian-recommendation",
   "metadata": {},
   "outputs": [],
   "source": [
    "wro_2020_nx_g.graph = {'created_date': '2022-06-15 04:16:09',\n",
    " 'created_with': 'OSMnx 1.1.2',\n",
    " 'crs': 'epsg:4326',\n",
    " 'name': 'europe_poland_Wroclaw_2020'}"
   ]
  },
  {
   "cell_type": "code",
   "execution_count": null,
   "id": "specified-disposition",
   "metadata": {},
   "outputs": [],
   "source": [
    "mask_temp = wro_2014_with_masks.ndata['train_mask'] "
   ]
  },
  {
   "cell_type": "code",
   "execution_count": null,
   "id": "compatible-europe",
   "metadata": {},
   "outputs": [],
   "source": [
    "def visualise_masked_roads(grapf_networkx, mask):\n",
    "    assert grapf_networkx.number_of_edges() == mask.shape[0]\n",
    "    \n",
    "    mask_ids = ((mask == True).nonzero(as_tuple=True)[0]).tolist()\n",
    "    \n",
    "    year = str(grapf_networkx.name.split(\"_\")[3])\n",
    "    dif_masked_cycle = nx.create_empty_copy(grapf_networkx)\n",
    "    dif_masked_road = dif_masked_cycle.copy()\n",
    "\n",
    "    diff_unmasked = dif_masked_cycle.copy()\n",
    "    \n",
    "    \n",
    "    for x in tqdm(set(grapf_networkx.edges()), total = len(set(grapf_networkx.edges()))):\n",
    "        edge = grapf_networkx[x[0]][x[1]][0]\n",
    "        if edge['id'] in mask_ids:\n",
    "            dif_attributes = edge.copy()\n",
    "\n",
    "            if dif_attributes['label'] == 1: #if cycle\n",
    "                vis_data = dict(\n",
    "                href=f\"https://www.openstreetmap.org/way/{edge['osmid']}\", \n",
    "                years=['cycle', 'masked'], \n",
    "                data=dict()\n",
    "                )\n",
    "                vis_data['data'] = {year:[dif_attributes['label'],True]}\n",
    "                dif_attributes['vis_data'] = vis_data\n",
    "                dif_masked_cycle.add_edges_from([(x[0], x[1], dif_attributes)])\n",
    "            else:\n",
    "                vis_data = dict(\n",
    "                href=f\"https://www.openstreetmap.org/way/{edge['osmid']}\", \n",
    "                years=['cycle', 'masked'], \n",
    "                data=dict()\n",
    "                )\n",
    "                vis_data['data'] = {year:[dif_attributes['label'],True]}\n",
    "                dif_attributes['vis_data'] = vis_data\n",
    "                dif_masked_road.add_edges_from([(x[0], x[1], dif_attributes)])\n",
    "        else:\n",
    "            vis_data = dict(\n",
    "            href=f\"https://www.openstreetmap.org/way/{edge['osmid']}\", \n",
    "            years=['cycle', 'masked'], \n",
    "            data=dict()\n",
    "            )\n",
    "            dif_attributes = edge.copy()\n",
    "            vis_data['data'] = {year:[dif_attributes['label'],False]}\n",
    "\n",
    "            dif_attributes['vis_data'] = vis_data\n",
    "            diff_unmasked.add_edges_from([(x[0], x[1], dif_attributes)])\n",
    "            \n",
    "    m = ox.plot_graph_folium(diff_unmasked, popup_attribute='vis_data', color=\"blue\")\n",
    "    m = ox.plot_graph_folium(dif_masked_cycle, popup_attribute='vis_data', graph_map=m, color=\"green\")\n",
    "    m = ox.plot_graph_folium(dif_masked_road, popup_attribute='vis_data', graph_map=m, color=\"red\")\n",
    "\n",
    "    return m, [diff_unmasked, dif_masked_cycle, dif_masked_road]"
   ]
  },
  {
   "cell_type": "code",
   "execution_count": null,
   "id": "configured-south",
   "metadata": {
    "scrolled": true
   },
   "outputs": [],
   "source": [
    "m, parts = visualise_masked_roads(wroclaw_2014_labels ,mask_temp)\n"
   ]
  },
  {
   "cell_type": "code",
   "execution_count": null,
   "id": "lightweight-simulation",
   "metadata": {},
   "outputs": [],
   "source": [
    "m.save(f\"data/wro_2014_with_masks.html\")"
   ]
  },
  {
   "cell_type": "code",
   "execution_count": null,
   "id": "specific-rogers",
   "metadata": {},
   "outputs": [],
   "source": [
    "ox.plot_graph_folium(parts[1], color=\"green\")"
   ]
  },
  {
   "cell_type": "code",
   "execution_count": null,
   "id": "quantitative-tolerance",
   "metadata": {},
   "outputs": [],
   "source": [
    "ox.plot_graph_folium(parts[0], color=\"blue\")"
   ]
  },
  {
   "cell_type": "code",
   "execution_count": null,
   "id": "hollywood-recording",
   "metadata": {},
   "outputs": [],
   "source": [
    "def show_preds(grapf_networkx, mask, preds):\n",
    "    assert grapf_networkx.number_of_edges() == mask.shape[0]\n",
    "    \n",
    "    mask_ids = ((mask == True).nonzero(as_tuple=True)[0]).tolist()\n",
    "    pred_ids = ((preds == True).nonzero(as_tuple=True)[0]).tolist()\n",
    "    \n",
    "    year = str(grapf_networkx.name.split(\"_\")[3])\n",
    "    dif_masked_cycle = nx.create_empty_copy(grapf_networkx)\n",
    "    dif_masked_road = dif_masked_cycle.copy()\n",
    "    dif_masked_different = dif_masked_cycle.copy()\n",
    "\n",
    "    diff_unmasked = dif_masked_cycle.copy()\n",
    "    \n",
    "    \n",
    "    for x in tqdm(set(grapf_networkx.edges()), total = len(set(grapf_networkx.edges()))):\n",
    "        edge = grapf_networkx[x[0]][x[1]][0]\n",
    "        if edge['id'] in pred_ids:\n",
    "            dif_attributes = edge.copy()\n",
    "            if dif_attributes['label'] == 1: #if cycle\n",
    "                vis_data = dict(\n",
    "                href=f\"https://www.openstreetmap.org/way/{edge['osmid']}\", \n",
    "                years=['cycle', 'masked'], \n",
    "                data=dict()\n",
    "                )\n",
    "                vis_data['data'] = {year:[dif_attributes['label'],True]}\n",
    "                dif_attributes['vis_data'] = vis_data\n",
    "                dif_masked_cycle.add_edges_from([(x[0], x[1], dif_attributes)])\n",
    "            else: #if cycle\n",
    "                vis_data = dict(\n",
    "                href=f\"https://www.openstreetmap.org/way/{edge['osmid']}\", \n",
    "                years=['cycle', 'masked'], \n",
    "                data=dict()\n",
    "                )\n",
    "                vis_data['data'] = {year:[dif_attributes['label'],True]}\n",
    "                dif_attributes['vis_data'] = vis_data\n",
    "                dif_masked_road.add_edges_from([(x[0], x[1], dif_attributes)])\n",
    "        else:\n",
    "            vis_data = dict(\n",
    "            href=f\"https://www.openstreetmap.org/way/{edge['osmid']}\", \n",
    "            years=['cycle', 'masked'], \n",
    "            data=dict()\n",
    "            )\n",
    "            dif_attributes = edge.copy()\n",
    "            vis_data['data'] = {year:[dif_attributes['label'],False]}\n",
    "\n",
    "            dif_attributes['vis_data'] = vis_data\n",
    "            diff_unmasked.add_edges_from([(x[0], x[1], dif_attributes)])\n",
    "            \n",
    "    m = ox.plot_graph_folium(diff_unmasked, popup_attribute='vis_data', color=\"blue\")\n",
    "    m = ox.plot_graph_folium(dif_masked_road, popup_attribute='vis_data', graph_map=m, color=\"#d95f02\")\n",
    "    m = ox.plot_graph_folium(dif_masked_cycle, popup_attribute='vis_data', graph_map=m, color=\"green\")\n",
    "    #m = ox.plot_graph_folium(dif_masked_road, popup_attribute='vis_data', graph_map=m, color=\"red\")\n",
    "\n",
    "    return m, [diff_unmasked, dif_masked_cycle, dif_masked_road]"
   ]
  },
  {
   "cell_type": "code",
   "execution_count": null,
   "id": "bronze-harvest",
   "metadata": {},
   "outputs": [],
   "source": [
    "import pickle\n",
    "\n",
    "with open('data/best_pred_2014.pickle', 'rb') as handle:\n",
    "    best_pred = pickle.load(handle)"
   ]
  },
  {
   "cell_type": "code",
   "execution_count": null,
   "id": "controlling-drinking",
   "metadata": {},
   "outputs": [],
   "source": [
    "y_pred = best_pred\n",
    "y_true = wro_2014_with_masks.ndata['label']\n",
    "y_true = y_true.squeeze().long()\n",
    "preds = y_pred.max(1)[1].type_as(y_true)"
   ]
  },
  {
   "cell_type": "code",
   "execution_count": null,
   "id": "collect-radio",
   "metadata": {},
   "outputs": [],
   "source": [
    "preds.unique(return_counts=True)"
   ]
  },
  {
   "cell_type": "code",
   "execution_count": null,
   "id": "broke-guidance",
   "metadata": {},
   "outputs": [],
   "source": [
    "mask_temp = preds.type_as(mask_temp)\n",
    "m, parts = show_preds(wroclaw_2014_labels,wro_2014_with_masks.ndata['label'] ,mask_temp)\n"
   ]
  },
  {
   "cell_type": "code",
   "execution_count": null,
   "id": "wireless-electron",
   "metadata": {},
   "outputs": [],
   "source": [
    "mask_temp.unique(return_counts=True)"
   ]
  },
  {
   "cell_type": "code",
   "execution_count": null,
   "id": "right-ancient",
   "metadata": {},
   "outputs": [],
   "source": []
  }
 ],
 "metadata": {
  "kernelspec": {
   "display_name": "Python 3",
   "language": "python",
   "name": "python3"
  },
  "language_info": {
   "codemirror_mode": {
    "name": "ipython",
    "version": 3
   },
   "file_extension": ".py",
   "mimetype": "text/x-python",
   "name": "python",
   "nbconvert_exporter": "python",
   "pygments_lexer": "ipython3",
   "version": "3.8.8"
  }
 },
 "nbformat": 4,
 "nbformat_minor": 5
}
