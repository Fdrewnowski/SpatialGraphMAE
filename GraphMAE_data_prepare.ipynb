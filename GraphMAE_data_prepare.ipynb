{
 "cells": [
  {
   "cell_type": "markdown",
   "id": "curious-chuck",
   "metadata": {},
   "source": [
    "# Import libs\n"
   ]
  },
  {
   "cell_type": "code",
   "execution_count": 1,
   "id": "temporal-donna",
   "metadata": {},
   "outputs": [
    {
     "name": "stderr",
     "output_type": "stream",
     "text": [
      "Using backend: pytorch\n"
     ]
    }
   ],
   "source": [
    "import osmnx as ox\n",
    "import networkx as nx\n",
    "import folium\n",
    "from tqdm import tqdm\n",
    "\n",
    "#From paper\n",
    "from collections import namedtuple, Counter\n",
    "import numpy as np\n",
    "\n",
    "import torch\n",
    "import torch.nn.functional as F\n",
    " \n",
    "\n",
    "import dgl\n",
    "from dgl.data import (\n",
    "    load_data, \n",
    "    TUDataset, \n",
    "    CoraGraphDataset, \n",
    "    CiteseerGraphDataset, \n",
    "    PubmedGraphDataset\n",
    ")\n",
    "#from ogb.nodeproppred import DglNodePropPredDataset not needed\n",
    "from dgl.data.ppi import PPIDataset\n",
    "from dgl.dataloading import GraphDataLoader\n",
    "\n",
    "from sklearn.preprocessing import StandardScaler\n",
    "from typing import Tuple, List, Dict"
   ]
  },
  {
   "cell_type": "code",
   "execution_count": 2,
   "id": "dietary-refrigerator",
   "metadata": {},
   "outputs": [],
   "source": [
    "from networkx.classes.multidigraph import MultiDiGraph\n",
    "from dgl.heterograph import DGLHeteroGraph\n",
    "import random\n",
    "\n",
    "from sklearn.preprocessing import StandardScaler"
   ]
  },
  {
   "cell_type": "code",
   "execution_count": 3,
   "id": "generous-myanmar",
   "metadata": {},
   "outputs": [],
   "source": [
    "import copy"
   ]
  },
  {
   "cell_type": "markdown",
   "id": "missing-enhancement",
   "metadata": {},
   "source": [
    "# Load data"
   ]
  },
  {
   "cell_type": "code",
   "execution_count": 4,
   "id": "recent-identification",
   "metadata": {},
   "outputs": [],
   "source": [
    "wroclaw_2020_path = \"./data/final_results/wroclaw.xml\"\n",
    "wroclaw_2020 = ox.io.load_graphml(wroclaw_2020_path)"
   ]
  },
  {
   "cell_type": "markdown",
   "id": "mineral-oxygen",
   "metadata": {},
   "source": [
    "# Process data\n"
   ]
  },
  {
   "cell_type": "code",
   "execution_count": null,
   "id": "attached-baghdad",
   "metadata": {},
   "outputs": [],
   "source": [
    "def encode_data(graph_nx: MultiDiGraph, selected_keys: List = [], default_values: Dict = {}, onehot_key : Dict = {}) -> MultiDiGraph:\n",
    "    graph_nx_copy = graph_nx.copy()\n",
    "    for edge in graph_nx.edges():\n",
    "        for connection in graph_nx[edge[0]][edge[1]].keys():\n",
    "            graph_edge = graph_nx_copy[edge[0]][edge[1]][connection]\n",
    "            for key in selected_keys:\n",
    "                #decide if key exists if not create\n",
    "                if key in graph_edge.keys():\n",
    "                    # if value of edge key is a list take first element\n",
    "                    if type(graph_edge[key]) == list:\n",
    "                        graph_edge[key] = graph_edge[key][0]\n",
    "                    \n",
    "                    if key in onehot_key.keys():\n",
    "                        if graph_edge[key] in onehot_key[key].keys():\n",
    "                            graph_edge[key] = onehot_key[key][graph_edge[key]]\n",
    "                        else:\n",
    "                            if key in default_values.keys():\n",
    "                                graph_edge[key] = default_values[key]\n",
    "                            else:\n",
    "                                graph_edge[key] = 0\n",
    "                                \n",
    "                    if type(graph_edge[key]) == str:\n",
    "                        try:\n",
    "                            graph_edge[key] = float(graph_edge[key])\n",
    "                        except ValueError as e:\n",
    "                            graph_edge[key] = 0.0\n",
    "                            \n",
    "                else:\n",
    "                    #create key with default values or set to 0\n",
    "                    if key in default_values.keys():\n",
    "                        graph_edge[key] = default_values[key]\n",
    "                    else:\n",
    "                        graph_edge[key] = 0\n",
    "    return graph_nx_copy"
   ]
  },
  {
   "cell_type": "code",
   "execution_count": null,
   "id": "flush-victor",
   "metadata": {},
   "outputs": [],
   "source": [
    "selected_keys = ['oneway', 'lanes', 'highway', 'maxspeed',\n",
    "                 'length', 'access', 'bridge', 'junction',\n",
    "                 'width', 'service', 'tunnel'] # not used 'cycleway', 'bycycle']\n",
    "default_values = {'oneway': False, 'lanes': 2, 'highway': 11, 'maxspeed': 50,\n",
    "                 'length':0, 'access':6, 'bridge': 0, 'junction': 0,\n",
    "                 'width':2, 'service':0, 'tunnel':0}\n",
    "highway_coding = {'highway': {'primary':0, 'unclassified':1, 'tertiary_link':2, 'secondary':3,\n",
    "                      'residential':4, 'track':5, 'service':6, 'trunk':7, 'tertiary':8,\n",
    "                      'primary_link':9, 'pedestrian':10, 'path':11, 'living_street':12,\n",
    "                      'trunk_link':13, 'cycleway':14, 'bridleway':15, 'secondary_link':16},\n",
    "                  'access':{'customers':0, 'delivery':1, 'designated':2, 'destination':3,\n",
    "                      'emergency':4, 'military':5, 'no':6, 'permissive':7,'permit':8, 'yes':9},\n",
    "                  'bridge':{'1':1, 'viaduct':1, 'yes':1},\n",
    "                  'junction':{ 'yes':1, 'roundabout':2, 'y_junction':3,},\n",
    "                  'tunnel': {'yes':1, 'building_passage': 2, 'passage':3 },\n",
    "                  'service': {'alley':1, 'bus':2, 'drive-through':3, 'driveway':4,\n",
    "                      'emergency_access':5, 'ground':6, 'parking_aisle':7, 'spur':8}}"
   ]
  },
  {
   "cell_type": "code",
   "execution_count": null,
   "id": "boring-tradition",
   "metadata": {},
   "outputs": [],
   "source": [
    "wroclaw_2020_encoded = encode_data(wroclaw_2020, selected_keys, default_values, highway_coding)"
   ]
  },
  {
   "cell_type": "code",
   "execution_count": 74,
   "id": "illegal-difference",
   "metadata": {},
   "outputs": [],
   "source": [
    "def get_all_key_and_unique_values(graph_nx: MultiDiGraph, selected_keys: Dict = {}) -> Dict:\n",
    "    seen_values = {}\n",
    "    if not selected_keys:\n",
    "        selected_keys = ['oneway', 'lanes', 'highway', 'maxspeed',\n",
    "                         'length', 'access', 'bridge', 'junction',\n",
    "                         'width', 'service', 'tunnel', 'surface']\n",
    "\n",
    "    #get all values by selected key for each edge\n",
    "    for edge in graph_nx.edges():\n",
    "        for connection in graph_nx[edge[0]][edge[1]].keys():\n",
    "            for key, val in graph_nx[edge[0]][edge[1]][connection].items():\n",
    "                if key in selected_keys:\n",
    "                    if key not in seen_values:\n",
    "                        seen_values[key] = [val]\n",
    "                    else:\n",
    "                        if type(val) == list:\n",
    "                            seen_values[key].extend(val)\n",
    "                        else:\n",
    "                            seen_values[key].extend([val])\n",
    "\n",
    "\n",
    "    for key in seen_values.keys():\n",
    "        seen_values[key] = set(seen_values[key])\n",
    "    return seen_values"
   ]
  },
  {
   "cell_type": "code",
   "execution_count": 11,
   "id": "sporting-peninsula",
   "metadata": {},
   "outputs": [
    {
     "name": "stdout",
     "output_type": "stream",
     "text": [
      "oneway {False, True}\n",
      "lanes {'7', '4', '6', '2', '1', '3', '5'}\n",
      "highway {'tertiary_link', 'service', 'tertiary', 'track', 'secondary', 'residential', 'motorway', 'primary', 'secondary_link', 'motorway_link', 'living_street', 'path', 'trunk_link', 'footway', 'unclassified', 'road', 'cycleway', 'trunk', 'primary_link'}\n",
      "maxspeed {'110', '70', '80', '100', '60', '50', '40', '90', '30', '5', '20', '120', '10', '15'}\n",
      "access {'no', 'permissive', 'destination', 'private', 'yes'}\n",
      "bridge {'covered', 'viaduct', 'yes'}\n",
      "junction {'roundabout'}\n",
      "tunnel {'building_passage', 'yes'}\n",
      "service {'parking_aisle', 'emergency_access', 'driveway'}\n"
     ]
    }
   ],
   "source": [
    "seen_values = get_all_key_and_unique_values(wroclaw_2020)\n",
    "\n",
    "unique_vals = 0\n",
    "for key in seen_values.keys():\n",
    "    if key != 'length' and key != 'width':\n",
    "        print(key, seen_values[key])\n",
    "        unique_vals += len(seen_values[key])"
   ]
  },
  {
   "cell_type": "code",
   "execution_count": 12,
   "id": "raised-document",
   "metadata": {},
   "outputs": [
    {
     "data": {
      "text/plain": [
       "56"
      ]
     },
     "execution_count": 12,
     "metadata": {},
     "output_type": "execute_result"
    }
   ],
   "source": [
    "unique_vals"
   ]
  },
  {
   "cell_type": "code",
   "execution_count": null,
   "id": "bored-envelope",
   "metadata": {},
   "outputs": [],
   "source": [
    "def generate_cycle_label(graph_nx: MultiDiGraph, highway_coding: Dict = {}) -> MultiDiGraph:\n",
    "    graph_nx_copy = graph_nx.copy()\n",
    "    edge_id = 0\n",
    "    for edge in graph_nx.edges():\n",
    "        for connection in graph_nx[edge[0]][edge[1]].keys():\n",
    "            for key, val in graph_nx[edge[0]][edge[1]][connection].items():\n",
    "                graph_edge = graph_nx_copy[edge[0]][edge[1]][connection]\n",
    "                road_type = graph_edge['highway']\n",
    "                if road_type == 14:\n",
    "                    graph_edge['label'] = 1\n",
    "                else:\n",
    "                    graph_edge['label'] = 0\n",
    "                graph_edge['id'] = edge_id\n",
    "        edge_id += 1\n",
    "                \n",
    "    return graph_nx_copy\n"
   ]
  },
  {
   "cell_type": "code",
   "execution_count": null,
   "id": "worthy-ethiopia",
   "metadata": {},
   "outputs": [],
   "source": [
    "wroclaw_2020_labels = generate_cycle_label(wroclaw_2020_encoded, highway_coding['highway'])"
   ]
  },
  {
   "cell_type": "code",
   "execution_count": null,
   "id": "amazing-wheel",
   "metadata": {},
   "outputs": [],
   "source": [
    "wroclaw_2020_labels[95584835][6152142174]"
   ]
  },
  {
   "cell_type": "code",
   "execution_count": null,
   "id": "combined-bloom",
   "metadata": {},
   "outputs": [],
   "source": [
    "def convert_nx_to_dgl_as_linegraph(graph_nx: MultiDiGraph, selected_keys :[]) -> DGLHeteroGraph:\n",
    "    graph_dgl = dgl.from_networkx(graph_nx, edge_attrs = (selected_keys + ['label']+['id']))\n",
    "    graph_dgl_line_graph = dgl.line_graph(graph_dgl)\n",
    "    #populate linegraph with nodes\n",
    "    \n",
    "    features_to_line_graph = [graph_dgl.edata[key] for key in selected_keys]\n",
    "    \n",
    "    graph_dgl_line_graph.ndata['feat'] = torch.cat(features_to_line_graph).reshape((-1, len(selected_keys)))\n",
    "    graph_dgl_line_graph.ndata['label'] = graph_dgl.edata['label']\n",
    "    graph_dgl_line_graph.ndata['id'] = graph_dgl.edata['id']\n",
    "\n",
    "\n",
    "    return graph_dgl_line_graph\n",
    "    "
   ]
  },
  {
   "cell_type": "code",
   "execution_count": null,
   "id": "extra-defense",
   "metadata": {
    "scrolled": true
   },
   "outputs": [],
   "source": [
    "wroclaw_2020_dgl = convert_nx_to_dgl_as_linegraph(wroclaw_2020_labels, selected_keys)\n",
    "wroclaw_2020_dgl"
   ]
  },
  {
   "cell_type": "markdown",
   "id": "polar-perfume",
   "metadata": {},
   "source": [
    "# Test on 2014"
   ]
  },
  {
   "cell_type": "code",
   "execution_count": null,
   "id": "requested-miracle",
   "metadata": {},
   "outputs": [],
   "source": [
    "wroclaw_2014_path = \"../osmnx-extractor/graphml_files/europe_poland_Wroclaw_2014_v3.xml\"\n",
    "wroclaw_2014 = ox.io.load_graphml(wroclaw_2014_path)\n",
    "wroclaw_2014_encoded = encode_data(wroclaw_2014, selected_keys, default_values, highway_coding)\n",
    "wroclaw_2014_labels = generate_cycle_label(wroclaw_2014_encoded, highway_coding['highway'])\n",
    "wroclaw_2014_dgl = convert_nx_to_dgl_as_linegraph(wroclaw_2014_labels, selected_keys)\n",
    "wroclaw_2014_dgl"
   ]
  },
  {
   "cell_type": "markdown",
   "id": "dirty-amino",
   "metadata": {},
   "source": [
    "# ADD train, val, test MASK\n",
    "Mask size coefs taken from dataset Cora"
   ]
  },
  {
   "cell_type": "code",
   "execution_count": 129,
   "id": "toxic-scottish",
   "metadata": {},
   "outputs": [],
   "source": [
    "def get_random_split(number_of_nodes, train_size_coef = 0.05, val_size_coef = 0.18, test_size_coef = 0.37):\n",
    "    split_idx = {}\n",
    "    train_size = int(number_of_nodes * train_size_coef)\n",
    "    val_size = int(number_of_nodes * val_size_coef)\n",
    "    test_size = int(number_of_nodes * test_size_coef)\n",
    "    split_idx['train'] = random.sample(range(0, number_of_nodes), train_size)\n",
    "    split_idx['train'].sort()\n",
    "    split_idx['valid'] = random.sample(range(0, number_of_nodes), val_size)\n",
    "    split_idx['valid'].sort()\n",
    "    split_idx['test'] = random.sample(range(0, number_of_nodes), test_size)\n",
    "    split_idx['test'].sort()\n",
    "    \n",
    "    return split_idx"
   ]
  },
  {
   "cell_type": "code",
   "execution_count": 130,
   "id": "extraordinary-workplace",
   "metadata": {},
   "outputs": [],
   "source": [
    "def randome_sample_with_exceptions(max_range, size, exceptions):\n",
    "    not_cycle = list(range(0, max_range))\n",
    "    for elem in exceptions:\n",
    "        not_cycle.remove(elem)\n",
    "    return random.sample(not_cycle, size)\n",
    "        \n",
    "    "
   ]
  },
  {
   "cell_type": "code",
   "execution_count": 131,
   "id": "empirical-associate",
   "metadata": {},
   "outputs": [],
   "source": [
    "def get_stratified_split(labels, train_bicycle_coef = 0.3, val_bicycle_coef = 0.4, test_bicycle_coef = 0.5):\n",
    "    number_of_nodes = labels.shape[0]\n",
    "    cycle_ids = ((labels == True).nonzero(as_tuple=True)[0]).tolist()\n",
    "    number_of_cycle = len(cycle_ids)\n",
    "    train_size = int(number_of_cycle * train_bicycle_coef)\n",
    "    val_size = int(number_of_cycle * val_bicycle_coef)\n",
    "    test_size = int(number_of_cycle * test_bicycle_coef)\n",
    "\n",
    "    assert number_of_cycle > train_size\n",
    "    assert number_of_cycle > val_size\n",
    "    assert number_of_cycle > test_size\n",
    "\n",
    "    split_idx = {}\n",
    "    train_cycle_idx = random.sample(cycle_ids, train_size)\n",
    "    train_noncycle_idx = randome_sample_with_exceptions(number_of_nodes, train_size, cycle_ids)\n",
    "    split_idx['train'] = train_cycle_idx + train_noncycle_idx\n",
    "    split_idx['train'].sort()\n",
    "    \n",
    "    val_cycle_idx = random.sample(cycle_ids, val_size)\n",
    "    val_noncycle_idx = randome_sample_with_exceptions(number_of_nodes, val_size, cycle_ids)\n",
    "    split_idx['valid'] = val_cycle_idx + val_noncycle_idx\n",
    "    split_idx['valid'].sort()\n",
    "\n",
    "    test_cycle_idx = random.sample(cycle_ids, test_size)\n",
    "    test_noncycle_idx = randome_sample_with_exceptions(number_of_nodes, test_size, cycle_ids)\n",
    "    split_idx['test'] = test_cycle_idx + test_noncycle_idx\n",
    "    split_idx['test'].sort()\n",
    "    \n",
    "    return split_idx"
   ]
  },
  {
   "cell_type": "code",
   "execution_count": 132,
   "id": "rotary-variable",
   "metadata": {},
   "outputs": [],
   "source": [
    "def scale_feats(x):\n",
    "    scaler = StandardScaler()\n",
    "    feats = x.numpy()\n",
    "    scaler.fit(feats)\n",
    "    feats = torch.from_numpy(scaler.transform(feats)).float()\n",
    "    return feats, scaler"
   ]
  },
  {
   "cell_type": "code",
   "execution_count": 133,
   "id": "enhanced-bacon",
   "metadata": {},
   "outputs": [],
   "source": [
    "def preprocess(graph):\n",
    "    feat = graph.ndata[\"feat\"]\n",
    "    #graph = dgl.to_bidirected(graph)\n",
    "    graph.ndata[\"feat\"] = feat\n",
    "\n",
    "    graph = graph.remove_self_loop().add_self_loop()\n",
    "    graph.create_formats_()\n",
    "    return graph"
   ]
  },
  {
   "cell_type": "code",
   "execution_count": 134,
   "id": "organic-testing",
   "metadata": {},
   "outputs": [],
   "source": [
    "def create_mask(graph: DGLHeteroGraph) -> Tuple[DGLHeteroGraph, list, StandardScaler]: \n",
    "    num_nodes = graph.num_nodes()\n",
    "\n",
    "    #split_idx = get_random_split(num_nodes)\n",
    "    split_idx = get_stratified_split(graph.ndata['label'])\n",
    "    \n",
    "    train_idx, val_idx, test_idx = split_idx[\"train\"], split_idx[\"valid\"], split_idx[\"test\"]\n",
    "    graph = preprocess(graph)\n",
    "\n",
    "    if not torch.is_tensor(train_idx):\n",
    "        train_idx = torch.as_tensor(train_idx)\n",
    "        val_idx = torch.as_tensor(val_idx)\n",
    "        test_idx = torch.as_tensor(test_idx)\n",
    "\n",
    "    feat = graph.ndata[\"feat\"]\n",
    "    feat, scaler = scale_feats(feat)\n",
    "    graph.ndata[\"feat\"] = feat\n",
    "\n",
    "    train_mask = torch.full((num_nodes,), False).index_fill_(0, train_idx, True)\n",
    "    val_mask = torch.full((num_nodes,), False).index_fill_(0, val_idx, True)\n",
    "    test_mask = torch.full((num_nodes,), False).index_fill_(0, test_idx, True)\n",
    "    graph.ndata[\"train_mask\"], graph.ndata[\"val_mask\"], graph.ndata[\"test_mask\"] = train_mask, val_mask, test_mask\n",
    "    num_features = graph.ndata[\"feat\"].shape[1]\n",
    "    num_classes = 2\n",
    "    return graph, (num_features, num_classes), scaler"
   ]
  },
  {
   "cell_type": "code",
   "execution_count": null,
   "id": "written-specification",
   "metadata": {},
   "outputs": [],
   "source": [
    "wro_2020_with_masks, elem_20, scaler_20 = create_mask(wroclaw_2020_dgl)"
   ]
  },
  {
   "cell_type": "code",
   "execution_count": null,
   "id": "adjacent-accountability",
   "metadata": {},
   "outputs": [],
   "source": [
    "wro_2014_with_masks, elem_14, scaler_14 = create_mask(wroclaw_2014_dgl)"
   ]
  },
  {
   "cell_type": "code",
   "execution_count": null,
   "id": "identified-oklahoma",
   "metadata": {},
   "outputs": [],
   "source": [
    "from dgl.data.utils import save_graphs\n",
    "save_graphs(\"./wro_14_stratify.graph\", [wro_2014_with_masks])"
   ]
  },
  {
   "cell_type": "code",
   "execution_count": null,
   "id": "copyrighted-premiere",
   "metadata": {},
   "outputs": [],
   "source": [
    "import pickle\n",
    "\n",
    "with open('standardScaler_14_20.pkl', 'wb+') as handle:\n",
    "    pickle.dump([scaler_14, scaler_20], handle, protocol=pickle.HIGHEST_PROTOCOL)"
   ]
  },
  {
   "cell_type": "code",
   "execution_count": null,
   "id": "median-plain",
   "metadata": {},
   "outputs": [],
   "source": []
  },
  {
   "cell_type": "code",
   "execution_count": null,
   "id": "static-watch",
   "metadata": {},
   "outputs": [],
   "source": [
    "print(\"Train:\", wro_2020_with_masks.ndata[\"train_mask\"].unique(return_counts=True))\n",
    "print(\"Val:\", wro_2020_with_masks.ndata[\"val_mask\"].unique(return_counts=True))\n",
    "print(\"Test:\", wro_2020_with_masks.ndata[\"test_mask\"].unique(return_counts=True))"
   ]
  },
  {
   "cell_type": "code",
   "execution_count": null,
   "id": "nearby-calcium",
   "metadata": {},
   "outputs": [],
   "source": [
    "print(\"Train:\", wro_2014_with_masks.ndata[\"train_mask\"].unique(return_counts=True))\n",
    "print(\"Val:\", wro_2014_with_masks.ndata[\"val_mask\"].unique(return_counts=True))\n",
    "print(\"Test:\", wro_2014_with_masks.ndata[\"test_mask\"].unique(return_counts=True))"
   ]
  },
  {
   "cell_type": "markdown",
   "id": "imperial-reconstruction",
   "metadata": {},
   "source": [
    "\n",
    "# Wizualize\n"
   ]
  },
  {
   "cell_type": "code",
   "execution_count": null,
   "id": "conventional-airport",
   "metadata": {},
   "outputs": [],
   "source": [
    "from dgl.data.utils import load_graphs\n",
    "\n",
    "glist, label_dict = load_graphs(\"./data/wro_2020_with_masks.graph\")"
   ]
  },
  {
   "cell_type": "code",
   "execution_count": null,
   "id": "coordinated-confidentiality",
   "metadata": {},
   "outputs": [],
   "source": [
    "wro_2020_masks = glist[0]"
   ]
  },
  {
   "cell_type": "code",
   "execution_count": null,
   "id": "logical-investing",
   "metadata": {},
   "outputs": [],
   "source": [
    "first_graph = wro_2020_masks\n",
    "wro_2020_nx_g = dgl.to_networkx(wro_2020_masks, node_attrs=['node_labels'])\n"
   ]
  },
  {
   "cell_type": "code",
   "execution_count": null,
   "id": "indonesian-recommendation",
   "metadata": {},
   "outputs": [],
   "source": [
    "wro_2020_nx_g.graph = {'created_date': '2022-06-15 04:16:09',\n",
    " 'created_with': 'OSMnx 1.1.2',\n",
    " 'crs': 'epsg:4326',\n",
    " 'name': 'europe_poland_Wroclaw_2020'}"
   ]
  },
  {
   "cell_type": "code",
   "execution_count": null,
   "id": "specified-disposition",
   "metadata": {},
   "outputs": [],
   "source": [
    "mask_temp = wro_2014_with_masks.ndata['train_mask'] "
   ]
  },
  {
   "cell_type": "code",
   "execution_count": null,
   "id": "compatible-europe",
   "metadata": {},
   "outputs": [],
   "source": [
    "def visualise_masked_roads(grapf_networkx, mask):\n",
    "    assert grapf_networkx.number_of_edges() == mask.shape[0]\n",
    "    \n",
    "    mask_ids = ((mask == True).nonzero(as_tuple=True)[0]).tolist()\n",
    "    \n",
    "    year = str(grapf_networkx.name.split(\"_\")[3])\n",
    "    dif_masked_cycle = nx.create_empty_copy(grapf_networkx)\n",
    "    dif_masked_road = dif_masked_cycle.copy()\n",
    "\n",
    "    diff_unmasked = dif_masked_cycle.copy()\n",
    "    \n",
    "    \n",
    "    for x in tqdm(set(grapf_networkx.edges()), total = len(set(grapf_networkx.edges()))):\n",
    "        edge = grapf_networkx[x[0]][x[1]][0]\n",
    "        if edge['id'] in mask_ids:\n",
    "            dif_attributes = edge.copy()\n",
    "\n",
    "            if dif_attributes['label'] == 1: #if cycle\n",
    "                vis_data = dict(\n",
    "                href=f\"https://www.openstreetmap.org/way/{edge['osmid']}\", \n",
    "                years=['cycle', 'masked'], \n",
    "                data=dict()\n",
    "                )\n",
    "                vis_data['data'] = {year:[dif_attributes['label'],True]}\n",
    "                dif_attributes['vis_data'] = vis_data\n",
    "                dif_masked_cycle.add_edges_from([(x[0], x[1], dif_attributes)])\n",
    "            else:\n",
    "                vis_data = dict(\n",
    "                href=f\"https://www.openstreetmap.org/way/{edge['osmid']}\", \n",
    "                years=['cycle', 'masked'], \n",
    "                data=dict()\n",
    "                )\n",
    "                vis_data['data'] = {year:[dif_attributes['label'],True]}\n",
    "                dif_attributes['vis_data'] = vis_data\n",
    "                dif_masked_road.add_edges_from([(x[0], x[1], dif_attributes)])\n",
    "        else:\n",
    "            vis_data = dict(\n",
    "            href=f\"https://www.openstreetmap.org/way/{edge['osmid']}\", \n",
    "            years=['cycle', 'masked'], \n",
    "            data=dict()\n",
    "            )\n",
    "            dif_attributes = edge.copy()\n",
    "            vis_data['data'] = {year:[dif_attributes['label'],False]}\n",
    "\n",
    "            dif_attributes['vis_data'] = vis_data\n",
    "            diff_unmasked.add_edges_from([(x[0], x[1], dif_attributes)])\n",
    "            \n",
    "    m = ox.plot_graph_folium(diff_unmasked, popup_attribute='vis_data', color=\"blue\")\n",
    "    m = ox.plot_graph_folium(dif_masked_cycle, popup_attribute='vis_data', graph_map=m, color=\"green\")\n",
    "    m = ox.plot_graph_folium(dif_masked_road, popup_attribute='vis_data', graph_map=m, color=\"red\")\n",
    "\n",
    "    return m, [diff_unmasked, dif_masked_cycle, dif_masked_road]"
   ]
  },
  {
   "cell_type": "code",
   "execution_count": null,
   "id": "configured-south",
   "metadata": {
    "scrolled": true
   },
   "outputs": [],
   "source": [
    "m, parts = visualise_masked_roads(wroclaw_2014_labels ,mask_temp)\n"
   ]
  },
  {
   "cell_type": "code",
   "execution_count": null,
   "id": "lightweight-simulation",
   "metadata": {},
   "outputs": [],
   "source": [
    "m.save(f\"data/wro_2014_with_masks.html\")"
   ]
  },
  {
   "cell_type": "code",
   "execution_count": null,
   "id": "specific-rogers",
   "metadata": {},
   "outputs": [],
   "source": [
    "ox.plot_graph_folium(parts[1], color=\"green\")"
   ]
  },
  {
   "cell_type": "code",
   "execution_count": null,
   "id": "quantitative-tolerance",
   "metadata": {},
   "outputs": [],
   "source": [
    "ox.plot_graph_folium(parts[0], color=\"blue\")"
   ]
  },
  {
   "cell_type": "code",
   "execution_count": null,
   "id": "hollywood-recording",
   "metadata": {},
   "outputs": [],
   "source": [
    "def show_preds(grapf_networkx, mask, preds):\n",
    "    assert grapf_networkx.number_of_edges() == mask.shape[0]\n",
    "    \n",
    "    mask_ids = ((mask == True).nonzero(as_tuple=True)[0]).tolist()\n",
    "    pred_ids = ((preds == True).nonzero(as_tuple=True)[0]).tolist()\n",
    "    \n",
    "    year = str(grapf_networkx.name.split(\"_\")[3])\n",
    "    dif_masked_cycle = nx.create_empty_copy(grapf_networkx)\n",
    "    dif_masked_road = dif_masked_cycle.copy()\n",
    "    dif_masked_different = dif_masked_cycle.copy()\n",
    "\n",
    "    diff_unmasked = dif_masked_cycle.copy()\n",
    "    \n",
    "    \n",
    "    for x in tqdm(set(grapf_networkx.edges()), total = len(set(grapf_networkx.edges()))):\n",
    "        edge = grapf_networkx[x[0]][x[1]][0]\n",
    "        if edge['id'] in pred_ids:\n",
    "            dif_attributes = edge.copy()\n",
    "            if dif_attributes['label'] == 1: #if cycle\n",
    "                vis_data = dict(\n",
    "                href=f\"https://www.openstreetmap.org/way/{edge['osmid']}\", \n",
    "                years=['cycle', 'masked'], \n",
    "                data=dict()\n",
    "                )\n",
    "                vis_data['data'] = {year:[dif_attributes['label'],True]}\n",
    "                dif_attributes['vis_data'] = vis_data\n",
    "                dif_masked_cycle.add_edges_from([(x[0], x[1], dif_attributes)])\n",
    "            else: #if cycle\n",
    "                vis_data = dict(\n",
    "                href=f\"https://www.openstreetmap.org/way/{edge['osmid']}\", \n",
    "                years=['cycle', 'masked'], \n",
    "                data=dict()\n",
    "                )\n",
    "                vis_data['data'] = {year:[dif_attributes['label'],True]}\n",
    "                dif_attributes['vis_data'] = vis_data\n",
    "                dif_masked_road.add_edges_from([(x[0], x[1], dif_attributes)])\n",
    "        else:\n",
    "            vis_data = dict(\n",
    "            href=f\"https://www.openstreetmap.org/way/{edge['osmid']}\", \n",
    "            years=['cycle', 'masked'], \n",
    "            data=dict()\n",
    "            )\n",
    "            dif_attributes = edge.copy()\n",
    "            vis_data['data'] = {year:[dif_attributes['label'],False]}\n",
    "\n",
    "            dif_attributes['vis_data'] = vis_data\n",
    "            diff_unmasked.add_edges_from([(x[0], x[1], dif_attributes)])\n",
    "            \n",
    "    m = ox.plot_graph_folium(diff_unmasked, popup_attribute='vis_data', color=\"blue\")\n",
    "    m = ox.plot_graph_folium(dif_masked_road, popup_attribute='vis_data', graph_map=m, color=\"#d95f02\")\n",
    "    m = ox.plot_graph_folium(dif_masked_cycle, popup_attribute='vis_data', graph_map=m, color=\"green\")\n",
    "    #m = ox.plot_graph_folium(dif_masked_road, popup_attribute='vis_data', graph_map=m, color=\"red\")\n",
    "\n",
    "    return m, [diff_unmasked, dif_masked_cycle, dif_masked_road]"
   ]
  },
  {
   "cell_type": "code",
   "execution_count": null,
   "id": "bronze-harvest",
   "metadata": {},
   "outputs": [],
   "source": [
    "import pickle\n",
    "\n",
    "with open('data/best_pred_2014.pickle', 'rb') as handle:\n",
    "    best_pred = pickle.load(handle)"
   ]
  },
  {
   "cell_type": "code",
   "execution_count": null,
   "id": "controlling-drinking",
   "metadata": {},
   "outputs": [],
   "source": [
    "y_pred = best_pred\n",
    "y_true = wro_2014_with_masks.ndata['label']\n",
    "y_true = y_true.squeeze().long()\n",
    "preds = y_pred.max(1)[1].type_as(y_true)"
   ]
  },
  {
   "cell_type": "code",
   "execution_count": null,
   "id": "collect-radio",
   "metadata": {},
   "outputs": [],
   "source": [
    "preds.unique(return_counts=True)"
   ]
  },
  {
   "cell_type": "code",
   "execution_count": null,
   "id": "broke-guidance",
   "metadata": {},
   "outputs": [],
   "source": [
    "mask_temp = preds.type_as(mask_temp)\n",
    "m, parts = show_preds(wroclaw_2014_labels,wro_2014_with_masks.ndata['label'] ,mask_temp)\n"
   ]
  },
  {
   "cell_type": "code",
   "execution_count": null,
   "id": "wireless-electron",
   "metadata": {},
   "outputs": [],
   "source": [
    "mask_temp.unique(return_counts=True)"
   ]
  },
  {
   "cell_type": "code",
   "execution_count": null,
   "id": "right-ancient",
   "metadata": {},
   "outputs": [],
   "source": [
    "\n",
    "\n",
    "for place in places_to_download:\n",
    "    gdf = ox.geocoder.geocode_to_gdf(place)"
   ]
  },
  {
   "cell_type": "code",
   "execution_count": 64,
   "id": "optical-thong",
   "metadata": {},
   "outputs": [],
   "source": [
    "places_to_download = [\"Wrocław, województwo dolnośląskie, Polska\",\n",
    "            \"Gdańsk, województwo pomorskie, Polska\",\n",
    "            \"Poznań, województwo wielkopolskie, Polska\",\n",
    "            \"Warszawa, województwo mazowieckie, Polska\",\n",
    "            \"Kraków, województwo małopolskie, Polska\",\n",
    "            \"Berlin, Niemcy\",\n",
    "            \"Mediolan, Lombardia, Włochy\",\n",
    "            \"Amsterdam, Holandia Północna, Niderlandy, Holandia\",\n",
    "            \"Londyn, Greater London, Anglia, Wielka Brytania\",\n",
    "            \"Budapeszt, Środkowe Węgry, Węgry\",\n",
    "            \"Sztokholm, Solna kommun, Stockholm County, Szwecja\",\n",
    "            \"Oslo, Norwegia\",\n",
    "            \"Wilno, Samorząd miasta Wilna, Okręg wileński, Litwa\",\n",
    "            \"Bruksela, Brussels-Capital, Belgia\",\n",
    "            \"Rzym, Roma Capitale, Lacjum, Włochy\",\n",
    "            \"Florencja, Metropolitan City of Florence, Toskania, Włochy\",\n",
    "            \"Bolonia, Emilia-Romania, Włochy\",\n",
    "            \"Lizbona, Lisbon, Portugalia\",\n",
    "            \"Madryt, Área metropolitana de Madrid y Corredor del Henares, Wspólnota Madrytu, Hiszpania\",\n",
    "            \"Sewilla, Sevilla, Andaluzja, Hiszpania\",\n",
    "            \"Walencja, Comarca de València, Walencja, Wspólnota Walencka, Hiszpania\",\n",
    "            \"Barcelona, Barcelonès, Barcelona, Katalonia, 08001, Hiszpania\",\n",
    "            \"Bilbao, Biscay, Kraj Basków, Hiszpania\",\n",
    "            \"Saragossa, Zaragoza, Saragossa, Aragonia, Hiszpania\",\n",
    "            \"Marsylia, Marseille, Bouches-du-Rhône, Prowansja-Alpy-Lazurowe Wybrzeże, Francja metropolitalna, 13000, Francja\",\n",
    "            \"Lyon, Métropole de Lyon, Departemental constituency of Rhône, Owernia-Rodan-Alpy, Francja metropolitalna, Francja\",\n",
    "            \"Bordeaux, Żyronda, Nowa Akwitania, Francja metropolitalna, Francja\",\n",
    "            \"Paryż, Ile-de-France, Francja metropolitalna, Francja\",\n",
    "            \"Rennes, Ille-et-Vilaine, Brittany, Francja metropolitalna, Francja\",\n",
    "            \"Lille, Nord, Hauts-de-France, Francja metropolitalna, Francja \",\n",
    "            \"Amiens, Somme, Hauts-de-France, Francja metropolitalna, Francja\",\n",
    "            \"Dublin, Dublin 1, Leinster, Irlandia\",\n",
    "            \"Rotterdam, Holandia Południowa, Niderlandy, Holandia\",\n",
    "            \"Haga, Holandia Południowa, Niderlandy, Holandia\",\n",
    "            \"Dordrecht, Holandia Południowa, Niderlandy, Holandia\",\n",
    "            \"Antwerpia, Flanders, Belgia\",\n",
    "            \"Essen, Nadrenia Północna-Westfalia, Niemcy\",\n",
    "            \"Hanower, Region Hannover, Dolna Saksonia, Niemcy\",\n",
    "            \"Monachium, Bawaria, Niemcy\",\n",
    "            \"Berno, Bern-Mittelland administrative district, Bernese Mittelland administrative region, Berno, Szwajcaria\",\n",
    "            \"Zurych, District Zurich, Zurych, Szwajcaria\",\n",
    "            \"Bazylea, Basel-City, Szwajcaria\",\n",
    "            \"Salzburg, 5020, Austria\",\n",
    "            \"Wiedeń, Austria\",\n",
    "            \"Praga, Czechy\",\n",
    "            \"Malmo, Malmö kommun, Skåne County, Szwecja\",\n",
    "            \"Central Region, Malta\",\n",
    "            \"Ljubljana, Upravna Enota Ljubljana, Słowenia\",\n",
    "            \"Zagrzeb, City of Zagreb, Chorwacja\",\n",
    "            \"Budapeszt, Środkowe Węgry, Węgry\",\n",
    "            \"Bukareszt, Rumunia\",\n",
    "            \"Helsinki, Helsinki sub-region, Uusimaa, Southern Finland, Mainland Finland, Finlandia\",\n",
    "            \"Wenecja, Venezia, Wenecja Euganejska, Włochy\",\n",
    "            \"Arnhem, Geldria, Niderlandy, Holandia\",\n",
    "            \"Bratysława, Kraj bratysławski, Słowacja\",\n",
    "            \"Tallinn, Prowincja Harju, Estonia\",\n",
    "            \"Ryga, Liwonia, Łotwa\",\n",
    "            \"Neapol, Napoli, Kampania, Włochy\",\n",
    "            \"Bari, Apulia, Włochy\",\n",
    "            \"Cardiff, Walia, CF, Wielka Brytania\",\n",
    "            \"Birmingham, Attwood Green, West Midlands Combined Authority, Anglia, Wielka Brytania\",\n",
    "            \"Lwów, Lviv Urban Hromada, Rejon lwowski, Obwód lwowski, Ukraina\"]"
   ]
  },
  {
   "cell_type": "code",
   "execution_count": null,
   "id": "extra-birth",
   "metadata": {},
   "outputs": [],
   "source": []
  },
  {
   "cell_type": "code",
   "execution_count": null,
   "id": "suspended-tradition",
   "metadata": {},
   "outputs": [],
   "source": []
  },
  {
   "cell_type": "code",
   "execution_count": null,
   "id": "defensive-frequency",
   "metadata": {},
   "outputs": [],
   "source": []
  },
  {
   "cell_type": "code",
   "execution_count": 13,
   "id": "opened-distributor",
   "metadata": {},
   "outputs": [],
   "source": [
    "wro = \"Wrocław, województwo dolnośląskie, Polska\""
   ]
  },
  {
   "cell_type": "code",
   "execution_count": 65,
   "id": "desperate-vertical",
   "metadata": {},
   "outputs": [],
   "source": [
    "gdf = ox.geocoder.geocode_to_gdf(places_to_download)"
   ]
  },
  {
   "cell_type": "code",
   "execution_count": 18,
   "id": "aggregate-butter",
   "metadata": {},
   "outputs": [
    {
     "data": {
      "text/plain": [
       "Index(['geometry', 'bbox_north', 'bbox_south', 'bbox_east', 'bbox_west',\n",
       "       'place_id', 'osm_type', 'osm_id', 'lat', 'lon', 'display_name', 'class',\n",
       "       'type', 'importance'],\n",
       "      dtype='object')"
      ]
     },
     "execution_count": 18,
     "metadata": {},
     "output_type": "execute_result"
    }
   ],
   "source": [
    "gdf.columns"
   ]
  },
  {
   "cell_type": "code",
   "execution_count": 30,
   "id": "veterinary-progressive",
   "metadata": {},
   "outputs": [
    {
     "data": {
      "text/html": [
       "<div>\n",
       "<style scoped>\n",
       "    .dataframe tbody tr th:only-of-type {\n",
       "        vertical-align: middle;\n",
       "    }\n",
       "\n",
       "    .dataframe tbody tr th {\n",
       "        vertical-align: top;\n",
       "    }\n",
       "\n",
       "    .dataframe thead th {\n",
       "        text-align: right;\n",
       "    }\n",
       "</style>\n",
       "<table border=\"1\" class=\"dataframe\">\n",
       "  <thead>\n",
       "    <tr style=\"text-align: right;\">\n",
       "      <th></th>\n",
       "      <th>geometry</th>\n",
       "      <th>bbox_north</th>\n",
       "      <th>bbox_south</th>\n",
       "      <th>bbox_east</th>\n",
       "      <th>bbox_west</th>\n",
       "      <th>place_id</th>\n",
       "      <th>osm_type</th>\n",
       "      <th>osm_id</th>\n",
       "      <th>lat</th>\n",
       "      <th>lon</th>\n",
       "      <th>display_name</th>\n",
       "      <th>class</th>\n",
       "      <th>type</th>\n",
       "      <th>importance</th>\n",
       "    </tr>\n",
       "  </thead>\n",
       "  <tbody>\n",
       "    <tr>\n",
       "      <th>0</th>\n",
       "      <td>POLYGON ((16.80734 51.13895, 16.80859 51.13887...</td>\n",
       "      <td>51.210060</td>\n",
       "      <td>51.042669</td>\n",
       "      <td>17.176219</td>\n",
       "      <td>16.807339</td>\n",
       "      <td>285394989</td>\n",
       "      <td>relation</td>\n",
       "      <td>2805691</td>\n",
       "      <td>51.126311</td>\n",
       "      <td>16.978196</td>\n",
       "      <td>Wrocław, Lower Silesian Voivodeship, Poland</td>\n",
       "      <td>boundary</td>\n",
       "      <td>administrative</td>\n",
       "      <td>0.774750</td>\n",
       "    </tr>\n",
       "    <tr>\n",
       "      <th>1</th>\n",
       "      <td>POLYGON ((18.42950 54.38505, 18.42963 54.38503...</td>\n",
       "      <td>54.447218</td>\n",
       "      <td>54.274919</td>\n",
       "      <td>18.950244</td>\n",
       "      <td>18.429496</td>\n",
       "      <td>285393939</td>\n",
       "      <td>relation</td>\n",
       "      <td>2723259</td>\n",
       "      <td>54.361193</td>\n",
       "      <td>18.628609</td>\n",
       "      <td>Gdańsk, Gdansk, Pomeranian Voivodeship, Poland</td>\n",
       "      <td>boundary</td>\n",
       "      <td>administrative</td>\n",
       "      <td>0.768692</td>\n",
       "    </tr>\n",
       "    <tr>\n",
       "      <th>2</th>\n",
       "      <td>MULTIPOLYGON (((13.08835 52.41963, 13.09021 52...</td>\n",
       "      <td>52.675509</td>\n",
       "      <td>52.338245</td>\n",
       "      <td>13.761161</td>\n",
       "      <td>13.088345</td>\n",
       "      <td>285001329</td>\n",
       "      <td>relation</td>\n",
       "      <td>62422</td>\n",
       "      <td>52.517037</td>\n",
       "      <td>13.388860</td>\n",
       "      <td>Berlin, Germany</td>\n",
       "      <td>boundary</td>\n",
       "      <td>administrative</td>\n",
       "      <td>0.897539</td>\n",
       "    </tr>\n",
       "    <tr>\n",
       "      <th>3</th>\n",
       "      <td>POLYGON ((9.04089 45.44745, 9.04093 45.44727, ...</td>\n",
       "      <td>45.535848</td>\n",
       "      <td>45.386738</td>\n",
       "      <td>9.278110</td>\n",
       "      <td>9.040887</td>\n",
       "      <td>283684439</td>\n",
       "      <td>relation</td>\n",
       "      <td>44915</td>\n",
       "      <td>45.464194</td>\n",
       "      <td>9.189635</td>\n",
       "      <td>Milan, Lombardy, Italy</td>\n",
       "      <td>boundary</td>\n",
       "      <td>administrative</td>\n",
       "      <td>0.739065</td>\n",
       "    </tr>\n",
       "    <tr>\n",
       "      <th>4</th>\n",
       "      <td>MULTIPOLYGON (((4.72876 52.40071, 4.73371 52.4...</td>\n",
       "      <td>52.431064</td>\n",
       "      <td>52.278174</td>\n",
       "      <td>5.079162</td>\n",
       "      <td>4.728756</td>\n",
       "      <td>284964520</td>\n",
       "      <td>relation</td>\n",
       "      <td>271110</td>\n",
       "      <td>52.372760</td>\n",
       "      <td>4.893604</td>\n",
       "      <td>Amsterdam, North Holland, Netherlands</td>\n",
       "      <td>boundary</td>\n",
       "      <td>administrative</td>\n",
       "      <td>0.836813</td>\n",
       "    </tr>\n",
       "    <tr>\n",
       "      <th>5</th>\n",
       "      <td>POLYGON ((16.73159 52.46375, 16.73162 52.46365...</td>\n",
       "      <td>52.509328</td>\n",
       "      <td>52.291924</td>\n",
       "      <td>17.071707</td>\n",
       "      <td>16.731588</td>\n",
       "      <td>285284713</td>\n",
       "      <td>relation</td>\n",
       "      <td>2989158</td>\n",
       "      <td>52.400663</td>\n",
       "      <td>16.919733</td>\n",
       "      <td>Poznań, Greater Poland Voivodeship, Poland</td>\n",
       "      <td>boundary</td>\n",
       "      <td>administrative</td>\n",
       "      <td>0.774541</td>\n",
       "    </tr>\n",
       "  </tbody>\n",
       "</table>\n",
       "</div>"
      ],
      "text/plain": [
       "                                            geometry  bbox_north  bbox_south  \\\n",
       "0  POLYGON ((16.80734 51.13895, 16.80859 51.13887...   51.210060   51.042669   \n",
       "1  POLYGON ((18.42950 54.38505, 18.42963 54.38503...   54.447218   54.274919   \n",
       "2  MULTIPOLYGON (((13.08835 52.41963, 13.09021 52...   52.675509   52.338245   \n",
       "3  POLYGON ((9.04089 45.44745, 9.04093 45.44727, ...   45.535848   45.386738   \n",
       "4  MULTIPOLYGON (((4.72876 52.40071, 4.73371 52.4...   52.431064   52.278174   \n",
       "5  POLYGON ((16.73159 52.46375, 16.73162 52.46365...   52.509328   52.291924   \n",
       "\n",
       "   bbox_east  bbox_west   place_id  osm_type   osm_id        lat        lon  \\\n",
       "0  17.176219  16.807339  285394989  relation  2805691  51.126311  16.978196   \n",
       "1  18.950244  18.429496  285393939  relation  2723259  54.361193  18.628609   \n",
       "2  13.761161  13.088345  285001329  relation    62422  52.517037  13.388860   \n",
       "3   9.278110   9.040887  283684439  relation    44915  45.464194   9.189635   \n",
       "4   5.079162   4.728756  284964520  relation   271110  52.372760   4.893604   \n",
       "5  17.071707  16.731588  285284713  relation  2989158  52.400663  16.919733   \n",
       "\n",
       "                                     display_name     class            type  \\\n",
       "0     Wrocław, Lower Silesian Voivodeship, Poland  boundary  administrative   \n",
       "1  Gdańsk, Gdansk, Pomeranian Voivodeship, Poland  boundary  administrative   \n",
       "2                                 Berlin, Germany  boundary  administrative   \n",
       "3                          Milan, Lombardy, Italy  boundary  administrative   \n",
       "4           Amsterdam, North Holland, Netherlands  boundary  administrative   \n",
       "5      Poznań, Greater Poland Voivodeship, Poland  boundary  administrative   \n",
       "\n",
       "   importance  \n",
       "0    0.774750  \n",
       "1    0.768692  \n",
       "2    0.897539  \n",
       "3    0.739065  \n",
       "4    0.836813  \n",
       "5    0.774541  "
      ]
     },
     "execution_count": 30,
     "metadata": {},
     "output_type": "execute_result"
    }
   ],
   "source": [
    "gdf"
   ]
  },
  {
   "cell_type": "code",
   "execution_count": 66,
   "id": "decreased-payday",
   "metadata": {
    "scrolled": true
   },
   "outputs": [
    {
     "data": {
      "text/html": [
       "<div style=\"width:100%;\"><div style=\"position:relative;width:100%;height:0;padding-bottom:60%;\"><span style=\"color:#565656\">Make this Notebook Trusted to load map: File -> Trust Notebook</span><iframe src=\"about:blank\" style=\"position:absolute;width:100%;height:100%;left:0;top:0;border:none !important;\" data-html=%3C%21DOCTYPE%20html%3E%0A%3Chead%3E%20%20%20%20%0A%20%20%20%20%3Cmeta%20http-equiv%3D%22content-type%22%20content%3D%22text/html%3B%20charset%3DUTF-8%22%20/%3E%0A%20%20%20%20%0A%20%20%20%20%20%20%20%20%3Cscript%3E%0A%20%20%20%20%20%20%20%20%20%20%20%20L_NO_TOUCH%20%3D%20false%3B%0A%20%20%20%20%20%20%20%20%20%20%20%20L_DISABLE_3D%20%3D%20false%3B%0A%20%20%20%20%20%20%20%20%3C/script%3E%0A%20%20%20%20%0A%20%20%20%20%3Cstyle%3Ehtml%2C%20body%20%7Bwidth%3A%20100%25%3Bheight%3A%20100%25%3Bmargin%3A%200%3Bpadding%3A%200%3B%7D%3C/style%3E%0A%20%20%20%20%3Cstyle%3E%23map%20%7Bposition%3Aabsolute%3Btop%3A0%3Bbottom%3A0%3Bright%3A0%3Bleft%3A0%3B%7D%3C/style%3E%0A%20%20%20%20%3Cscript%20src%3D%22https%3A//cdn.jsdelivr.net/npm/leaflet%401.6.0/dist/leaflet.js%22%3E%3C/script%3E%0A%20%20%20%20%3Cscript%20src%3D%22https%3A//code.jquery.com/jquery-1.12.4.min.js%22%3E%3C/script%3E%0A%20%20%20%20%3Cscript%20src%3D%22https%3A//maxcdn.bootstrapcdn.com/bootstrap/3.2.0/js/bootstrap.min.js%22%3E%3C/script%3E%0A%20%20%20%20%3Cscript%20src%3D%22https%3A//cdnjs.cloudflare.com/ajax/libs/Leaflet.awesome-markers/2.0.2/leaflet.awesome-markers.js%22%3E%3C/script%3E%0A%20%20%20%20%3Clink%20rel%3D%22stylesheet%22%20href%3D%22https%3A//cdn.jsdelivr.net/npm/leaflet%401.6.0/dist/leaflet.css%22/%3E%0A%20%20%20%20%3Clink%20rel%3D%22stylesheet%22%20href%3D%22https%3A//maxcdn.bootstrapcdn.com/bootstrap/3.2.0/css/bootstrap.min.css%22/%3E%0A%20%20%20%20%3Clink%20rel%3D%22stylesheet%22%20href%3D%22https%3A//maxcdn.bootstrapcdn.com/bootstrap/3.2.0/css/bootstrap-theme.min.css%22/%3E%0A%20%20%20%20%3Clink%20rel%3D%22stylesheet%22%20href%3D%22https%3A//maxcdn.bootstrapcdn.com/font-awesome/4.6.3/css/font-awesome.min.css%22/%3E%0A%20%20%20%20%3Clink%20rel%3D%22stylesheet%22%20href%3D%22https%3A//cdnjs.cloudflare.com/ajax/libs/Leaflet.awesome-markers/2.0.2/leaflet.awesome-markers.css%22/%3E%0A%20%20%20%20%3Clink%20rel%3D%22stylesheet%22%20href%3D%22https%3A//cdn.jsdelivr.net/gh/python-visualization/folium/folium/templates/leaflet.awesome.rotate.min.css%22/%3E%0A%20%20%20%20%0A%20%20%20%20%20%20%20%20%20%20%20%20%3Cmeta%20name%3D%22viewport%22%20content%3D%22width%3Ddevice-width%2C%0A%20%20%20%20%20%20%20%20%20%20%20%20%20%20%20%20initial-scale%3D1.0%2C%20maximum-scale%3D1.0%2C%20user-scalable%3Dno%22%20/%3E%0A%20%20%20%20%20%20%20%20%20%20%20%20%3Cstyle%3E%0A%20%20%20%20%20%20%20%20%20%20%20%20%20%20%20%20%23map_8b7d062d86314a519ee47979f7636100%20%7B%0A%20%20%20%20%20%20%20%20%20%20%20%20%20%20%20%20%20%20%20%20position%3A%20relative%3B%0A%20%20%20%20%20%20%20%20%20%20%20%20%20%20%20%20%20%20%20%20width%3A%20100.0%25%3B%0A%20%20%20%20%20%20%20%20%20%20%20%20%20%20%20%20%20%20%20%20height%3A%20100.0%25%3B%0A%20%20%20%20%20%20%20%20%20%20%20%20%20%20%20%20%20%20%20%20left%3A%200.0%25%3B%0A%20%20%20%20%20%20%20%20%20%20%20%20%20%20%20%20%20%20%20%20top%3A%200.0%25%3B%0A%20%20%20%20%20%20%20%20%20%20%20%20%20%20%20%20%7D%0A%20%20%20%20%20%20%20%20%20%20%20%20%3C/style%3E%0A%20%20%20%20%20%20%20%20%0A%3C/head%3E%0A%3Cbody%3E%20%20%20%20%0A%20%20%20%20%0A%20%20%20%20%20%20%20%20%20%20%20%20%3Cdiv%20class%3D%22folium-map%22%20id%3D%22map_8b7d062d86314a519ee47979f7636100%22%20%3E%3C/div%3E%0A%20%20%20%20%20%20%20%20%0A%3C/body%3E%0A%3Cscript%3E%20%20%20%20%0A%20%20%20%20%0A%20%20%20%20%20%20%20%20%20%20%20%20var%20map_8b7d062d86314a519ee47979f7636100%20%3D%20L.map%28%0A%20%20%20%20%20%20%20%20%20%20%20%20%20%20%20%20%22map_8b7d062d86314a519ee47979f7636100%22%2C%0A%20%20%20%20%20%20%20%20%20%20%20%20%20%20%20%20%7B%0A%20%20%20%20%20%20%20%20%20%20%20%20%20%20%20%20%20%20%20%20center%3A%20%5B0%2C%200%5D%2C%0A%20%20%20%20%20%20%20%20%20%20%20%20%20%20%20%20%20%20%20%20crs%3A%20L.CRS.EPSG3857%2C%0A%20%20%20%20%20%20%20%20%20%20%20%20%20%20%20%20%20%20%20%20zoom%3A%201%2C%0A%20%20%20%20%20%20%20%20%20%20%20%20%20%20%20%20%20%20%20%20zoomControl%3A%20true%2C%0A%20%20%20%20%20%20%20%20%20%20%20%20%20%20%20%20%20%20%20%20preferCanvas%3A%20false%2C%0A%20%20%20%20%20%20%20%20%20%20%20%20%20%20%20%20%7D%0A%20%20%20%20%20%20%20%20%20%20%20%20%29%3B%0A%0A%20%20%20%20%20%20%20%20%20%20%20%20%0A%0A%20%20%20%20%20%20%20%20%0A%20%20%20%20%0A%20%20%20%20%20%20%20%20%20%20%20%20var%20tile_layer_3aa79eb5354e4042a93a0cee977ff442%20%3D%20L.tileLayer%28%0A%20%20%20%20%20%20%20%20%20%20%20%20%20%20%20%20%22https%3A//cartodb-basemaps-%7Bs%7D.global.ssl.fastly.net/light_all/%7Bz%7D/%7Bx%7D/%7By%7D.png%22%2C%0A%20%20%20%20%20%20%20%20%20%20%20%20%20%20%20%20%7B%22attribution%22%3A%20%22%5Cu0026copy%3B%20%5Cu003ca%20href%3D%5C%22http%3A//www.openstreetmap.org/copyright%5C%22%5Cu003eOpenStreetMap%5Cu003c/a%5Cu003e%20contributors%20%5Cu0026copy%3B%20%5Cu003ca%20href%3D%5C%22http%3A//cartodb.com/attributions%5C%22%5Cu003eCartoDB%5Cu003c/a%5Cu003e%2C%20CartoDB%20%5Cu003ca%20href%20%3D%5C%22http%3A//cartodb.com/attributions%5C%22%5Cu003eattributions%5Cu003c/a%5Cu003e%22%2C%20%22detectRetina%22%3A%20false%2C%20%22maxNativeZoom%22%3A%2018%2C%20%22maxZoom%22%3A%2018%2C%20%22minZoom%22%3A%200%2C%20%22noWrap%22%3A%20false%2C%20%22opacity%22%3A%201%2C%20%22subdomains%22%3A%20%22abc%22%2C%20%22tms%22%3A%20false%7D%0A%20%20%20%20%20%20%20%20%20%20%20%20%29.addTo%28map_8b7d062d86314a519ee47979f7636100%29%3B%0A%20%20%20%20%20%20%20%20%0A%20%20%20%20%0A%20%20%20%20%20%20%20%20%20%20%20%20var%20circle_marker_72419f7e3f83488caad0e1f88ffd66f6%20%3D%20L.circleMarker%28%0A%20%20%20%20%20%20%20%20%20%20%20%20%20%20%20%20%5B51.1263106%2C%2016.97819633051261%5D%2C%0A%20%20%20%20%20%20%20%20%20%20%20%20%20%20%20%20%7B%22bubblingMouseEvents%22%3A%20true%2C%20%22color%22%3A%20%22Black%22%2C%20%22dashArray%22%3A%20null%2C%20%22dashOffset%22%3A%20null%2C%20%22fill%22%3A%20true%2C%20%22fillColor%22%3A%20%22Black%22%2C%20%22fillOpacity%22%3A%200.2%2C%20%22fillRule%22%3A%20%22evenodd%22%2C%20%22lineCap%22%3A%20%22round%22%2C%20%22lineJoin%22%3A%20%22round%22%2C%20%22opacity%22%3A%201.0%2C%20%22radius%22%3A%202%2C%20%22stroke%22%3A%20true%2C%20%22weight%22%3A%203%7D%0A%20%20%20%20%20%20%20%20%20%20%20%20%29.addTo%28map_8b7d062d86314a519ee47979f7636100%29%3B%0A%20%20%20%20%20%20%20%20%0A%20%20%20%20%0A%20%20%20%20%20%20%20%20%20%20%20%20var%20circle_marker_6155f5b239eb40b1be76cd83c0a23d2a%20%3D%20L.circleMarker%28%0A%20%20%20%20%20%20%20%20%20%20%20%20%20%20%20%20%5B54.36119285%2C%2018.62860883362069%5D%2C%0A%20%20%20%20%20%20%20%20%20%20%20%20%20%20%20%20%7B%22bubblingMouseEvents%22%3A%20true%2C%20%22color%22%3A%20%22Black%22%2C%20%22dashArray%22%3A%20null%2C%20%22dashOffset%22%3A%20null%2C%20%22fill%22%3A%20true%2C%20%22fillColor%22%3A%20%22Black%22%2C%20%22fillOpacity%22%3A%200.2%2C%20%22fillRule%22%3A%20%22evenodd%22%2C%20%22lineCap%22%3A%20%22round%22%2C%20%22lineJoin%22%3A%20%22round%22%2C%20%22opacity%22%3A%201.0%2C%20%22radius%22%3A%202%2C%20%22stroke%22%3A%20true%2C%20%22weight%22%3A%203%7D%0A%20%20%20%20%20%20%20%20%20%20%20%20%29.addTo%28map_8b7d062d86314a519ee47979f7636100%29%3B%0A%20%20%20%20%20%20%20%20%0A%20%20%20%20%0A%20%20%20%20%20%20%20%20%20%20%20%20var%20circle_marker_872c42973adc4350bb3803d210c6f255%20%3D%20L.circleMarker%28%0A%20%20%20%20%20%20%20%20%20%20%20%20%20%20%20%20%5B52.4006632%2C%2016.91973259178088%5D%2C%0A%20%20%20%20%20%20%20%20%20%20%20%20%20%20%20%20%7B%22bubblingMouseEvents%22%3A%20true%2C%20%22color%22%3A%20%22Black%22%2C%20%22dashArray%22%3A%20null%2C%20%22dashOffset%22%3A%20null%2C%20%22fill%22%3A%20true%2C%20%22fillColor%22%3A%20%22Black%22%2C%20%22fillOpacity%22%3A%200.2%2C%20%22fillRule%22%3A%20%22evenodd%22%2C%20%22lineCap%22%3A%20%22round%22%2C%20%22lineJoin%22%3A%20%22round%22%2C%20%22opacity%22%3A%201.0%2C%20%22radius%22%3A%202%2C%20%22stroke%22%3A%20true%2C%20%22weight%22%3A%203%7D%0A%20%20%20%20%20%20%20%20%20%20%20%20%29.addTo%28map_8b7d062d86314a519ee47979f7636100%29%3B%0A%20%20%20%20%20%20%20%20%0A%20%20%20%20%0A%20%20%20%20%20%20%20%20%20%20%20%20var%20circle_marker_698c544af40840f0a2ccdc8f1281ab5e%20%3D%20L.circleMarker%28%0A%20%20%20%20%20%20%20%20%20%20%20%20%20%20%20%20%5B52.2319581%2C%2021.0067249%5D%2C%0A%20%20%20%20%20%20%20%20%20%20%20%20%20%20%20%20%7B%22bubblingMouseEvents%22%3A%20true%2C%20%22color%22%3A%20%22Black%22%2C%20%22dashArray%22%3A%20null%2C%20%22dashOffset%22%3A%20null%2C%20%22fill%22%3A%20true%2C%20%22fillColor%22%3A%20%22Black%22%2C%20%22fillOpacity%22%3A%200.2%2C%20%22fillRule%22%3A%20%22evenodd%22%2C%20%22lineCap%22%3A%20%22round%22%2C%20%22lineJoin%22%3A%20%22round%22%2C%20%22opacity%22%3A%201.0%2C%20%22radius%22%3A%202%2C%20%22stroke%22%3A%20true%2C%20%22weight%22%3A%203%7D%0A%20%20%20%20%20%20%20%20%20%20%20%20%29.addTo%28map_8b7d062d86314a519ee47979f7636100%29%3B%0A%20%20%20%20%20%20%20%20%0A%20%20%20%20%0A%20%20%20%20%20%20%20%20%20%20%20%20var%20circle_marker_3ae2d0fcefb146b9ace4c5c28d5ecc8c%20%3D%20L.circleMarker%28%0A%20%20%20%20%20%20%20%20%20%20%20%20%20%20%20%20%5B50.0469432%2C%2019.997153435836697%5D%2C%0A%20%20%20%20%20%20%20%20%20%20%20%20%20%20%20%20%7B%22bubblingMouseEvents%22%3A%20true%2C%20%22color%22%3A%20%22Black%22%2C%20%22dashArray%22%3A%20null%2C%20%22dashOffset%22%3A%20null%2C%20%22fill%22%3A%20true%2C%20%22fillColor%22%3A%20%22Black%22%2C%20%22fillOpacity%22%3A%200.2%2C%20%22fillRule%22%3A%20%22evenodd%22%2C%20%22lineCap%22%3A%20%22round%22%2C%20%22lineJoin%22%3A%20%22round%22%2C%20%22opacity%22%3A%201.0%2C%20%22radius%22%3A%202%2C%20%22stroke%22%3A%20true%2C%20%22weight%22%3A%203%7D%0A%20%20%20%20%20%20%20%20%20%20%20%20%29.addTo%28map_8b7d062d86314a519ee47979f7636100%29%3B%0A%20%20%20%20%20%20%20%20%0A%20%20%20%20%0A%20%20%20%20%20%20%20%20%20%20%20%20var%20circle_marker_fc4b5c113d8d4a89b19be29ceb67a81d%20%3D%20L.circleMarker%28%0A%20%20%20%20%20%20%20%20%20%20%20%20%20%20%20%20%5B52.5170365%2C%2013.3888599%5D%2C%0A%20%20%20%20%20%20%20%20%20%20%20%20%20%20%20%20%7B%22bubblingMouseEvents%22%3A%20true%2C%20%22color%22%3A%20%22Black%22%2C%20%22dashArray%22%3A%20null%2C%20%22dashOffset%22%3A%20null%2C%20%22fill%22%3A%20true%2C%20%22fillColor%22%3A%20%22Black%22%2C%20%22fillOpacity%22%3A%200.2%2C%20%22fillRule%22%3A%20%22evenodd%22%2C%20%22lineCap%22%3A%20%22round%22%2C%20%22lineJoin%22%3A%20%22round%22%2C%20%22opacity%22%3A%201.0%2C%20%22radius%22%3A%202%2C%20%22stroke%22%3A%20true%2C%20%22weight%22%3A%203%7D%0A%20%20%20%20%20%20%20%20%20%20%20%20%29.addTo%28map_8b7d062d86314a519ee47979f7636100%29%3B%0A%20%20%20%20%20%20%20%20%0A%20%20%20%20%0A%20%20%20%20%20%20%20%20%20%20%20%20var%20circle_marker_57052e4f71d34feaa27f7edda4baaf5c%20%3D%20L.circleMarker%28%0A%20%20%20%20%20%20%20%20%20%20%20%20%20%20%20%20%5B45.4641943%2C%209.1896346%5D%2C%0A%20%20%20%20%20%20%20%20%20%20%20%20%20%20%20%20%7B%22bubblingMouseEvents%22%3A%20true%2C%20%22color%22%3A%20%22Black%22%2C%20%22dashArray%22%3A%20null%2C%20%22dashOffset%22%3A%20null%2C%20%22fill%22%3A%20true%2C%20%22fillColor%22%3A%20%22Black%22%2C%20%22fillOpacity%22%3A%200.2%2C%20%22fillRule%22%3A%20%22evenodd%22%2C%20%22lineCap%22%3A%20%22round%22%2C%20%22lineJoin%22%3A%20%22round%22%2C%20%22opacity%22%3A%201.0%2C%20%22radius%22%3A%202%2C%20%22stroke%22%3A%20true%2C%20%22weight%22%3A%203%7D%0A%20%20%20%20%20%20%20%20%20%20%20%20%29.addTo%28map_8b7d062d86314a519ee47979f7636100%29%3B%0A%20%20%20%20%20%20%20%20%0A%20%20%20%20%0A%20%20%20%20%20%20%20%20%20%20%20%20var%20circle_marker_7110bb65bfd641a4b37d3b922168c392%20%3D%20L.circleMarker%28%0A%20%20%20%20%20%20%20%20%20%20%20%20%20%20%20%20%5B52.3727598%2C%204.8936041%5D%2C%0A%20%20%20%20%20%20%20%20%20%20%20%20%20%20%20%20%7B%22bubblingMouseEvents%22%3A%20true%2C%20%22color%22%3A%20%22Black%22%2C%20%22dashArray%22%3A%20null%2C%20%22dashOffset%22%3A%20null%2C%20%22fill%22%3A%20true%2C%20%22fillColor%22%3A%20%22Black%22%2C%20%22fillOpacity%22%3A%200.2%2C%20%22fillRule%22%3A%20%22evenodd%22%2C%20%22lineCap%22%3A%20%22round%22%2C%20%22lineJoin%22%3A%20%22round%22%2C%20%22opacity%22%3A%201.0%2C%20%22radius%22%3A%202%2C%20%22stroke%22%3A%20true%2C%20%22weight%22%3A%203%7D%0A%20%20%20%20%20%20%20%20%20%20%20%20%29.addTo%28map_8b7d062d86314a519ee47979f7636100%29%3B%0A%20%20%20%20%20%20%20%20%0A%20%20%20%20%0A%20%20%20%20%20%20%20%20%20%20%20%20var%20circle_marker_281cfb9e52bc4fc7aee022ebbeaa5294%20%3D%20L.circleMarker%28%0A%20%20%20%20%20%20%20%20%20%20%20%20%20%20%20%20%5B51.5073219%2C%20-0.1276474%5D%2C%0A%20%20%20%20%20%20%20%20%20%20%20%20%20%20%20%20%7B%22bubblingMouseEvents%22%3A%20true%2C%20%22color%22%3A%20%22Black%22%2C%20%22dashArray%22%3A%20null%2C%20%22dashOffset%22%3A%20null%2C%20%22fill%22%3A%20true%2C%20%22fillColor%22%3A%20%22Black%22%2C%20%22fillOpacity%22%3A%200.2%2C%20%22fillRule%22%3A%20%22evenodd%22%2C%20%22lineCap%22%3A%20%22round%22%2C%20%22lineJoin%22%3A%20%22round%22%2C%20%22opacity%22%3A%201.0%2C%20%22radius%22%3A%202%2C%20%22stroke%22%3A%20true%2C%20%22weight%22%3A%203%7D%0A%20%20%20%20%20%20%20%20%20%20%20%20%29.addTo%28map_8b7d062d86314a519ee47979f7636100%29%3B%0A%20%20%20%20%20%20%20%20%0A%20%20%20%20%0A%20%20%20%20%20%20%20%20%20%20%20%20var%20circle_marker_129335ecd2a647a7bcab33b757be247a%20%3D%20L.circleMarker%28%0A%20%20%20%20%20%20%20%20%20%20%20%20%20%20%20%20%5B47.4979937%2C%2019.0403594%5D%2C%0A%20%20%20%20%20%20%20%20%20%20%20%20%20%20%20%20%7B%22bubblingMouseEvents%22%3A%20true%2C%20%22color%22%3A%20%22Black%22%2C%20%22dashArray%22%3A%20null%2C%20%22dashOffset%22%3A%20null%2C%20%22fill%22%3A%20true%2C%20%22fillColor%22%3A%20%22Black%22%2C%20%22fillOpacity%22%3A%200.2%2C%20%22fillRule%22%3A%20%22evenodd%22%2C%20%22lineCap%22%3A%20%22round%22%2C%20%22lineJoin%22%3A%20%22round%22%2C%20%22opacity%22%3A%201.0%2C%20%22radius%22%3A%202%2C%20%22stroke%22%3A%20true%2C%20%22weight%22%3A%203%7D%0A%20%20%20%20%20%20%20%20%20%20%20%20%29.addTo%28map_8b7d062d86314a519ee47979f7636100%29%3B%0A%20%20%20%20%20%20%20%20%0A%20%20%20%20%0A%20%20%20%20%20%20%20%20%20%20%20%20var%20circle_marker_cf0e105470f5429496b1e48e38fec2e6%20%3D%20L.circleMarker%28%0A%20%20%20%20%20%20%20%20%20%20%20%20%20%20%20%20%5B59.3251172%2C%2018.0710935%5D%2C%0A%20%20%20%20%20%20%20%20%20%20%20%20%20%20%20%20%7B%22bubblingMouseEvents%22%3A%20true%2C%20%22color%22%3A%20%22Black%22%2C%20%22dashArray%22%3A%20null%2C%20%22dashOffset%22%3A%20null%2C%20%22fill%22%3A%20true%2C%20%22fillColor%22%3A%20%22Black%22%2C%20%22fillOpacity%22%3A%200.2%2C%20%22fillRule%22%3A%20%22evenodd%22%2C%20%22lineCap%22%3A%20%22round%22%2C%20%22lineJoin%22%3A%20%22round%22%2C%20%22opacity%22%3A%201.0%2C%20%22radius%22%3A%202%2C%20%22stroke%22%3A%20true%2C%20%22weight%22%3A%203%7D%0A%20%20%20%20%20%20%20%20%20%20%20%20%29.addTo%28map_8b7d062d86314a519ee47979f7636100%29%3B%0A%20%20%20%20%20%20%20%20%0A%20%20%20%20%0A%20%20%20%20%20%20%20%20%20%20%20%20var%20circle_marker_35fbad6e95514703bb9bdc2a8765faf7%20%3D%20L.circleMarker%28%0A%20%20%20%20%20%20%20%20%20%20%20%20%20%20%20%20%5B59.9133301%2C%2010.7389701%5D%2C%0A%20%20%20%20%20%20%20%20%20%20%20%20%20%20%20%20%7B%22bubblingMouseEvents%22%3A%20true%2C%20%22color%22%3A%20%22Black%22%2C%20%22dashArray%22%3A%20null%2C%20%22dashOffset%22%3A%20null%2C%20%22fill%22%3A%20true%2C%20%22fillColor%22%3A%20%22Black%22%2C%20%22fillOpacity%22%3A%200.2%2C%20%22fillRule%22%3A%20%22evenodd%22%2C%20%22lineCap%22%3A%20%22round%22%2C%20%22lineJoin%22%3A%20%22round%22%2C%20%22opacity%22%3A%201.0%2C%20%22radius%22%3A%202%2C%20%22stroke%22%3A%20true%2C%20%22weight%22%3A%203%7D%0A%20%20%20%20%20%20%20%20%20%20%20%20%29.addTo%28map_8b7d062d86314a519ee47979f7636100%29%3B%0A%20%20%20%20%20%20%20%20%0A%20%20%20%20%0A%20%20%20%20%20%20%20%20%20%20%20%20var%20circle_marker_1b1f7d8fd4574f5ea70bb5d7e16c99e8%20%3D%20L.circleMarker%28%0A%20%20%20%20%20%20%20%20%20%20%20%20%20%20%20%20%5B54.700921199999996%2C%2025.322104922028075%5D%2C%0A%20%20%20%20%20%20%20%20%20%20%20%20%20%20%20%20%7B%22bubblingMouseEvents%22%3A%20true%2C%20%22color%22%3A%20%22Black%22%2C%20%22dashArray%22%3A%20null%2C%20%22dashOffset%22%3A%20null%2C%20%22fill%22%3A%20true%2C%20%22fillColor%22%3A%20%22Black%22%2C%20%22fillOpacity%22%3A%200.2%2C%20%22fillRule%22%3A%20%22evenodd%22%2C%20%22lineCap%22%3A%20%22round%22%2C%20%22lineJoin%22%3A%20%22round%22%2C%20%22opacity%22%3A%201.0%2C%20%22radius%22%3A%202%2C%20%22stroke%22%3A%20true%2C%20%22weight%22%3A%203%7D%0A%20%20%20%20%20%20%20%20%20%20%20%20%29.addTo%28map_8b7d062d86314a519ee47979f7636100%29%3B%0A%20%20%20%20%20%20%20%20%0A%20%20%20%20%0A%20%20%20%20%20%20%20%20%20%20%20%20var%20circle_marker_12f6bd6917b6431bb4c5778cca17e3c6%20%3D%20L.circleMarker%28%0A%20%20%20%20%20%20%20%20%20%20%20%20%20%20%20%20%5B50.8465573%2C%204.351697%5D%2C%0A%20%20%20%20%20%20%20%20%20%20%20%20%20%20%20%20%7B%22bubblingMouseEvents%22%3A%20true%2C%20%22color%22%3A%20%22Black%22%2C%20%22dashArray%22%3A%20null%2C%20%22dashOffset%22%3A%20null%2C%20%22fill%22%3A%20true%2C%20%22fillColor%22%3A%20%22Black%22%2C%20%22fillOpacity%22%3A%200.2%2C%20%22fillRule%22%3A%20%22evenodd%22%2C%20%22lineCap%22%3A%20%22round%22%2C%20%22lineJoin%22%3A%20%22round%22%2C%20%22opacity%22%3A%201.0%2C%20%22radius%22%3A%202%2C%20%22stroke%22%3A%20true%2C%20%22weight%22%3A%203%7D%0A%20%20%20%20%20%20%20%20%20%20%20%20%29.addTo%28map_8b7d062d86314a519ee47979f7636100%29%3B%0A%20%20%20%20%20%20%20%20%0A%20%20%20%20%0A%20%20%20%20%20%20%20%20%20%20%20%20var%20circle_marker_89802c943846474a8733c4dccd5155a9%20%3D%20L.circleMarker%28%0A%20%20%20%20%20%20%20%20%20%20%20%20%20%20%20%20%5B41.8933203%2C%2012.4829321%5D%2C%0A%20%20%20%20%20%20%20%20%20%20%20%20%20%20%20%20%7B%22bubblingMouseEvents%22%3A%20true%2C%20%22color%22%3A%20%22Black%22%2C%20%22dashArray%22%3A%20null%2C%20%22dashOffset%22%3A%20null%2C%20%22fill%22%3A%20true%2C%20%22fillColor%22%3A%20%22Black%22%2C%20%22fillOpacity%22%3A%200.2%2C%20%22fillRule%22%3A%20%22evenodd%22%2C%20%22lineCap%22%3A%20%22round%22%2C%20%22lineJoin%22%3A%20%22round%22%2C%20%22opacity%22%3A%201.0%2C%20%22radius%22%3A%202%2C%20%22stroke%22%3A%20true%2C%20%22weight%22%3A%203%7D%0A%20%20%20%20%20%20%20%20%20%20%20%20%29.addTo%28map_8b7d062d86314a519ee47979f7636100%29%3B%0A%20%20%20%20%20%20%20%20%0A%20%20%20%20%0A%20%20%20%20%20%20%20%20%20%20%20%20var%20circle_marker_b218b9b4cf8f43e3a94d8c0a5ba03646%20%3D%20L.circleMarker%28%0A%20%20%20%20%20%20%20%20%20%20%20%20%20%20%20%20%5B43.7806771%2C%2011.24376289731579%5D%2C%0A%20%20%20%20%20%20%20%20%20%20%20%20%20%20%20%20%7B%22bubblingMouseEvents%22%3A%20true%2C%20%22color%22%3A%20%22Black%22%2C%20%22dashArray%22%3A%20null%2C%20%22dashOffset%22%3A%20null%2C%20%22fill%22%3A%20true%2C%20%22fillColor%22%3A%20%22Black%22%2C%20%22fillOpacity%22%3A%200.2%2C%20%22fillRule%22%3A%20%22evenodd%22%2C%20%22lineCap%22%3A%20%22round%22%2C%20%22lineJoin%22%3A%20%22round%22%2C%20%22opacity%22%3A%201.0%2C%20%22radius%22%3A%202%2C%20%22stroke%22%3A%20true%2C%20%22weight%22%3A%203%7D%0A%20%20%20%20%20%20%20%20%20%20%20%20%29.addTo%28map_8b7d062d86314a519ee47979f7636100%29%3B%0A%20%20%20%20%20%20%20%20%0A%20%20%20%20%0A%20%20%20%20%20%20%20%20%20%20%20%20var%20circle_marker_466fe02094714a7cbbb79e36037b94b5%20%3D%20L.circleMarker%28%0A%20%20%20%20%20%20%20%20%20%20%20%20%20%20%20%20%5B44.4938203%2C%2011.3426327%5D%2C%0A%20%20%20%20%20%20%20%20%20%20%20%20%20%20%20%20%7B%22bubblingMouseEvents%22%3A%20true%2C%20%22color%22%3A%20%22Black%22%2C%20%22dashArray%22%3A%20null%2C%20%22dashOffset%22%3A%20null%2C%20%22fill%22%3A%20true%2C%20%22fillColor%22%3A%20%22Black%22%2C%20%22fillOpacity%22%3A%200.2%2C%20%22fillRule%22%3A%20%22evenodd%22%2C%20%22lineCap%22%3A%20%22round%22%2C%20%22lineJoin%22%3A%20%22round%22%2C%20%22opacity%22%3A%201.0%2C%20%22radius%22%3A%202%2C%20%22stroke%22%3A%20true%2C%20%22weight%22%3A%203%7D%0A%20%20%20%20%20%20%20%20%20%20%20%20%29.addTo%28map_8b7d062d86314a519ee47979f7636100%29%3B%0A%20%20%20%20%20%20%20%20%0A%20%20%20%20%0A%20%20%20%20%20%20%20%20%20%20%20%20var%20circle_marker_b463ba70fec64bde840eab78504eb592%20%3D%20L.circleMarker%28%0A%20%20%20%20%20%20%20%20%20%20%20%20%20%20%20%20%5B38.7440523%2C%20-9.151827931741947%5D%2C%0A%20%20%20%20%20%20%20%20%20%20%20%20%20%20%20%20%7B%22bubblingMouseEvents%22%3A%20true%2C%20%22color%22%3A%20%22Black%22%2C%20%22dashArray%22%3A%20null%2C%20%22dashOffset%22%3A%20null%2C%20%22fill%22%3A%20true%2C%20%22fillColor%22%3A%20%22Black%22%2C%20%22fillOpacity%22%3A%200.2%2C%20%22fillRule%22%3A%20%22evenodd%22%2C%20%22lineCap%22%3A%20%22round%22%2C%20%22lineJoin%22%3A%20%22round%22%2C%20%22opacity%22%3A%201.0%2C%20%22radius%22%3A%202%2C%20%22stroke%22%3A%20true%2C%20%22weight%22%3A%203%7D%0A%20%20%20%20%20%20%20%20%20%20%20%20%29.addTo%28map_8b7d062d86314a519ee47979f7636100%29%3B%0A%20%20%20%20%20%20%20%20%0A%20%20%20%20%0A%20%20%20%20%20%20%20%20%20%20%20%20var%20circle_marker_6e76a96709324e6da70130e7e311b66e%20%3D%20L.circleMarker%28%0A%20%20%20%20%20%20%20%20%20%20%20%20%20%20%20%20%5B40.477791499999995%2C%20-3.6858228874917156%5D%2C%0A%20%20%20%20%20%20%20%20%20%20%20%20%20%20%20%20%7B%22bubblingMouseEvents%22%3A%20true%2C%20%22color%22%3A%20%22Black%22%2C%20%22dashArray%22%3A%20null%2C%20%22dashOffset%22%3A%20null%2C%20%22fill%22%3A%20true%2C%20%22fillColor%22%3A%20%22Black%22%2C%20%22fillOpacity%22%3A%200.2%2C%20%22fillRule%22%3A%20%22evenodd%22%2C%20%22lineCap%22%3A%20%22round%22%2C%20%22lineJoin%22%3A%20%22round%22%2C%20%22opacity%22%3A%201.0%2C%20%22radius%22%3A%202%2C%20%22stroke%22%3A%20true%2C%20%22weight%22%3A%203%7D%0A%20%20%20%20%20%20%20%20%20%20%20%20%29.addTo%28map_8b7d062d86314a519ee47979f7636100%29%3B%0A%20%20%20%20%20%20%20%20%0A%20%20%20%20%0A%20%20%20%20%20%20%20%20%20%20%20%20var%20circle_marker_319be139701944748862cba081028da8%20%3D%20L.circleMarker%28%0A%20%20%20%20%20%20%20%20%20%20%20%20%20%20%20%20%5B37.3886303%2C%20-5.9953403%5D%2C%0A%20%20%20%20%20%20%20%20%20%20%20%20%20%20%20%20%7B%22bubblingMouseEvents%22%3A%20true%2C%20%22color%22%3A%20%22Black%22%2C%20%22dashArray%22%3A%20null%2C%20%22dashOffset%22%3A%20null%2C%20%22fill%22%3A%20true%2C%20%22fillColor%22%3A%20%22Black%22%2C%20%22fillOpacity%22%3A%200.2%2C%20%22fillRule%22%3A%20%22evenodd%22%2C%20%22lineCap%22%3A%20%22round%22%2C%20%22lineJoin%22%3A%20%22round%22%2C%20%22opacity%22%3A%201.0%2C%20%22radius%22%3A%202%2C%20%22stroke%22%3A%20true%2C%20%22weight%22%3A%203%7D%0A%20%20%20%20%20%20%20%20%20%20%20%20%29.addTo%28map_8b7d062d86314a519ee47979f7636100%29%3B%0A%20%20%20%20%20%20%20%20%0A%20%20%20%20%0A%20%20%20%20%20%20%20%20%20%20%20%20var%20circle_marker_606740fadc0c41d4b50fffa1c67f9f68%20%3D%20L.circleMarker%28%0A%20%20%20%20%20%20%20%20%20%20%20%20%20%20%20%20%5B39.4697065%2C%20-0.3763353%5D%2C%0A%20%20%20%20%20%20%20%20%20%20%20%20%20%20%20%20%7B%22bubblingMouseEvents%22%3A%20true%2C%20%22color%22%3A%20%22Black%22%2C%20%22dashArray%22%3A%20null%2C%20%22dashOffset%22%3A%20null%2C%20%22fill%22%3A%20true%2C%20%22fillColor%22%3A%20%22Black%22%2C%20%22fillOpacity%22%3A%200.2%2C%20%22fillRule%22%3A%20%22evenodd%22%2C%20%22lineCap%22%3A%20%22round%22%2C%20%22lineJoin%22%3A%20%22round%22%2C%20%22opacity%22%3A%201.0%2C%20%22radius%22%3A%202%2C%20%22stroke%22%3A%20true%2C%20%22weight%22%3A%203%7D%0A%20%20%20%20%20%20%20%20%20%20%20%20%29.addTo%28map_8b7d062d86314a519ee47979f7636100%29%3B%0A%20%20%20%20%20%20%20%20%0A%20%20%20%20%0A%20%20%20%20%20%20%20%20%20%20%20%20var%20circle_marker_befb2d846be746ada3181af75d465b22%20%3D%20L.circleMarker%28%0A%20%20%20%20%20%20%20%20%20%20%20%20%20%20%20%20%5B41.3828939%2C%202.1774322%5D%2C%0A%20%20%20%20%20%20%20%20%20%20%20%20%20%20%20%20%7B%22bubblingMouseEvents%22%3A%20true%2C%20%22color%22%3A%20%22Black%22%2C%20%22dashArray%22%3A%20null%2C%20%22dashOffset%22%3A%20null%2C%20%22fill%22%3A%20true%2C%20%22fillColor%22%3A%20%22Black%22%2C%20%22fillOpacity%22%3A%200.2%2C%20%22fillRule%22%3A%20%22evenodd%22%2C%20%22lineCap%22%3A%20%22round%22%2C%20%22lineJoin%22%3A%20%22round%22%2C%20%22opacity%22%3A%201.0%2C%20%22radius%22%3A%202%2C%20%22stroke%22%3A%20true%2C%20%22weight%22%3A%203%7D%0A%20%20%20%20%20%20%20%20%20%20%20%20%29.addTo%28map_8b7d062d86314a519ee47979f7636100%29%3B%0A%20%20%20%20%20%20%20%20%0A%20%20%20%20%0A%20%20%20%20%20%20%20%20%20%20%20%20var%20circle_marker_f48087faa8334eb4a7405a6c1cc4a908%20%3D%20L.circleMarker%28%0A%20%20%20%20%20%20%20%20%20%20%20%20%20%20%20%20%5B43.2630018%2C%20-2.9350039%5D%2C%0A%20%20%20%20%20%20%20%20%20%20%20%20%20%20%20%20%7B%22bubblingMouseEvents%22%3A%20true%2C%20%22color%22%3A%20%22Black%22%2C%20%22dashArray%22%3A%20null%2C%20%22dashOffset%22%3A%20null%2C%20%22fill%22%3A%20true%2C%20%22fillColor%22%3A%20%22Black%22%2C%20%22fillOpacity%22%3A%200.2%2C%20%22fillRule%22%3A%20%22evenodd%22%2C%20%22lineCap%22%3A%20%22round%22%2C%20%22lineJoin%22%3A%20%22round%22%2C%20%22opacity%22%3A%201.0%2C%20%22radius%22%3A%202%2C%20%22stroke%22%3A%20true%2C%20%22weight%22%3A%203%7D%0A%20%20%20%20%20%20%20%20%20%20%20%20%29.addTo%28map_8b7d062d86314a519ee47979f7636100%29%3B%0A%20%20%20%20%20%20%20%20%0A%20%20%20%20%0A%20%20%20%20%20%20%20%20%20%20%20%20var%20circle_marker_d45aaa7f3a9341b7b293ca297a2ce26a%20%3D%20L.circleMarker%28%0A%20%20%20%20%20%20%20%20%20%20%20%20%20%20%20%20%5B41.6521342%2C%20-0.8809428%5D%2C%0A%20%20%20%20%20%20%20%20%20%20%20%20%20%20%20%20%7B%22bubblingMouseEvents%22%3A%20true%2C%20%22color%22%3A%20%22Black%22%2C%20%22dashArray%22%3A%20null%2C%20%22dashOffset%22%3A%20null%2C%20%22fill%22%3A%20true%2C%20%22fillColor%22%3A%20%22Black%22%2C%20%22fillOpacity%22%3A%200.2%2C%20%22fillRule%22%3A%20%22evenodd%22%2C%20%22lineCap%22%3A%20%22round%22%2C%20%22lineJoin%22%3A%20%22round%22%2C%20%22opacity%22%3A%201.0%2C%20%22radius%22%3A%202%2C%20%22stroke%22%3A%20true%2C%20%22weight%22%3A%203%7D%0A%20%20%20%20%20%20%20%20%20%20%20%20%29.addTo%28map_8b7d062d86314a519ee47979f7636100%29%3B%0A%20%20%20%20%20%20%20%20%0A%20%20%20%20%0A%20%20%20%20%20%20%20%20%20%20%20%20var%20circle_marker_49ceb36fccfa426480cee1e08fb03910%20%3D%20L.circleMarker%28%0A%20%20%20%20%20%20%20%20%20%20%20%20%20%20%20%20%5B43.2961743%2C%205.3699525%5D%2C%0A%20%20%20%20%20%20%20%20%20%20%20%20%20%20%20%20%7B%22bubblingMouseEvents%22%3A%20true%2C%20%22color%22%3A%20%22Black%22%2C%20%22dashArray%22%3A%20null%2C%20%22dashOffset%22%3A%20null%2C%20%22fill%22%3A%20true%2C%20%22fillColor%22%3A%20%22Black%22%2C%20%22fillOpacity%22%3A%200.2%2C%20%22fillRule%22%3A%20%22evenodd%22%2C%20%22lineCap%22%3A%20%22round%22%2C%20%22lineJoin%22%3A%20%22round%22%2C%20%22opacity%22%3A%201.0%2C%20%22radius%22%3A%202%2C%20%22stroke%22%3A%20true%2C%20%22weight%22%3A%203%7D%0A%20%20%20%20%20%20%20%20%20%20%20%20%29.addTo%28map_8b7d062d86314a519ee47979f7636100%29%3B%0A%20%20%20%20%20%20%20%20%0A%20%20%20%20%0A%20%20%20%20%20%20%20%20%20%20%20%20var%20circle_marker_1b699edf8cb745d29cf2e8b6a8a2606e%20%3D%20L.circleMarker%28%0A%20%20%20%20%20%20%20%20%20%20%20%20%20%20%20%20%5B45.7578137%2C%204.8320114%5D%2C%0A%20%20%20%20%20%20%20%20%20%20%20%20%20%20%20%20%7B%22bubblingMouseEvents%22%3A%20true%2C%20%22color%22%3A%20%22Black%22%2C%20%22dashArray%22%3A%20null%2C%20%22dashOffset%22%3A%20null%2C%20%22fill%22%3A%20true%2C%20%22fillColor%22%3A%20%22Black%22%2C%20%22fillOpacity%22%3A%200.2%2C%20%22fillRule%22%3A%20%22evenodd%22%2C%20%22lineCap%22%3A%20%22round%22%2C%20%22lineJoin%22%3A%20%22round%22%2C%20%22opacity%22%3A%201.0%2C%20%22radius%22%3A%202%2C%20%22stroke%22%3A%20true%2C%20%22weight%22%3A%203%7D%0A%20%20%20%20%20%20%20%20%20%20%20%20%29.addTo%28map_8b7d062d86314a519ee47979f7636100%29%3B%0A%20%20%20%20%20%20%20%20%0A%20%20%20%20%0A%20%20%20%20%20%20%20%20%20%20%20%20var%20circle_marker_ad101500ef28427281545a059ecb6880%20%3D%20L.circleMarker%28%0A%20%20%20%20%20%20%20%20%20%20%20%20%20%20%20%20%5B44.841225%2C%20-0.5800364%5D%2C%0A%20%20%20%20%20%20%20%20%20%20%20%20%20%20%20%20%7B%22bubblingMouseEvents%22%3A%20true%2C%20%22color%22%3A%20%22Black%22%2C%20%22dashArray%22%3A%20null%2C%20%22dashOffset%22%3A%20null%2C%20%22fill%22%3A%20true%2C%20%22fillColor%22%3A%20%22Black%22%2C%20%22fillOpacity%22%3A%200.2%2C%20%22fillRule%22%3A%20%22evenodd%22%2C%20%22lineCap%22%3A%20%22round%22%2C%20%22lineJoin%22%3A%20%22round%22%2C%20%22opacity%22%3A%201.0%2C%20%22radius%22%3A%202%2C%20%22stroke%22%3A%20true%2C%20%22weight%22%3A%203%7D%0A%20%20%20%20%20%20%20%20%20%20%20%20%29.addTo%28map_8b7d062d86314a519ee47979f7636100%29%3B%0A%20%20%20%20%20%20%20%20%0A%20%20%20%20%0A%20%20%20%20%20%20%20%20%20%20%20%20var%20circle_marker_6598301626c24ce399d6a9f0fe8055a5%20%3D%20L.circleMarker%28%0A%20%20%20%20%20%20%20%20%20%20%20%20%20%20%20%20%5B48.8588897%2C%202.3200410217200766%5D%2C%0A%20%20%20%20%20%20%20%20%20%20%20%20%20%20%20%20%7B%22bubblingMouseEvents%22%3A%20true%2C%20%22color%22%3A%20%22Black%22%2C%20%22dashArray%22%3A%20null%2C%20%22dashOffset%22%3A%20null%2C%20%22fill%22%3A%20true%2C%20%22fillColor%22%3A%20%22Black%22%2C%20%22fillOpacity%22%3A%200.2%2C%20%22fillRule%22%3A%20%22evenodd%22%2C%20%22lineCap%22%3A%20%22round%22%2C%20%22lineJoin%22%3A%20%22round%22%2C%20%22opacity%22%3A%201.0%2C%20%22radius%22%3A%202%2C%20%22stroke%22%3A%20true%2C%20%22weight%22%3A%203%7D%0A%20%20%20%20%20%20%20%20%20%20%20%20%29.addTo%28map_8b7d062d86314a519ee47979f7636100%29%3B%0A%20%20%20%20%20%20%20%20%0A%20%20%20%20%0A%20%20%20%20%20%20%20%20%20%20%20%20var%20circle_marker_ef896ef4d5f34ce5a9d4e9499c6fa3b0%20%3D%20L.circleMarker%28%0A%20%20%20%20%20%20%20%20%20%20%20%20%20%20%20%20%5B48.11599975%2C%20-1.6813593082748797%5D%2C%0A%20%20%20%20%20%20%20%20%20%20%20%20%20%20%20%20%7B%22bubblingMouseEvents%22%3A%20true%2C%20%22color%22%3A%20%22Black%22%2C%20%22dashArray%22%3A%20null%2C%20%22dashOffset%22%3A%20null%2C%20%22fill%22%3A%20true%2C%20%22fillColor%22%3A%20%22Black%22%2C%20%22fillOpacity%22%3A%200.2%2C%20%22fillRule%22%3A%20%22evenodd%22%2C%20%22lineCap%22%3A%20%22round%22%2C%20%22lineJoin%22%3A%20%22round%22%2C%20%22opacity%22%3A%201.0%2C%20%22radius%22%3A%202%2C%20%22stroke%22%3A%20true%2C%20%22weight%22%3A%203%7D%0A%20%20%20%20%20%20%20%20%20%20%20%20%29.addTo%28map_8b7d062d86314a519ee47979f7636100%29%3B%0A%20%20%20%20%20%20%20%20%0A%20%20%20%20%0A%20%20%20%20%20%20%20%20%20%20%20%20var%20circle_marker_1238893912e24a3da7466e9e5ac74730%20%3D%20L.circleMarker%28%0A%20%20%20%20%20%20%20%20%20%20%20%20%20%20%20%20%5B50.6365654%2C%203.0635282%5D%2C%0A%20%20%20%20%20%20%20%20%20%20%20%20%20%20%20%20%7B%22bubblingMouseEvents%22%3A%20true%2C%20%22color%22%3A%20%22Black%22%2C%20%22dashArray%22%3A%20null%2C%20%22dashOffset%22%3A%20null%2C%20%22fill%22%3A%20true%2C%20%22fillColor%22%3A%20%22Black%22%2C%20%22fillOpacity%22%3A%200.2%2C%20%22fillRule%22%3A%20%22evenodd%22%2C%20%22lineCap%22%3A%20%22round%22%2C%20%22lineJoin%22%3A%20%22round%22%2C%20%22opacity%22%3A%201.0%2C%20%22radius%22%3A%202%2C%20%22stroke%22%3A%20true%2C%20%22weight%22%3A%203%7D%0A%20%20%20%20%20%20%20%20%20%20%20%20%29.addTo%28map_8b7d062d86314a519ee47979f7636100%29%3B%0A%20%20%20%20%20%20%20%20%0A%20%20%20%20%0A%20%20%20%20%20%20%20%20%20%20%20%20var%20circle_marker_82ed4970d9e44329b3f0b24e2ac12ac7%20%3D%20L.circleMarker%28%0A%20%20%20%20%20%20%20%20%20%20%20%20%20%20%20%20%5B49.8941708%2C%202.2956951%5D%2C%0A%20%20%20%20%20%20%20%20%20%20%20%20%20%20%20%20%7B%22bubblingMouseEvents%22%3A%20true%2C%20%22color%22%3A%20%22Black%22%2C%20%22dashArray%22%3A%20null%2C%20%22dashOffset%22%3A%20null%2C%20%22fill%22%3A%20true%2C%20%22fillColor%22%3A%20%22Black%22%2C%20%22fillOpacity%22%3A%200.2%2C%20%22fillRule%22%3A%20%22evenodd%22%2C%20%22lineCap%22%3A%20%22round%22%2C%20%22lineJoin%22%3A%20%22round%22%2C%20%22opacity%22%3A%201.0%2C%20%22radius%22%3A%202%2C%20%22stroke%22%3A%20true%2C%20%22weight%22%3A%203%7D%0A%20%20%20%20%20%20%20%20%20%20%20%20%29.addTo%28map_8b7d062d86314a519ee47979f7636100%29%3B%0A%20%20%20%20%20%20%20%20%0A%20%20%20%20%0A%20%20%20%20%20%20%20%20%20%20%20%20var%20circle_marker_601ff8047de147fdac22322ffeda82a0%20%3D%20L.circleMarker%28%0A%20%20%20%20%20%20%20%20%20%20%20%20%20%20%20%20%5B53.3497645%2C%20-6.2602732%5D%2C%0A%20%20%20%20%20%20%20%20%20%20%20%20%20%20%20%20%7B%22bubblingMouseEvents%22%3A%20true%2C%20%22color%22%3A%20%22Black%22%2C%20%22dashArray%22%3A%20null%2C%20%22dashOffset%22%3A%20null%2C%20%22fill%22%3A%20true%2C%20%22fillColor%22%3A%20%22Black%22%2C%20%22fillOpacity%22%3A%200.2%2C%20%22fillRule%22%3A%20%22evenodd%22%2C%20%22lineCap%22%3A%20%22round%22%2C%20%22lineJoin%22%3A%20%22round%22%2C%20%22opacity%22%3A%201.0%2C%20%22radius%22%3A%202%2C%20%22stroke%22%3A%20true%2C%20%22weight%22%3A%203%7D%0A%20%20%20%20%20%20%20%20%20%20%20%20%29.addTo%28map_8b7d062d86314a519ee47979f7636100%29%3B%0A%20%20%20%20%20%20%20%20%0A%20%20%20%20%0A%20%20%20%20%20%20%20%20%20%20%20%20var%20circle_marker_eaaa0abd4b9f48a98a1afc1449eaa55f%20%3D%20L.circleMarker%28%0A%20%20%20%20%20%20%20%20%20%20%20%20%20%20%20%20%5B51.9244424%2C%204.47775%5D%2C%0A%20%20%20%20%20%20%20%20%20%20%20%20%20%20%20%20%7B%22bubblingMouseEvents%22%3A%20true%2C%20%22color%22%3A%20%22Black%22%2C%20%22dashArray%22%3A%20null%2C%20%22dashOffset%22%3A%20null%2C%20%22fill%22%3A%20true%2C%20%22fillColor%22%3A%20%22Black%22%2C%20%22fillOpacity%22%3A%200.2%2C%20%22fillRule%22%3A%20%22evenodd%22%2C%20%22lineCap%22%3A%20%22round%22%2C%20%22lineJoin%22%3A%20%22round%22%2C%20%22opacity%22%3A%201.0%2C%20%22radius%22%3A%202%2C%20%22stroke%22%3A%20true%2C%20%22weight%22%3A%203%7D%0A%20%20%20%20%20%20%20%20%20%20%20%20%29.addTo%28map_8b7d062d86314a519ee47979f7636100%29%3B%0A%20%20%20%20%20%20%20%20%0A%20%20%20%20%0A%20%20%20%20%20%20%20%20%20%20%20%20var%20circle_marker_7bd53fec35dd4f2eac6c9e011b862097%20%3D%20L.circleMarker%28%0A%20%20%20%20%20%20%20%20%20%20%20%20%20%20%20%20%5B52.0799838%2C%204.3113461%5D%2C%0A%20%20%20%20%20%20%20%20%20%20%20%20%20%20%20%20%7B%22bubblingMouseEvents%22%3A%20true%2C%20%22color%22%3A%20%22Black%22%2C%20%22dashArray%22%3A%20null%2C%20%22dashOffset%22%3A%20null%2C%20%22fill%22%3A%20true%2C%20%22fillColor%22%3A%20%22Black%22%2C%20%22fillOpacity%22%3A%200.2%2C%20%22fillRule%22%3A%20%22evenodd%22%2C%20%22lineCap%22%3A%20%22round%22%2C%20%22lineJoin%22%3A%20%22round%22%2C%20%22opacity%22%3A%201.0%2C%20%22radius%22%3A%202%2C%20%22stroke%22%3A%20true%2C%20%22weight%22%3A%203%7D%0A%20%20%20%20%20%20%20%20%20%20%20%20%29.addTo%28map_8b7d062d86314a519ee47979f7636100%29%3B%0A%20%20%20%20%20%20%20%20%0A%20%20%20%20%0A%20%20%20%20%20%20%20%20%20%20%20%20var%20circle_marker_5e56f2b0e86c4c3b992358fa15066174%20%3D%20L.circleMarker%28%0A%20%20%20%20%20%20%20%20%20%20%20%20%20%20%20%20%5B51.7958812%2C%204.6779351%5D%2C%0A%20%20%20%20%20%20%20%20%20%20%20%20%20%20%20%20%7B%22bubblingMouseEvents%22%3A%20true%2C%20%22color%22%3A%20%22Black%22%2C%20%22dashArray%22%3A%20null%2C%20%22dashOffset%22%3A%20null%2C%20%22fill%22%3A%20true%2C%20%22fillColor%22%3A%20%22Black%22%2C%20%22fillOpacity%22%3A%200.2%2C%20%22fillRule%22%3A%20%22evenodd%22%2C%20%22lineCap%22%3A%20%22round%22%2C%20%22lineJoin%22%3A%20%22round%22%2C%20%22opacity%22%3A%201.0%2C%20%22radius%22%3A%202%2C%20%22stroke%22%3A%20true%2C%20%22weight%22%3A%203%7D%0A%20%20%20%20%20%20%20%20%20%20%20%20%29.addTo%28map_8b7d062d86314a519ee47979f7636100%29%3B%0A%20%20%20%20%20%20%20%20%0A%20%20%20%20%0A%20%20%20%20%20%20%20%20%20%20%20%20var%20circle_marker_991f7bc74abe45248ecd816bcf8ff31f%20%3D%20L.circleMarker%28%0A%20%20%20%20%20%20%20%20%20%20%20%20%20%20%20%20%5B51.2602708%2C%204.382181448976495%5D%2C%0A%20%20%20%20%20%20%20%20%20%20%20%20%20%20%20%20%7B%22bubblingMouseEvents%22%3A%20true%2C%20%22color%22%3A%20%22Black%22%2C%20%22dashArray%22%3A%20null%2C%20%22dashOffset%22%3A%20null%2C%20%22fill%22%3A%20true%2C%20%22fillColor%22%3A%20%22Black%22%2C%20%22fillOpacity%22%3A%200.2%2C%20%22fillRule%22%3A%20%22evenodd%22%2C%20%22lineCap%22%3A%20%22round%22%2C%20%22lineJoin%22%3A%20%22round%22%2C%20%22opacity%22%3A%201.0%2C%20%22radius%22%3A%202%2C%20%22stroke%22%3A%20true%2C%20%22weight%22%3A%203%7D%0A%20%20%20%20%20%20%20%20%20%20%20%20%29.addTo%28map_8b7d062d86314a519ee47979f7636100%29%3B%0A%20%20%20%20%20%20%20%20%0A%20%20%20%20%0A%20%20%20%20%20%20%20%20%20%20%20%20var%20circle_marker_6d0aa07cb268474c91ae668ef720366d%20%3D%20L.circleMarker%28%0A%20%20%20%20%20%20%20%20%20%20%20%20%20%20%20%20%5B51.4582235%2C%207.0158171%5D%2C%0A%20%20%20%20%20%20%20%20%20%20%20%20%20%20%20%20%7B%22bubblingMouseEvents%22%3A%20true%2C%20%22color%22%3A%20%22Black%22%2C%20%22dashArray%22%3A%20null%2C%20%22dashOffset%22%3A%20null%2C%20%22fill%22%3A%20true%2C%20%22fillColor%22%3A%20%22Black%22%2C%20%22fillOpacity%22%3A%200.2%2C%20%22fillRule%22%3A%20%22evenodd%22%2C%20%22lineCap%22%3A%20%22round%22%2C%20%22lineJoin%22%3A%20%22round%22%2C%20%22opacity%22%3A%201.0%2C%20%22radius%22%3A%202%2C%20%22stroke%22%3A%20true%2C%20%22weight%22%3A%203%7D%0A%20%20%20%20%20%20%20%20%20%20%20%20%29.addTo%28map_8b7d062d86314a519ee47979f7636100%29%3B%0A%20%20%20%20%20%20%20%20%0A%20%20%20%20%0A%20%20%20%20%20%20%20%20%20%20%20%20var%20circle_marker_e9dec0dee1274a748cb6db42d2db3fe0%20%3D%20L.circleMarker%28%0A%20%20%20%20%20%20%20%20%20%20%20%20%20%20%20%20%5B52.3744779%2C%209.7385532%5D%2C%0A%20%20%20%20%20%20%20%20%20%20%20%20%20%20%20%20%7B%22bubblingMouseEvents%22%3A%20true%2C%20%22color%22%3A%20%22Black%22%2C%20%22dashArray%22%3A%20null%2C%20%22dashOffset%22%3A%20null%2C%20%22fill%22%3A%20true%2C%20%22fillColor%22%3A%20%22Black%22%2C%20%22fillOpacity%22%3A%200.2%2C%20%22fillRule%22%3A%20%22evenodd%22%2C%20%22lineCap%22%3A%20%22round%22%2C%20%22lineJoin%22%3A%20%22round%22%2C%20%22opacity%22%3A%201.0%2C%20%22radius%22%3A%202%2C%20%22stroke%22%3A%20true%2C%20%22weight%22%3A%203%7D%0A%20%20%20%20%20%20%20%20%20%20%20%20%29.addTo%28map_8b7d062d86314a519ee47979f7636100%29%3B%0A%20%20%20%20%20%20%20%20%0A%20%20%20%20%0A%20%20%20%20%20%20%20%20%20%20%20%20var%20circle_marker_c67ead2693d04eb1aa29b0f2f441091b%20%3D%20L.circleMarker%28%0A%20%20%20%20%20%20%20%20%20%20%20%20%20%20%20%20%5B48.1371079%2C%2011.5753822%5D%2C%0A%20%20%20%20%20%20%20%20%20%20%20%20%20%20%20%20%7B%22bubblingMouseEvents%22%3A%20true%2C%20%22color%22%3A%20%22Black%22%2C%20%22dashArray%22%3A%20null%2C%20%22dashOffset%22%3A%20null%2C%20%22fill%22%3A%20true%2C%20%22fillColor%22%3A%20%22Black%22%2C%20%22fillOpacity%22%3A%200.2%2C%20%22fillRule%22%3A%20%22evenodd%22%2C%20%22lineCap%22%3A%20%22round%22%2C%20%22lineJoin%22%3A%20%22round%22%2C%20%22opacity%22%3A%201.0%2C%20%22radius%22%3A%202%2C%20%22stroke%22%3A%20true%2C%20%22weight%22%3A%203%7D%0A%20%20%20%20%20%20%20%20%20%20%20%20%29.addTo%28map_8b7d062d86314a519ee47979f7636100%29%3B%0A%20%20%20%20%20%20%20%20%0A%20%20%20%20%0A%20%20%20%20%20%20%20%20%20%20%20%20var%20circle_marker_be0447a7c3ae4e61bad0b5966f10b77d%20%3D%20L.circleMarker%28%0A%20%20%20%20%20%20%20%20%20%20%20%20%20%20%20%20%5B46.9482713%2C%207.4514512%5D%2C%0A%20%20%20%20%20%20%20%20%20%20%20%20%20%20%20%20%7B%22bubblingMouseEvents%22%3A%20true%2C%20%22color%22%3A%20%22Black%22%2C%20%22dashArray%22%3A%20null%2C%20%22dashOffset%22%3A%20null%2C%20%22fill%22%3A%20true%2C%20%22fillColor%22%3A%20%22Black%22%2C%20%22fillOpacity%22%3A%200.2%2C%20%22fillRule%22%3A%20%22evenodd%22%2C%20%22lineCap%22%3A%20%22round%22%2C%20%22lineJoin%22%3A%20%22round%22%2C%20%22opacity%22%3A%201.0%2C%20%22radius%22%3A%202%2C%20%22stroke%22%3A%20true%2C%20%22weight%22%3A%203%7D%0A%20%20%20%20%20%20%20%20%20%20%20%20%29.addTo%28map_8b7d062d86314a519ee47979f7636100%29%3B%0A%20%20%20%20%20%20%20%20%0A%20%20%20%20%0A%20%20%20%20%20%20%20%20%20%20%20%20var%20circle_marker_6cf93bc3191e4140bc3690774c4ad6a9%20%3D%20L.circleMarker%28%0A%20%20%20%20%20%20%20%20%20%20%20%20%20%20%20%20%5B47.3744489%2C%208.5410422%5D%2C%0A%20%20%20%20%20%20%20%20%20%20%20%20%20%20%20%20%7B%22bubblingMouseEvents%22%3A%20true%2C%20%22color%22%3A%20%22Black%22%2C%20%22dashArray%22%3A%20null%2C%20%22dashOffset%22%3A%20null%2C%20%22fill%22%3A%20true%2C%20%22fillColor%22%3A%20%22Black%22%2C%20%22fillOpacity%22%3A%200.2%2C%20%22fillRule%22%3A%20%22evenodd%22%2C%20%22lineCap%22%3A%20%22round%22%2C%20%22lineJoin%22%3A%20%22round%22%2C%20%22opacity%22%3A%201.0%2C%20%22radius%22%3A%202%2C%20%22stroke%22%3A%20true%2C%20%22weight%22%3A%203%7D%0A%20%20%20%20%20%20%20%20%20%20%20%20%29.addTo%28map_8b7d062d86314a519ee47979f7636100%29%3B%0A%20%20%20%20%20%20%20%20%0A%20%20%20%20%0A%20%20%20%20%20%20%20%20%20%20%20%20var%20circle_marker_ba1f1f63968e477da86ea5a1e4356079%20%3D%20L.circleMarker%28%0A%20%20%20%20%20%20%20%20%20%20%20%20%20%20%20%20%5B47.554507650000005%2C%207.5902468982380125%5D%2C%0A%20%20%20%20%20%20%20%20%20%20%20%20%20%20%20%20%7B%22bubblingMouseEvents%22%3A%20true%2C%20%22color%22%3A%20%22Black%22%2C%20%22dashArray%22%3A%20null%2C%20%22dashOffset%22%3A%20null%2C%20%22fill%22%3A%20true%2C%20%22fillColor%22%3A%20%22Black%22%2C%20%22fillOpacity%22%3A%200.2%2C%20%22fillRule%22%3A%20%22evenodd%22%2C%20%22lineCap%22%3A%20%22round%22%2C%20%22lineJoin%22%3A%20%22round%22%2C%20%22opacity%22%3A%201.0%2C%20%22radius%22%3A%202%2C%20%22stroke%22%3A%20true%2C%20%22weight%22%3A%203%7D%0A%20%20%20%20%20%20%20%20%20%20%20%20%29.addTo%28map_8b7d062d86314a519ee47979f7636100%29%3B%0A%20%20%20%20%20%20%20%20%0A%20%20%20%20%0A%20%20%20%20%20%20%20%20%20%20%20%20var%20circle_marker_f31e9fcf359549b89253c04664dd977c%20%3D%20L.circleMarker%28%0A%20%20%20%20%20%20%20%20%20%20%20%20%20%20%20%20%5B47.7981346%2C%2013.0464806%5D%2C%0A%20%20%20%20%20%20%20%20%20%20%20%20%20%20%20%20%7B%22bubblingMouseEvents%22%3A%20true%2C%20%22color%22%3A%20%22Black%22%2C%20%22dashArray%22%3A%20null%2C%20%22dashOffset%22%3A%20null%2C%20%22fill%22%3A%20true%2C%20%22fillColor%22%3A%20%22Black%22%2C%20%22fillOpacity%22%3A%200.2%2C%20%22fillRule%22%3A%20%22evenodd%22%2C%20%22lineCap%22%3A%20%22round%22%2C%20%22lineJoin%22%3A%20%22round%22%2C%20%22opacity%22%3A%201.0%2C%20%22radius%22%3A%202%2C%20%22stroke%22%3A%20true%2C%20%22weight%22%3A%203%7D%0A%20%20%20%20%20%20%20%20%20%20%20%20%29.addTo%28map_8b7d062d86314a519ee47979f7636100%29%3B%0A%20%20%20%20%20%20%20%20%0A%20%20%20%20%0A%20%20%20%20%20%20%20%20%20%20%20%20var%20circle_marker_960667e810914059a994a7dc2c199410%20%3D%20L.circleMarker%28%0A%20%20%20%20%20%20%20%20%20%20%20%20%20%20%20%20%5B48.2202097%2C%2016.371215973799906%5D%2C%0A%20%20%20%20%20%20%20%20%20%20%20%20%20%20%20%20%7B%22bubblingMouseEvents%22%3A%20true%2C%20%22color%22%3A%20%22Black%22%2C%20%22dashArray%22%3A%20null%2C%20%22dashOffset%22%3A%20null%2C%20%22fill%22%3A%20true%2C%20%22fillColor%22%3A%20%22Black%22%2C%20%22fillOpacity%22%3A%200.2%2C%20%22fillRule%22%3A%20%22evenodd%22%2C%20%22lineCap%22%3A%20%22round%22%2C%20%22lineJoin%22%3A%20%22round%22%2C%20%22opacity%22%3A%201.0%2C%20%22radius%22%3A%202%2C%20%22stroke%22%3A%20true%2C%20%22weight%22%3A%203%7D%0A%20%20%20%20%20%20%20%20%20%20%20%20%29.addTo%28map_8b7d062d86314a519ee47979f7636100%29%3B%0A%20%20%20%20%20%20%20%20%0A%20%20%20%20%0A%20%20%20%20%20%20%20%20%20%20%20%20var%20circle_marker_e120461df8ce4fc990013de8e041d0e6%20%3D%20L.circleMarker%28%0A%20%20%20%20%20%20%20%20%20%20%20%20%20%20%20%20%5B50.0874654%2C%2014.4212535%5D%2C%0A%20%20%20%20%20%20%20%20%20%20%20%20%20%20%20%20%7B%22bubblingMouseEvents%22%3A%20true%2C%20%22color%22%3A%20%22Black%22%2C%20%22dashArray%22%3A%20null%2C%20%22dashOffset%22%3A%20null%2C%20%22fill%22%3A%20true%2C%20%22fillColor%22%3A%20%22Black%22%2C%20%22fillOpacity%22%3A%200.2%2C%20%22fillRule%22%3A%20%22evenodd%22%2C%20%22lineCap%22%3A%20%22round%22%2C%20%22lineJoin%22%3A%20%22round%22%2C%20%22opacity%22%3A%201.0%2C%20%22radius%22%3A%202%2C%20%22stroke%22%3A%20true%2C%20%22weight%22%3A%203%7D%0A%20%20%20%20%20%20%20%20%20%20%20%20%29.addTo%28map_8b7d062d86314a519ee47979f7636100%29%3B%0A%20%20%20%20%20%20%20%20%0A%20%20%20%20%0A%20%20%20%20%20%20%20%20%20%20%20%20var%20circle_marker_cd3253a083f243929c8cab843ccd91aa%20%3D%20L.circleMarker%28%0A%20%20%20%20%20%20%20%20%20%20%20%20%20%20%20%20%5B55.6052931%2C%2013.0001566%5D%2C%0A%20%20%20%20%20%20%20%20%20%20%20%20%20%20%20%20%7B%22bubblingMouseEvents%22%3A%20true%2C%20%22color%22%3A%20%22Black%22%2C%20%22dashArray%22%3A%20null%2C%20%22dashOffset%22%3A%20null%2C%20%22fill%22%3A%20true%2C%20%22fillColor%22%3A%20%22Black%22%2C%20%22fillOpacity%22%3A%200.2%2C%20%22fillRule%22%3A%20%22evenodd%22%2C%20%22lineCap%22%3A%20%22round%22%2C%20%22lineJoin%22%3A%20%22round%22%2C%20%22opacity%22%3A%201.0%2C%20%22radius%22%3A%202%2C%20%22stroke%22%3A%20true%2C%20%22weight%22%3A%203%7D%0A%20%20%20%20%20%20%20%20%20%20%20%20%29.addTo%28map_8b7d062d86314a519ee47979f7636100%29%3B%0A%20%20%20%20%20%20%20%20%0A%20%20%20%20%0A%20%20%20%20%20%20%20%20%20%20%20%20var%20circle_marker_f4ca644aa8144dfab795d21795d0b759%20%3D%20L.circleMarker%28%0A%20%20%20%20%20%20%20%20%20%20%20%20%20%20%20%20%5B35.90585745%2C%2014.472753137511368%5D%2C%0A%20%20%20%20%20%20%20%20%20%20%20%20%20%20%20%20%7B%22bubblingMouseEvents%22%3A%20true%2C%20%22color%22%3A%20%22Black%22%2C%20%22dashArray%22%3A%20null%2C%20%22dashOffset%22%3A%20null%2C%20%22fill%22%3A%20true%2C%20%22fillColor%22%3A%20%22Black%22%2C%20%22fillOpacity%22%3A%200.2%2C%20%22fillRule%22%3A%20%22evenodd%22%2C%20%22lineCap%22%3A%20%22round%22%2C%20%22lineJoin%22%3A%20%22round%22%2C%20%22opacity%22%3A%201.0%2C%20%22radius%22%3A%202%2C%20%22stroke%22%3A%20true%2C%20%22weight%22%3A%203%7D%0A%20%20%20%20%20%20%20%20%20%20%20%20%29.addTo%28map_8b7d062d86314a519ee47979f7636100%29%3B%0A%20%20%20%20%20%20%20%20%0A%20%20%20%20%0A%20%20%20%20%20%20%20%20%20%20%20%20var%20circle_marker_e27cf0df9f43426b8429fb87fa4418bb%20%3D%20L.circleMarker%28%0A%20%20%20%20%20%20%20%20%20%20%20%20%20%20%20%20%5B46.060050000000004%2C%2014.591188297013453%5D%2C%0A%20%20%20%20%20%20%20%20%20%20%20%20%20%20%20%20%7B%22bubblingMouseEvents%22%3A%20true%2C%20%22color%22%3A%20%22Black%22%2C%20%22dashArray%22%3A%20null%2C%20%22dashOffset%22%3A%20null%2C%20%22fill%22%3A%20true%2C%20%22fillColor%22%3A%20%22Black%22%2C%20%22fillOpacity%22%3A%200.2%2C%20%22fillRule%22%3A%20%22evenodd%22%2C%20%22lineCap%22%3A%20%22round%22%2C%20%22lineJoin%22%3A%20%22round%22%2C%20%22opacity%22%3A%201.0%2C%20%22radius%22%3A%202%2C%20%22stroke%22%3A%20true%2C%20%22weight%22%3A%203%7D%0A%20%20%20%20%20%20%20%20%20%20%20%20%29.addTo%28map_8b7d062d86314a519ee47979f7636100%29%3B%0A%20%20%20%20%20%20%20%20%0A%20%20%20%20%0A%20%20%20%20%20%20%20%20%20%20%20%20var%20circle_marker_803cc688d0954ad4bc6afda3baa7ad4c%20%3D%20L.circleMarker%28%0A%20%20%20%20%20%20%20%20%20%20%20%20%20%20%20%20%5B45.8131847%2C%2015.9771774%5D%2C%0A%20%20%20%20%20%20%20%20%20%20%20%20%20%20%20%20%7B%22bubblingMouseEvents%22%3A%20true%2C%20%22color%22%3A%20%22Black%22%2C%20%22dashArray%22%3A%20null%2C%20%22dashOffset%22%3A%20null%2C%20%22fill%22%3A%20true%2C%20%22fillColor%22%3A%20%22Black%22%2C%20%22fillOpacity%22%3A%200.2%2C%20%22fillRule%22%3A%20%22evenodd%22%2C%20%22lineCap%22%3A%20%22round%22%2C%20%22lineJoin%22%3A%20%22round%22%2C%20%22opacity%22%3A%201.0%2C%20%22radius%22%3A%202%2C%20%22stroke%22%3A%20true%2C%20%22weight%22%3A%203%7D%0A%20%20%20%20%20%20%20%20%20%20%20%20%29.addTo%28map_8b7d062d86314a519ee47979f7636100%29%3B%0A%20%20%20%20%20%20%20%20%0A%20%20%20%20%0A%20%20%20%20%20%20%20%20%20%20%20%20var%20circle_marker_051cec26a2b34d0c90f29ef65c814d32%20%3D%20L.circleMarker%28%0A%20%20%20%20%20%20%20%20%20%20%20%20%20%20%20%20%5B47.4979937%2C%2019.0403594%5D%2C%0A%20%20%20%20%20%20%20%20%20%20%20%20%20%20%20%20%7B%22bubblingMouseEvents%22%3A%20true%2C%20%22color%22%3A%20%22Black%22%2C%20%22dashArray%22%3A%20null%2C%20%22dashOffset%22%3A%20null%2C%20%22fill%22%3A%20true%2C%20%22fillColor%22%3A%20%22Black%22%2C%20%22fillOpacity%22%3A%200.2%2C%20%22fillRule%22%3A%20%22evenodd%22%2C%20%22lineCap%22%3A%20%22round%22%2C%20%22lineJoin%22%3A%20%22round%22%2C%20%22opacity%22%3A%201.0%2C%20%22radius%22%3A%202%2C%20%22stroke%22%3A%20true%2C%20%22weight%22%3A%203%7D%0A%20%20%20%20%20%20%20%20%20%20%20%20%29.addTo%28map_8b7d062d86314a519ee47979f7636100%29%3B%0A%20%20%20%20%20%20%20%20%0A%20%20%20%20%0A%20%20%20%20%20%20%20%20%20%20%20%20var%20circle_marker_adc0ea4de5864846a37d8c52a57444bd%20%3D%20L.circleMarker%28%0A%20%20%20%20%20%20%20%20%20%20%20%20%20%20%20%20%5B44.4361414%2C%2026.1027202%5D%2C%0A%20%20%20%20%20%20%20%20%20%20%20%20%20%20%20%20%7B%22bubblingMouseEvents%22%3A%20true%2C%20%22color%22%3A%20%22Black%22%2C%20%22dashArray%22%3A%20null%2C%20%22dashOffset%22%3A%20null%2C%20%22fill%22%3A%20true%2C%20%22fillColor%22%3A%20%22Black%22%2C%20%22fillOpacity%22%3A%200.2%2C%20%22fillRule%22%3A%20%22evenodd%22%2C%20%22lineCap%22%3A%20%22round%22%2C%20%22lineJoin%22%3A%20%22round%22%2C%20%22opacity%22%3A%201.0%2C%20%22radius%22%3A%202%2C%20%22stroke%22%3A%20true%2C%20%22weight%22%3A%203%7D%0A%20%20%20%20%20%20%20%20%20%20%20%20%29.addTo%28map_8b7d062d86314a519ee47979f7636100%29%3B%0A%20%20%20%20%20%20%20%20%0A%20%20%20%20%0A%20%20%20%20%20%20%20%20%20%20%20%20var%20circle_marker_250d996164554ba0a463b438a4029362%20%3D%20L.circleMarker%28%0A%20%20%20%20%20%20%20%20%20%20%20%20%20%20%20%20%5B60.1674881%2C%2024.9427473%5D%2C%0A%20%20%20%20%20%20%20%20%20%20%20%20%20%20%20%20%7B%22bubblingMouseEvents%22%3A%20true%2C%20%22color%22%3A%20%22Black%22%2C%20%22dashArray%22%3A%20null%2C%20%22dashOffset%22%3A%20null%2C%20%22fill%22%3A%20true%2C%20%22fillColor%22%3A%20%22Black%22%2C%20%22fillOpacity%22%3A%200.2%2C%20%22fillRule%22%3A%20%22evenodd%22%2C%20%22lineCap%22%3A%20%22round%22%2C%20%22lineJoin%22%3A%20%22round%22%2C%20%22opacity%22%3A%201.0%2C%20%22radius%22%3A%202%2C%20%22stroke%22%3A%20true%2C%20%22weight%22%3A%203%7D%0A%20%20%20%20%20%20%20%20%20%20%20%20%29.addTo%28map_8b7d062d86314a519ee47979f7636100%29%3B%0A%20%20%20%20%20%20%20%20%0A%20%20%20%20%0A%20%20%20%20%20%20%20%20%20%20%20%20var%20circle_marker_f470c7ac94c8447684a8dac2d030765a%20%3D%20L.circleMarker%28%0A%20%20%20%20%20%20%20%20%20%20%20%20%20%20%20%20%5B45.4371908%2C%2012.3345898%5D%2C%0A%20%20%20%20%20%20%20%20%20%20%20%20%20%20%20%20%7B%22bubblingMouseEvents%22%3A%20true%2C%20%22color%22%3A%20%22Black%22%2C%20%22dashArray%22%3A%20null%2C%20%22dashOffset%22%3A%20null%2C%20%22fill%22%3A%20true%2C%20%22fillColor%22%3A%20%22Black%22%2C%20%22fillOpacity%22%3A%200.2%2C%20%22fillRule%22%3A%20%22evenodd%22%2C%20%22lineCap%22%3A%20%22round%22%2C%20%22lineJoin%22%3A%20%22round%22%2C%20%22opacity%22%3A%201.0%2C%20%22radius%22%3A%202%2C%20%22stroke%22%3A%20true%2C%20%22weight%22%3A%203%7D%0A%20%20%20%20%20%20%20%20%20%20%20%20%29.addTo%28map_8b7d062d86314a519ee47979f7636100%29%3B%0A%20%20%20%20%20%20%20%20%0A%20%20%20%20%0A%20%20%20%20%20%20%20%20%20%20%20%20var%20circle_marker_0941e49b724d4077b1655fb08eba73b3%20%3D%20L.circleMarker%28%0A%20%20%20%20%20%20%20%20%20%20%20%20%20%20%20%20%5B51.984257%2C%205.9108573%5D%2C%0A%20%20%20%20%20%20%20%20%20%20%20%20%20%20%20%20%7B%22bubblingMouseEvents%22%3A%20true%2C%20%22color%22%3A%20%22Black%22%2C%20%22dashArray%22%3A%20null%2C%20%22dashOffset%22%3A%20null%2C%20%22fill%22%3A%20true%2C%20%22fillColor%22%3A%20%22Black%22%2C%20%22fillOpacity%22%3A%200.2%2C%20%22fillRule%22%3A%20%22evenodd%22%2C%20%22lineCap%22%3A%20%22round%22%2C%20%22lineJoin%22%3A%20%22round%22%2C%20%22opacity%22%3A%201.0%2C%20%22radius%22%3A%202%2C%20%22stroke%22%3A%20true%2C%20%22weight%22%3A%203%7D%0A%20%20%20%20%20%20%20%20%20%20%20%20%29.addTo%28map_8b7d062d86314a519ee47979f7636100%29%3B%0A%20%20%20%20%20%20%20%20%0A%20%20%20%20%0A%20%20%20%20%20%20%20%20%20%20%20%20var%20circle_marker_fa6f5de75de54d57bc247f5751fe9c83%20%3D%20L.circleMarker%28%0A%20%20%20%20%20%20%20%20%20%20%20%20%20%20%20%20%5B48.1516988%2C%2017.1093063%5D%2C%0A%20%20%20%20%20%20%20%20%20%20%20%20%20%20%20%20%7B%22bubblingMouseEvents%22%3A%20true%2C%20%22color%22%3A%20%22Black%22%2C%20%22dashArray%22%3A%20null%2C%20%22dashOffset%22%3A%20null%2C%20%22fill%22%3A%20true%2C%20%22fillColor%22%3A%20%22Black%22%2C%20%22fillOpacity%22%3A%200.2%2C%20%22fillRule%22%3A%20%22evenodd%22%2C%20%22lineCap%22%3A%20%22round%22%2C%20%22lineJoin%22%3A%20%22round%22%2C%20%22opacity%22%3A%201.0%2C%20%22radius%22%3A%202%2C%20%22stroke%22%3A%20true%2C%20%22weight%22%3A%203%7D%0A%20%20%20%20%20%20%20%20%20%20%20%20%29.addTo%28map_8b7d062d86314a519ee47979f7636100%29%3B%0A%20%20%20%20%20%20%20%20%0A%20%20%20%20%0A%20%20%20%20%20%20%20%20%20%20%20%20var%20circle_marker_f84cf0eb21b14636b767b497ef09f6ff%20%3D%20L.circleMarker%28%0A%20%20%20%20%20%20%20%20%20%20%20%20%20%20%20%20%5B59.4250354%2C%2024.74386926051089%5D%2C%0A%20%20%20%20%20%20%20%20%20%20%20%20%20%20%20%20%7B%22bubblingMouseEvents%22%3A%20true%2C%20%22color%22%3A%20%22Black%22%2C%20%22dashArray%22%3A%20null%2C%20%22dashOffset%22%3A%20null%2C%20%22fill%22%3A%20true%2C%20%22fillColor%22%3A%20%22Black%22%2C%20%22fillOpacity%22%3A%200.2%2C%20%22fillRule%22%3A%20%22evenodd%22%2C%20%22lineCap%22%3A%20%22round%22%2C%20%22lineJoin%22%3A%20%22round%22%2C%20%22opacity%22%3A%201.0%2C%20%22radius%22%3A%202%2C%20%22stroke%22%3A%20true%2C%20%22weight%22%3A%203%7D%0A%20%20%20%20%20%20%20%20%20%20%20%20%29.addTo%28map_8b7d062d86314a519ee47979f7636100%29%3B%0A%20%20%20%20%20%20%20%20%0A%20%20%20%20%0A%20%20%20%20%20%20%20%20%20%20%20%20var%20circle_marker_e5cf1f1f8c964293a59c8c0b4e54407a%20%3D%20L.circleMarker%28%0A%20%20%20%20%20%20%20%20%20%20%20%20%20%20%20%20%5B56.9493977%2C%2024.1051846%5D%2C%0A%20%20%20%20%20%20%20%20%20%20%20%20%20%20%20%20%7B%22bubblingMouseEvents%22%3A%20true%2C%20%22color%22%3A%20%22Black%22%2C%20%22dashArray%22%3A%20null%2C%20%22dashOffset%22%3A%20null%2C%20%22fill%22%3A%20true%2C%20%22fillColor%22%3A%20%22Black%22%2C%20%22fillOpacity%22%3A%200.2%2C%20%22fillRule%22%3A%20%22evenodd%22%2C%20%22lineCap%22%3A%20%22round%22%2C%20%22lineJoin%22%3A%20%22round%22%2C%20%22opacity%22%3A%201.0%2C%20%22radius%22%3A%202%2C%20%22stroke%22%3A%20true%2C%20%22weight%22%3A%203%7D%0A%20%20%20%20%20%20%20%20%20%20%20%20%29.addTo%28map_8b7d062d86314a519ee47979f7636100%29%3B%0A%20%20%20%20%20%20%20%20%0A%20%20%20%20%0A%20%20%20%20%20%20%20%20%20%20%20%20var%20circle_marker_d5899bd2eda7439b98f12f148bc5cc95%20%3D%20L.circleMarker%28%0A%20%20%20%20%20%20%20%20%20%20%20%20%20%20%20%20%5B40.8358846%2C%2014.2487679%5D%2C%0A%20%20%20%20%20%20%20%20%20%20%20%20%20%20%20%20%7B%22bubblingMouseEvents%22%3A%20true%2C%20%22color%22%3A%20%22Black%22%2C%20%22dashArray%22%3A%20null%2C%20%22dashOffset%22%3A%20null%2C%20%22fill%22%3A%20true%2C%20%22fillColor%22%3A%20%22Black%22%2C%20%22fillOpacity%22%3A%200.2%2C%20%22fillRule%22%3A%20%22evenodd%22%2C%20%22lineCap%22%3A%20%22round%22%2C%20%22lineJoin%22%3A%20%22round%22%2C%20%22opacity%22%3A%201.0%2C%20%22radius%22%3A%202%2C%20%22stroke%22%3A%20true%2C%20%22weight%22%3A%203%7D%0A%20%20%20%20%20%20%20%20%20%20%20%20%29.addTo%28map_8b7d062d86314a519ee47979f7636100%29%3B%0A%20%20%20%20%20%20%20%20%0A%20%20%20%20%0A%20%20%20%20%20%20%20%20%20%20%20%20var%20circle_marker_2e0dd2bca05e41219cbd098e1a38d00a%20%3D%20L.circleMarker%28%0A%20%20%20%20%20%20%20%20%20%20%20%20%20%20%20%20%5B41.09296415%2C%2016.876808262923625%5D%2C%0A%20%20%20%20%20%20%20%20%20%20%20%20%20%20%20%20%7B%22bubblingMouseEvents%22%3A%20true%2C%20%22color%22%3A%20%22Black%22%2C%20%22dashArray%22%3A%20null%2C%20%22dashOffset%22%3A%20null%2C%20%22fill%22%3A%20true%2C%20%22fillColor%22%3A%20%22Black%22%2C%20%22fillOpacity%22%3A%200.2%2C%20%22fillRule%22%3A%20%22evenodd%22%2C%20%22lineCap%22%3A%20%22round%22%2C%20%22lineJoin%22%3A%20%22round%22%2C%20%22opacity%22%3A%201.0%2C%20%22radius%22%3A%202%2C%20%22stroke%22%3A%20true%2C%20%22weight%22%3A%203%7D%0A%20%20%20%20%20%20%20%20%20%20%20%20%29.addTo%28map_8b7d062d86314a519ee47979f7636100%29%3B%0A%20%20%20%20%20%20%20%20%0A%20%20%20%20%0A%20%20%20%20%20%20%20%20%20%20%20%20var%20circle_marker_c38f061753d7418b9730b172104c014c%20%3D%20L.circleMarker%28%0A%20%20%20%20%20%20%20%20%20%20%20%20%20%20%20%20%5B51.501666150000005%2C%20-3.1929973710543047%5D%2C%0A%20%20%20%20%20%20%20%20%20%20%20%20%20%20%20%20%7B%22bubblingMouseEvents%22%3A%20true%2C%20%22color%22%3A%20%22Black%22%2C%20%22dashArray%22%3A%20null%2C%20%22dashOffset%22%3A%20null%2C%20%22fill%22%3A%20true%2C%20%22fillColor%22%3A%20%22Black%22%2C%20%22fillOpacity%22%3A%200.2%2C%20%22fillRule%22%3A%20%22evenodd%22%2C%20%22lineCap%22%3A%20%22round%22%2C%20%22lineJoin%22%3A%20%22round%22%2C%20%22opacity%22%3A%201.0%2C%20%22radius%22%3A%202%2C%20%22stroke%22%3A%20true%2C%20%22weight%22%3A%203%7D%0A%20%20%20%20%20%20%20%20%20%20%20%20%29.addTo%28map_8b7d062d86314a519ee47979f7636100%29%3B%0A%20%20%20%20%20%20%20%20%0A%20%20%20%20%0A%20%20%20%20%20%20%20%20%20%20%20%20var%20circle_marker_728bb7f3a39246b6b564f7b30da3970c%20%3D%20L.circleMarker%28%0A%20%20%20%20%20%20%20%20%20%20%20%20%20%20%20%20%5B52.4796992%2C%20-1.9026911%5D%2C%0A%20%20%20%20%20%20%20%20%20%20%20%20%20%20%20%20%7B%22bubblingMouseEvents%22%3A%20true%2C%20%22color%22%3A%20%22Black%22%2C%20%22dashArray%22%3A%20null%2C%20%22dashOffset%22%3A%20null%2C%20%22fill%22%3A%20true%2C%20%22fillColor%22%3A%20%22Black%22%2C%20%22fillOpacity%22%3A%200.2%2C%20%22fillRule%22%3A%20%22evenodd%22%2C%20%22lineCap%22%3A%20%22round%22%2C%20%22lineJoin%22%3A%20%22round%22%2C%20%22opacity%22%3A%201.0%2C%20%22radius%22%3A%202%2C%20%22stroke%22%3A%20true%2C%20%22weight%22%3A%203%7D%0A%20%20%20%20%20%20%20%20%20%20%20%20%29.addTo%28map_8b7d062d86314a519ee47979f7636100%29%3B%0A%20%20%20%20%20%20%20%20%0A%20%20%20%20%0A%20%20%20%20%20%20%20%20%20%20%20%20var%20circle_marker_340dc6d5cc2d40ac96178275804bbeb3%20%3D%20L.circleMarker%28%0A%20%20%20%20%20%20%20%20%20%20%20%20%20%20%20%20%5B49.841952%2C%2024.0315921%5D%2C%0A%20%20%20%20%20%20%20%20%20%20%20%20%20%20%20%20%7B%22bubblingMouseEvents%22%3A%20true%2C%20%22color%22%3A%20%22Black%22%2C%20%22dashArray%22%3A%20null%2C%20%22dashOffset%22%3A%20null%2C%20%22fill%22%3A%20true%2C%20%22fillColor%22%3A%20%22Black%22%2C%20%22fillOpacity%22%3A%200.2%2C%20%22fillRule%22%3A%20%22evenodd%22%2C%20%22lineCap%22%3A%20%22round%22%2C%20%22lineJoin%22%3A%20%22round%22%2C%20%22opacity%22%3A%201.0%2C%20%22radius%22%3A%202%2C%20%22stroke%22%3A%20true%2C%20%22weight%22%3A%203%7D%0A%20%20%20%20%20%20%20%20%20%20%20%20%29.addTo%28map_8b7d062d86314a519ee47979f7636100%29%3B%0A%20%20%20%20%20%20%20%20%0A%3C/script%3E onload=\"this.contentDocument.open();this.contentDocument.write(    decodeURIComponent(this.getAttribute('data-html')));this.contentDocument.close();\" allowfullscreen webkitallowfullscreen mozallowfullscreen></iframe></div></div>"
      ],
      "text/plain": [
       "<folium.folium.Map at 0x2422556b250>"
      ]
     },
     "execution_count": 66,
     "metadata": {},
     "output_type": "execute_result"
    }
   ],
   "source": [
    "import folium\n",
    "from folium.plugins import MarkerCluster\n",
    "#empty map\n",
    "world_map= folium.Map(tiles=\"cartodbpositron\")\n",
    "#marker_cluster = MarkerCluster().add_to(world_map)\n",
    "#for each coordinate, create circlemarker of user percent\n",
    "for i in range(len(gdf)):\n",
    "        lat = gdf.iloc[i]['lat']\n",
    "        long = gdf.iloc[i]['lon']\n",
    "        radius=2\n",
    "        folium.CircleMarker(location = [lat, long], color= \"Black\", radius=radius, fill =True).add_to(world_map)#.add_to(marker_cluster)add_to(world_map)\n",
    "#show the map\n",
    "world_map"
   ]
  },
  {
   "cell_type": "code",
   "execution_count": 67,
   "id": "tested-vietnamese",
   "metadata": {},
   "outputs": [],
   "source": [
    "from pathlib import Path"
   ]
  },
  {
   "cell_type": "code",
   "execution_count": 78,
   "id": "structural-legislation",
   "metadata": {},
   "outputs": [],
   "source": [
    "def get_all_key_and_unique_values(graph_nx: MultiDiGraph, selected_keys: Dict = {}) -> Dict:\n",
    "    seen_values = {}\n",
    "    if not selected_keys:\n",
    "        selected_keys = ['oneway', 'lanes', 'highway', \n",
    "                         'maxspeed', 'access', 'bridge',\n",
    "                         'junction', 'service', 'tunnel', 'surface'] #'width','length'\n",
    "\n",
    "    #get all values by selected key for each edge\n",
    "    for edge in graph_nx.edges():\n",
    "        for connection in graph_nx[edge[0]][edge[1]].keys():\n",
    "            for key, val in graph_nx[edge[0]][edge[1]][connection].items():\n",
    "                if key in selected_keys:\n",
    "                    if key not in seen_values:\n",
    "                        seen_values[key] = [val]\n",
    "                    else:\n",
    "                        if type(val) == list:\n",
    "                            seen_values[key].extend(val)\n",
    "                        else:\n",
    "                            seen_values[key].extend([val])\n",
    "\n",
    "\n",
    "    for key in seen_values.keys():\n",
    "        seen_values[key] = list(set(seen_values[key]))\n",
    "    return seen_values"
   ]
  },
  {
   "cell_type": "code",
   "execution_count": 122,
   "id": "actual-pressing",
   "metadata": {},
   "outputs": [],
   "source": [
    "    import pickle\n"
   ]
  },
  {
   "cell_type": "code",
   "execution_count": 123,
   "id": "accurate-limit",
   "metadata": {},
   "outputs": [],
   "source": [
    "def get_unique_val_for_many_graphs(directory, target_dir):\n",
    "    found_files = list(Path(directory).glob('*.xml'))\n",
    "    all_seen = {}\n",
    "    for path in tqdm(found_files):\n",
    "        raw_graphml = ox.io.load_graphml(path)\n",
    "        seen_values = get_all_key_and_unique_values(raw_graphml)\n",
    "        \n",
    "        for key, val in seen_values.items():\n",
    "            if key not in all_seen.keys():\n",
    "                all_seen[key] = val                  \n",
    "            else:\n",
    "                if type(val) == list:\n",
    "                    all_seen[key].extend(val)\n",
    "                else:\n",
    "                    all_seen[key].extend([val])\n",
    "    for key in seen_values.keys():\n",
    "        all_seen[key] = list(set(all_seen[key]))\n",
    "        \n",
    "\n",
    "    with open(target_dir + \"unique_kv.pkl\", 'wb+') as handle:\n",
    "        pickle.dump(all_seen, handle, protocol=pickle.HIGHEST_PROTOCOL) \n",
    "        \n",
    "    return all_seen\n",
    "            \n",
    "    "
   ]
  },
  {
   "cell_type": "code",
   "execution_count": 87,
   "id": "expensive-greensboro",
   "metadata": {},
   "outputs": [
    {
     "name": "stderr",
     "output_type": "stream",
     "text": [
      "100%|██████████| 2/2 [00:47<00:00, 23.88s/it]\n"
     ]
    }
   ],
   "source": [
    "unique_val = get_unique_val_for_many_graphs(\"./data_raw/\", \"./data/\")"
   ]
  },
  {
   "cell_type": "code",
   "execution_count": 97,
   "id": "burning-heather",
   "metadata": {},
   "outputs": [
    {
     "name": "stdout",
     "output_type": "stream",
     "text": [
      " Volume in drive C is Acer\n",
      " Volume Serial Number is 98FE-6CA9\n",
      "\n",
      " Directory of C:\\Users\\fdrew\\Documents\\praca_magisterska\\SpatialGraphMAE\n",
      "\n"
     ]
    },
    {
     "name": "stderr",
     "output_type": "stream",
     "text": [
      "File Not Found\n"
     ]
    }
   ],
   "source": [
    "!dir data-raw"
   ]
  },
  {
   "cell_type": "code",
   "execution_count": 113,
   "id": "broke-smell",
   "metadata": {},
   "outputs": [],
   "source": [
    "graph_nx = ox.io.load_graphml(\"./data_raw/Wrocław_Polska_recent.xml\")\n",
    "graph_nx_copy = graph_nx.copy()\n",
    "\n",
    "selected_keys = ['oneway', 'lanes', 'highway', \n",
    "                         'maxspeed', 'access', 'bridge',\n",
    "                         'junction', 'service', 'tunnel', 'surface'] \n",
    "\n",
    "for edge in graph_nx.edges():\n",
    "        for connection in graph_nx[edge[0]][edge[1]].keys():\n",
    "            for key, val in graph_nx[edge[0]][edge[1]][connection].items():\n",
    "                if key in selected_keys:\n",
    "                    new_key = key + \"_\" + str(val)\n",
    "                    graph_nx_copy[edge[0]][edge[1]][connection][new_key] = 1\n",
    "            for key, val in unique_val.items():\n",
    "                for elem in val:\n",
    "                    new_key = key + \"_\" + str(elem)\n",
    "                    if new_key not in graph_nx[edge[0]][edge[1]][connection]:\n",
    "                        graph_nx_copy[edge[0]][edge[1]][connection][new_key] = 0\n",
    "#ox.save_graphml(graph_nx_copy, filepath=\"./data_raw/{}_onehot.xml\".format('Wrocław_Polska_recent'))\n"
   ]
  },
  {
   "cell_type": "code",
   "execution_count": 149,
   "id": "editorial-technology",
   "metadata": {},
   "outputs": [],
   "source": [
    "def encode_onehot(graph_nx, unique_val, selected_keys):\n",
    "    graph_nx_copy = graph_nx.copy()\n",
    "    \n",
    "    key_width_and_length = ['length', 'width']\n",
    "\n",
    "    for edge in graph_nx.edges():\n",
    "            for connection in graph_nx[edge[0]][edge[1]].keys():\n",
    "                for key, val in graph_nx[edge[0]][edge[1]][connection].items():\n",
    "                    if key in selected_keys:\n",
    "                        new_key = key + \"_\" + str(val)\n",
    "                        graph_nx_copy[edge[0]][edge[1]][connection][new_key] = 1\n",
    "                    if key in key_width_and_length:\n",
    "                        try:\n",
    "                            if type(val) == list:\n",
    "                                graph_nx_copy[edge[0]][edge[1]][connection][key] = float(val[0])\n",
    "                            else:\n",
    "                                graph_nx_copy[edge[0]][edge[1]][connection][key] = float(val)\n",
    "                        except ValueError as e:\n",
    "                            graph_nx_copy[edge[0]][edge[1]][connection][key] = 0.0\n",
    "                for key, val in unique_val.items():\n",
    "                    for elem in val:\n",
    "                        new_key = key + \"_\" + str(elem)\n",
    "                        if new_key not in graph_nx[edge[0]][edge[1]][connection]:\n",
    "                            graph_nx_copy[edge[0]][edge[1]][connection][new_key] = 0\n",
    "                if 'length' not in graph_nx[edge[0]][edge[1]][connection].keys():\n",
    "                    graph_nx_copy[edge[0]][edge[1]][connection]['length'] = 0.0\n",
    "                if 'width' not in graph_nx[edge[0]][edge[1]][connection].keys():\n",
    "                    graph_nx_copy[edge[0]][edge[1]][connection]['width'] = 0.0\n",
    "\n",
    "    return graph_nx_copy"
   ]
  },
  {
   "cell_type": "code",
   "execution_count": 150,
   "id": "macro-season",
   "metadata": {
    "scrolled": true
   },
   "outputs": [
    {
     "name": "stderr",
     "output_type": "stream",
     "text": [
      "100%|██████████| 2/2 [00:37<00:00, 18.68s/it]\n"
     ]
    },
    {
     "name": "stdout",
     "output_type": "stream",
     "text": [
      "81\n",
      "nesxr\n"
     ]
    },
    {
     "ename": "ValueError",
     "evalue": "too many dimensions 'str'",
     "output_type": "error",
     "traceback": [
      "\u001b[1;31m---------------------------------------------------------------------------\u001b[0m",
      "\u001b[1;31mValueError\u001b[0m                                Traceback (most recent call last)",
      "\u001b[1;32m<ipython-input-150-11f53a08ebf1>\u001b[0m in \u001b[0;36m<module>\u001b[1;34m\u001b[0m\n\u001b[0;32m     19\u001b[0m \u001b[0mgraph_nx_encoded\u001b[0m \u001b[1;33m=\u001b[0m \u001b[0mencode_onehot\u001b[0m\u001b[1;33m(\u001b[0m\u001b[0mgraph_nx\u001b[0m\u001b[1;33m,\u001b[0m \u001b[0munique_val\u001b[0m\u001b[1;33m,\u001b[0m \u001b[0mselected_keys\u001b[0m\u001b[1;33m)\u001b[0m\u001b[1;33m\u001b[0m\u001b[1;33m\u001b[0m\u001b[0m\n\u001b[0;32m     20\u001b[0m \u001b[0mprint\u001b[0m\u001b[1;33m(\u001b[0m\u001b[1;34m'nesxr'\u001b[0m\u001b[1;33m)\u001b[0m\u001b[1;33m\u001b[0m\u001b[1;33m\u001b[0m\u001b[0m\n\u001b[1;32m---> 21\u001b[1;33m \u001b[0mdgl_line_graph\u001b[0m \u001b[1;33m=\u001b[0m \u001b[0mconvert_nx_to_dgl_as_linegraph_v2\u001b[0m\u001b[1;33m(\u001b[0m\u001b[0mgraph_nx_encoded\u001b[0m\u001b[1;33m,\u001b[0m \u001b[0mall_keys\u001b[0m\u001b[1;33m)\u001b[0m\u001b[1;33m\u001b[0m\u001b[1;33m\u001b[0m\u001b[0m\n\u001b[0m\u001b[0;32m     22\u001b[0m \u001b[1;33m\u001b[0m\u001b[0m\n\u001b[0;32m     23\u001b[0m \u001b[0mdgl_line_graph_with_masks\u001b[0m\u001b[1;33m,\u001b[0m \u001b[0melem_n\u001b[0m\u001b[1;33m,\u001b[0m \u001b[0mscaler_n\u001b[0m \u001b[1;33m=\u001b[0m \u001b[0mcreate_mask\u001b[0m\u001b[1;33m(\u001b[0m\u001b[0mdgl_line_graph\u001b[0m\u001b[1;33m)\u001b[0m\u001b[1;33m\u001b[0m\u001b[1;33m\u001b[0m\u001b[0m\n",
      "\u001b[1;32m<ipython-input-140-dd9f865f462c>\u001b[0m in \u001b[0;36mconvert_nx_to_dgl_as_linegraph_v2\u001b[1;34m(graph_nx, selected_keys)\u001b[0m\n\u001b[0;32m      1\u001b[0m \u001b[1;32mdef\u001b[0m \u001b[0mconvert_nx_to_dgl_as_linegraph_v2\u001b[0m\u001b[1;33m(\u001b[0m\u001b[0mgraph_nx\u001b[0m\u001b[1;33m:\u001b[0m \u001b[0mMultiDiGraph\u001b[0m\u001b[1;33m,\u001b[0m \u001b[0mselected_keys\u001b[0m \u001b[1;33m:\u001b[0m\u001b[1;33m[\u001b[0m\u001b[1;33m]\u001b[0m\u001b[1;33m)\u001b[0m \u001b[1;33m->\u001b[0m \u001b[0mDGLHeteroGraph\u001b[0m\u001b[1;33m:\u001b[0m\u001b[1;33m\u001b[0m\u001b[1;33m\u001b[0m\u001b[0m\n\u001b[1;32m----> 2\u001b[1;33m     \u001b[0mgraph_dgl\u001b[0m \u001b[1;33m=\u001b[0m \u001b[0mdgl\u001b[0m\u001b[1;33m.\u001b[0m\u001b[0mfrom_networkx\u001b[0m\u001b[1;33m(\u001b[0m\u001b[0mgraph_nx\u001b[0m\u001b[1;33m,\u001b[0m \u001b[0medge_attrs\u001b[0m \u001b[1;33m=\u001b[0m \u001b[1;33m(\u001b[0m\u001b[0mselected_keys\u001b[0m\u001b[1;33m+\u001b[0m\u001b[1;33m[\u001b[0m\u001b[1;34m'label'\u001b[0m\u001b[1;33m,\u001b[0m \u001b[1;34m'idx'\u001b[0m\u001b[1;33m]\u001b[0m\u001b[1;33m)\u001b[0m\u001b[1;33m)\u001b[0m\u001b[1;33m\u001b[0m\u001b[1;33m\u001b[0m\u001b[0m\n\u001b[0m\u001b[0;32m      3\u001b[0m     \u001b[0mgraph_dgl_line_graph\u001b[0m \u001b[1;33m=\u001b[0m \u001b[0mdgl\u001b[0m\u001b[1;33m.\u001b[0m\u001b[0mline_graph\u001b[0m\u001b[1;33m(\u001b[0m\u001b[0mgraph_dgl\u001b[0m\u001b[1;33m)\u001b[0m\u001b[1;33m\u001b[0m\u001b[1;33m\u001b[0m\u001b[0m\n\u001b[0;32m      4\u001b[0m     \u001b[1;31m#populate linegraph with nodes\u001b[0m\u001b[1;33m\u001b[0m\u001b[1;33m\u001b[0m\u001b[1;33m\u001b[0m\u001b[0m\n\u001b[0;32m      5\u001b[0m \u001b[1;33m\u001b[0m\u001b[0m\n",
      "\u001b[1;32m~\\Anaconda3\\envs\\pwr_pmg_3_8\\lib\\site-packages\\dgl\\convert.py\u001b[0m in \u001b[0;36mfrom_networkx\u001b[1;34m(nx_graph, node_attrs, edge_attrs, edge_id_attr_name, idtype, device)\u001b[0m\n\u001b[0;32m   1306\u001b[0m                 \u001b[1;32mif\u001b[0m \u001b[0mval\u001b[0m \u001b[1;32mis\u001b[0m \u001b[1;32mNone\u001b[0m\u001b[1;33m:\u001b[0m\u001b[1;33m\u001b[0m\u001b[1;33m\u001b[0m\u001b[0m\n\u001b[0;32m   1307\u001b[0m                     \u001b[1;32mraise\u001b[0m \u001b[0mDGLError\u001b[0m\u001b[1;33m(\u001b[0m\u001b[1;34m'Not all edges have attribute {}.'\u001b[0m\u001b[1;33m.\u001b[0m\u001b[0mformat\u001b[0m\u001b[1;33m(\u001b[0m\u001b[0mattr\u001b[0m\u001b[1;33m)\u001b[0m\u001b[1;33m)\u001b[0m\u001b[1;33m\u001b[0m\u001b[1;33m\u001b[0m\u001b[0m\n\u001b[1;32m-> 1308\u001b[1;33m             \u001b[0mg\u001b[0m\u001b[1;33m.\u001b[0m\u001b[0medata\u001b[0m\u001b[1;33m[\u001b[0m\u001b[0mattr\u001b[0m\u001b[1;33m]\u001b[0m \u001b[1;33m=\u001b[0m \u001b[0mF\u001b[0m\u001b[1;33m.\u001b[0m\u001b[0mcopy_to\u001b[0m\u001b[1;33m(\u001b[0m\u001b[0m_batcher\u001b[0m\u001b[1;33m(\u001b[0m\u001b[0mattr_dict\u001b[0m\u001b[1;33m[\u001b[0m\u001b[0mattr\u001b[0m\u001b[1;33m]\u001b[0m\u001b[1;33m)\u001b[0m\u001b[1;33m,\u001b[0m \u001b[0mg\u001b[0m\u001b[1;33m.\u001b[0m\u001b[0mdevice\u001b[0m\u001b[1;33m)\u001b[0m\u001b[1;33m\u001b[0m\u001b[1;33m\u001b[0m\u001b[0m\n\u001b[0m\u001b[0;32m   1309\u001b[0m \u001b[1;33m\u001b[0m\u001b[0m\n\u001b[0;32m   1310\u001b[0m     \u001b[1;32mreturn\u001b[0m \u001b[0mg\u001b[0m\u001b[1;33m.\u001b[0m\u001b[0mto\u001b[0m\u001b[1;33m(\u001b[0m\u001b[0mdevice\u001b[0m\u001b[1;33m)\u001b[0m\u001b[1;33m\u001b[0m\u001b[1;33m\u001b[0m\u001b[0m\n",
      "\u001b[1;32m~\\Anaconda3\\envs\\pwr_pmg_3_8\\lib\\site-packages\\dgl\\convert.py\u001b[0m in \u001b[0;36m_batcher\u001b[1;34m(lst)\u001b[0m\n\u001b[0;32m   1271\u001b[0m             \u001b[1;32mreturn\u001b[0m \u001b[0mF\u001b[0m\u001b[1;33m.\u001b[0m\u001b[0mcat\u001b[0m\u001b[1;33m(\u001b[0m\u001b[1;33m[\u001b[0m\u001b[0mF\u001b[0m\u001b[1;33m.\u001b[0m\u001b[0munsqueeze\u001b[0m\u001b[1;33m(\u001b[0m\u001b[0mx\u001b[0m\u001b[1;33m,\u001b[0m \u001b[1;36m0\u001b[0m\u001b[1;33m)\u001b[0m \u001b[1;32mfor\u001b[0m \u001b[0mx\u001b[0m \u001b[1;32min\u001b[0m \u001b[0mlst\u001b[0m\u001b[1;33m]\u001b[0m\u001b[1;33m,\u001b[0m \u001b[0mdim\u001b[0m\u001b[1;33m=\u001b[0m\u001b[1;36m0\u001b[0m\u001b[1;33m)\u001b[0m\u001b[1;33m\u001b[0m\u001b[1;33m\u001b[0m\u001b[0m\n\u001b[0;32m   1272\u001b[0m         \u001b[1;32melse\u001b[0m\u001b[1;33m:\u001b[0m\u001b[1;33m\u001b[0m\u001b[1;33m\u001b[0m\u001b[0m\n\u001b[1;32m-> 1273\u001b[1;33m             \u001b[1;32mreturn\u001b[0m \u001b[0mF\u001b[0m\u001b[1;33m.\u001b[0m\u001b[0mtensor\u001b[0m\u001b[1;33m(\u001b[0m\u001b[0mlst\u001b[0m\u001b[1;33m)\u001b[0m\u001b[1;33m\u001b[0m\u001b[1;33m\u001b[0m\u001b[0m\n\u001b[0m\u001b[0;32m   1274\u001b[0m     \u001b[1;32mif\u001b[0m \u001b[0mnode_attrs\u001b[0m \u001b[1;32mis\u001b[0m \u001b[1;32mnot\u001b[0m \u001b[1;32mNone\u001b[0m\u001b[1;33m:\u001b[0m\u001b[1;33m\u001b[0m\u001b[1;33m\u001b[0m\u001b[0m\n\u001b[0;32m   1275\u001b[0m         \u001b[1;31m# mapping from feature name to a list of tensors to be concatenated\u001b[0m\u001b[1;33m\u001b[0m\u001b[1;33m\u001b[0m\u001b[1;33m\u001b[0m\u001b[0m\n",
      "\u001b[1;32m~\\Anaconda3\\envs\\pwr_pmg_3_8\\lib\\site-packages\\dgl\\backend\\pytorch\\tensor.py\u001b[0m in \u001b[0;36mtensor\u001b[1;34m(data, dtype)\u001b[0m\n\u001b[0;32m     38\u001b[0m         \u001b[1;32mreturn\u001b[0m \u001b[0mth\u001b[0m\u001b[1;33m.\u001b[0m\u001b[0mas_tensor\u001b[0m\u001b[1;33m(\u001b[0m\u001b[0mdata\u001b[0m\u001b[1;33m,\u001b[0m \u001b[0mdtype\u001b[0m\u001b[1;33m=\u001b[0m\u001b[0mdtype\u001b[0m\u001b[1;33m,\u001b[0m \u001b[0mdevice\u001b[0m\u001b[1;33m=\u001b[0m\u001b[0mdata\u001b[0m\u001b[1;33m.\u001b[0m\u001b[0mdevice\u001b[0m\u001b[1;33m)\u001b[0m\u001b[1;33m\u001b[0m\u001b[1;33m\u001b[0m\u001b[0m\n\u001b[0;32m     39\u001b[0m     \u001b[1;32melse\u001b[0m\u001b[1;33m:\u001b[0m\u001b[1;33m\u001b[0m\u001b[1;33m\u001b[0m\u001b[0m\n\u001b[1;32m---> 40\u001b[1;33m         \u001b[1;32mreturn\u001b[0m \u001b[0mth\u001b[0m\u001b[1;33m.\u001b[0m\u001b[0mas_tensor\u001b[0m\u001b[1;33m(\u001b[0m\u001b[0mdata\u001b[0m\u001b[1;33m,\u001b[0m \u001b[0mdtype\u001b[0m\u001b[1;33m=\u001b[0m\u001b[0mdtype\u001b[0m\u001b[1;33m)\u001b[0m\u001b[1;33m\u001b[0m\u001b[1;33m\u001b[0m\u001b[0m\n\u001b[0m\u001b[0;32m     41\u001b[0m \u001b[1;33m\u001b[0m\u001b[0m\n\u001b[0;32m     42\u001b[0m \u001b[1;32mdef\u001b[0m \u001b[0mas_scalar\u001b[0m\u001b[1;33m(\u001b[0m\u001b[0mdata\u001b[0m\u001b[1;33m)\u001b[0m\u001b[1;33m:\u001b[0m\u001b[1;33m\u001b[0m\u001b[1;33m\u001b[0m\u001b[0m\n",
      "\u001b[1;31mValueError\u001b[0m: too many dimensions 'str'"
     ]
    }
   ],
   "source": [
    "selected_keys = ['oneway', 'lanes', 'highway', \n",
    "                 'maxspeed', 'access', 'bridge',\n",
    "                 'junction', 'service', 'tunnel', 'surface'] \n",
    "graph_nx = ox.io.load_graphml(\"./data_raw/Wrocław_Polska_recent.xml\")\n",
    "\n",
    "unique_val = get_unique_val_for_many_graphs(\"./data_raw/\", \"./data/\")\n",
    "\n",
    "all_keys = []\n",
    "for key, val in unique_val.items():\n",
    "    for elem in val:\n",
    "        new_key = key + \"_\" + str(elem)\n",
    "        all_keys.append(new_key)\n",
    "        \n",
    "all_keys.append('length')\n",
    "all_keys.append('width')\n",
    "print(len(all_keys))\n",
    "\n",
    "        \n",
    "graph_nx_encoded = encode_onehot(graph_nx, unique_val, selected_keys)\n",
    "print('nesxr')\n",
    "dgl_line_graph = convert_nx_to_dgl_as_linegraph_v2(graph_nx_encoded, all_keys)\n",
    "\n",
    "dgl_line_graph_with_masks, elem_n, scaler_n = create_mask(dgl_line_graph)\n"
   ]
  },
  {
   "cell_type": "code",
   "execution_count": null,
   "id": "korean-doubt",
   "metadata": {},
   "outputs": [],
   "source": [
    "ox.save_graphml(dgl_line_graph_with_masks, filepath=\"./data_raw/{}_onehot.xml\".format('Wrocław_Polska_recent'))"
   ]
  },
  {
   "cell_type": "code",
   "execution_count": null,
   "id": "touched-minister",
   "metadata": {
    "scrolled": true
   },
   "outputs": [],
   "source": [
    "graph_nx_encoded[95584835][6152142174]\n"
   ]
  },
  {
   "cell_type": "code",
   "execution_count": 140,
   "id": "living-domain",
   "metadata": {},
   "outputs": [],
   "source": [
    "def convert_nx_to_dgl_as_linegraph_v2(graph_nx: MultiDiGraph, selected_keys :[]) -> DGLHeteroGraph:\n",
    "    graph_dgl = dgl.from_networkx(graph_nx, edge_attrs = (selected_keys+['label', 'idx']))\n",
    "    graph_dgl_line_graph = dgl.line_graph(graph_dgl)\n",
    "    #populate linegraph with nodes\n",
    "    \n",
    "    features_to_line_graph = [graph_dgl.edata[key] for key in selected_keys]\n",
    "    \n",
    "    graph_dgl_line_graph.ndata['feat'] = torch.cat(features_to_line_graph).reshape((-1, len(selected_keys)))\n",
    "    graph_dgl_line_graph.ndata['label'] = graph_dgl.edata['label']\n",
    "    graph_dgl_line_graph.ndata['id'] = graph_dgl.edata['id']\n",
    "\n",
    "\n",
    "    return graph_dgl_line_graph"
   ]
  },
  {
   "cell_type": "code",
   "execution_count": 119,
   "id": "constitutional-amazon",
   "metadata": {},
   "outputs": [],
   "source": [
    "dgl_graoh = convert_nx_to_dgl_as_linegraph_v2(graph_nx_copy, all_keys)"
   ]
  },
  {
   "cell_type": "code",
   "execution_count": 120,
   "id": "known-petersburg",
   "metadata": {},
   "outputs": [
    {
     "data": {
      "text/plain": [
       "Graph(num_nodes=142983, num_edges=416463,\n",
       "      ndata_schemes={'feat': Scheme(shape=(79,), dtype=torch.int64)}\n",
       "      edata_schemes={})"
      ]
     },
     "execution_count": 120,
     "metadata": {},
     "output_type": "execute_result"
    }
   ],
   "source": [
    "dgl_graoh"
   ]
  },
  {
   "cell_type": "code",
   "execution_count": null,
   "id": "pharmaceutical-element",
   "metadata": {},
   "outputs": [],
   "source": [
    "from dgl.data.utils import save_graphs\n",
    "save_graphs(\"./data_transformed/wro_onehoted.graph\", [dgl_line_graph_with_masks])"
   ]
  },
  {
   "cell_type": "code",
   "execution_count": null,
   "id": "polyphonic-helicopter",
   "metadata": {},
   "outputs": [],
   "source": [
    "def count_keys_in_edges(directory, target_dir, all_seen):\n",
    "    found_files = list(Path(directory).glob('*.xml'))\n",
    "    all_seen = {}\n",
    "    for path in tqdm(found_files):\n",
    "        raw_graphml = ox.io.load_graphml(path)\n",
    "        seen_values = get_all_key_and_unique_values(raw_graphml)\n",
    "        \n",
    "        for key, val in seen_values.items():\n",
    "            if key not in all_seen.keys():\n",
    "                all_seen[key] = val                  \n",
    "            else:\n",
    "                if type(val) == list:\n",
    "                    all_seen[key].extend(val)\n",
    "                else:\n",
    "                    all_seen[key].extend([val])\n",
    "    for key in seen_values.keys():\n",
    "        all_seen[key] = list(set(all_seen[key]))\n",
    "        \n",
    "\n",
    "    with open(target_dir + \"unique_kv.pkl\", 'wb+') as handle:\n",
    "        pickle.dump(all_seen, handle, protocol=pickle.HIGHEST_PROTOCOL) \n",
    "        \n",
    "    return all_seen    "
   ]
  }
 ],
 "metadata": {
  "kernelspec": {
   "display_name": "Python 3",
   "language": "python",
   "name": "python3"
  },
  "language_info": {
   "codemirror_mode": {
    "name": "ipython",
    "version": 3
   },
   "file_extension": ".py",
   "mimetype": "text/x-python",
   "name": "python",
   "nbconvert_exporter": "python",
   "pygments_lexer": "ipython3",
   "version": "3.8.8"
  }
 },
 "nbformat": 4,
 "nbformat_minor": 5
}
